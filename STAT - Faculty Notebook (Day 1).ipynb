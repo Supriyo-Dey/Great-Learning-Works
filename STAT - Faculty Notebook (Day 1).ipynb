{
 "cells": [
  {
   "cell_type": "markdown",
   "metadata": {},
   "source": [
    "<table align=\"left\" width=100%>\n",
    "    <tr>\n",
    "        <td width=\"20%\">\n",
    "            <img src=\"faculty.png\">\n",
    "        </td>\n",
    "        <td>\n",
    "            <div align=\"center\">\n",
    "                <font color=\"#21618C\" size=8px>\n",
    "                  <b> Faculty Notebook <br> (Day 1) </b>\n",
    "                </font>\n",
    "            </div>\n",
    "        </td>\n",
    "    </tr>\n",
    "</table>"
   ]
  },
  {
   "cell_type": "markdown",
   "metadata": {},
   "source": [
    "## Table of Content\n",
    "\n",
    "1. **[Import Libraries](#lib)**\n",
    "2. **[Descriptive Statistics](#des)**\n",
    "    - 2.1 - **[Measures of Central Tendency](#CT)**\n",
    "    - 2.2 - **[Measures of Dispersion](#disp)**\n",
    "    - 2.3 - **[Skewness and Kurtosis](#sk)**\n",
    "    - 2.4 - **[Covariance and Correlation](#cc)**\n",
    "3. **[Random Variable](#var)**\n",
    "    - 3.1 - **[Types of Random Variable](#rv)**\n",
    "4. **[Probability](#prob)**\n",
    "    - 4.1 - **[Conditional Probability](#cond)**\n",
    "        - 4.1.1 - **[Bayes' Theorem](#bayes)**\n",
    "5. **[Probability Distributions](#dist)**\n",
    "     - 5.1 - **[Discrete Probability Distributions](#dis)**\n",
    "         - 5.1.1 - **[Discrete Uniform Distribution](#dis_uni)**\n",
    "         - 5.1.2 - **[Bernoulli Distribution](#bernoulli)**\n",
    "         - 5.1.3 - **[Binomial Distribution](#binomial)**\n",
    "         - 5.1.4 - **[Poisson Distribution](#poisson)**\n",
    "     - 5.2 - **[Continuous Probability Distributions](#cont)**\n",
    "         - 5.2.1 - **[Continuous Uniform Distribution](#cont_uni)**\n",
    "         - 5.2.2 - **[Normal Distribution](#normal)**\n",
    "6. **[Sampling](#sample)**\n",
    "    - 6.1 - **[Simple Random Sample](#SRS)**\n",
    "    - 6.2 - **[Stratified Sample](#strata)**\n",
    "    - 6.3 - **[Systematic Sample](#sys)**\n",
    "    - 6.4 - **[Cluster Sample](#cluster)**\n",
    "7. **[Central Limit Theorem (CLT)](#CLT)**"
   ]
  },
  {
   "cell_type": "markdown",
   "metadata": {},
   "source": [
    "<a id=\"lib\"></a>\n",
    "# 1. Import Libraries"
   ]
  },
  {
   "cell_type": "markdown",
   "metadata": {},
   "source": [
    "**Let us import the required libraries.**"
   ]
  },
  {
   "cell_type": "code",
   "execution_count": 1,
   "metadata": {},
   "outputs": [],
   "source": [
    "# import 'pandas' \n",
    "import pandas as pd \n",
    "\n",
    "# import 'numpy' \n",
    "import numpy as np\n",
    "\n",
    "# import subpackage of matplotlib\n",
    "import matplotlib.pyplot as plt\n",
    "from matplotlib import gridspec\n",
    "%matplotlib inline\n",
    "\n",
    "# import 'seaborn'\n",
    "import seaborn as sns\n",
    "\n",
    "# to suppress warnings \n",
    "from warnings import filterwarnings\n",
    "filterwarnings('ignore')\n",
    "\n",
    "# import 'factorial' from math library\n",
    "from math import factorial\n",
    "\n",
    "# import 'stats' package from scipy library\n",
    "from scipy import stats\n",
    "from scipy.stats import randint\n",
    "from scipy.stats import skewnorm\n",
    "\n",
    "# import 'random' to generate a random sample\n",
    "import random"
   ]
  },
  {
   "cell_type": "code",
   "execution_count": 2,
   "metadata": {},
   "outputs": [],
   "source": [
    "# set the plot size using 'rcParams'\n",
    "# once the plot size is set using 'rcParams', it sets the size of all the forthcoming plots in the file\n",
    "# pass width and height in inches to 'figure.figsize' \n",
    "plt.rcParams['figure.figsize'] = [15,8]"
   ]
  },
  {
   "cell_type": "markdown",
   "metadata": {},
   "source": [
    "The study of statistics is mainly divided into two parts: `Descriptive` and `Inferential`.\n",
    "\n",
    "Here we mainly focus on `Inferential Statistics`. Before that, let us recall the descriptive statistics methods learned as a part of exploratory data analysis."
   ]
  },
  {
   "cell_type": "markdown",
   "metadata": {},
   "source": [
    "<a id=\"des\"></a>\n",
    "# 2. Descriptive Statistics"
   ]
  },
  {
   "cell_type": "markdown",
   "metadata": {},
   "source": [
    "Descriptive statistics summarizes or describes the given data. It includes measures of central tendency, measures of dispersion and distribution of the data."
   ]
  },
  {
   "cell_type": "markdown",
   "metadata": {},
   "source": [
    "<a id=\"CT\"></a>\n",
    "## 2.1 Measures of Central Tendency"
   ]
  },
  {
   "cell_type": "markdown",
   "metadata": {},
   "source": [
    "A measure of central tendency is a value that distinguishes the central position of the data. It includes mean, median, mode and partition values of the data.\n",
    "\n",
    "### Mean:\n",
    "It is defined as the ratio of the sum of all the observations to the total number of observations. It is affected by the presence of outliers.\n",
    "\n",
    "### Median:\n",
    "It is the middlemost observation in the data when it is arranged in the increasing or decreasing order based on the values. It divides the dataset into two equal parts.\n",
    "\n",
    "### Mode: \n",
    "It is defined as the value in the data with the highest frequency. There can be more than one mode in the data.\n",
    "\n",
    "### Partition values:\n",
    "Partition values are defined as the values that divide the data into equal parts. `Quartiles` divide the data into 4 equal parts, `Deciles` divide the data into 10 equal parts and `Percentiles` divide the data into 100 equal parts."
   ]
  },
  {
   "cell_type": "markdown",
   "metadata": {},
   "source": [
    "### Example:\n",
    "\n",
    "#### 1. A manager handles 12 branches of a supermarket situated in the U.S.A. Consider one day sale (in dollars) of all the branches. Calculate the mean and median to find the average sale.\n",
    "    \n",
    "    Sale = [165, 182, 140, 193, 172, 168, 174, 124, 187, 204, 148, 175]"
   ]
  },
  {
   "cell_type": "code",
   "execution_count": 3,
   "metadata": {},
   "outputs": [
    {
     "name": "stdout",
     "output_type": "stream",
     "text": [
      "Mean: 169.33333333333334\n",
      "Median: 173.0\n"
     ]
    }
   ],
   "source": [
    "# given data\n",
    "sale = [165, 182, 140, 193, 172, 168, 174, 124, 187, 204, 148, 175]\n",
    "\n",
    "# calculate mean sale\n",
    "mean_sale = np.mean(sale)\n",
    "print('Mean:', mean_sale)\n",
    "\n",
    "# calculate median sale\n",
    "med_sale = np.median(sale)\n",
    "print('Median:', med_sale)"
   ]
  },
  {
   "cell_type": "markdown",
   "metadata": {},
   "source": [
    "<a id=\"disp\"></a>\n",
    "## 2.2 Measures of Dispersion"
   ]
  },
  {
   "cell_type": "markdown",
   "metadata": {},
   "source": [
    "A measure of dispersion describes the variability in the data. Some of the measures of dispersion are range, variance, standard deviation, coefficient of variation, and IQR.\n",
    "\n",
    "### Range:\n",
    "It is defined as the difference between the largest and smallest observation in the data. It is affected by the presence of extreme observations. \n",
    "\n",
    "### Variance: \n",
    "It calculates the dispersion of the data from the mean. It is defined as the average of the sum of squares of the difference between the observation and the mean.\n",
    "\n",
    "### Standard Deviation:\n",
    "It is the positive square root of variance. The unit of standard deviation is the same as the unit of data points. The variable with near-zero standard deviation is least important for the analysis.\n",
    "\n",
    "### Coefficient of Variation\n",
    "It is a measure of the dispersion of data points around the mean. It is always expressed in percentage. We can compare the coefficient of variation of two or more groups to identify the group with more spread.\n",
    "\n",
    "### Interquartile Range (IQR):\n",
    "It is defined as the difference between the third and first quartiles. It returns the range of the middle 50% of the data. IQR can be used to identify the outliers in the data."
   ]
  },
  {
   "cell_type": "markdown",
   "metadata": {},
   "source": [
    "### Example:\n",
    "\n",
    "#### 1. A manager handles 12 branches of a supermarket situated in the U.S.A. Consider one day sale (in dollars) of all the branches. Calculate the standard deviation of the sale. Also, find the range in which the middle 50% of the sale would lie.\n",
    "    \n",
    "    Sale = [165, 182, 140, 193, 172, 168, 174, 124, 187, 204, 148, 175]"
   ]
  },
  {
   "cell_type": "code",
   "execution_count": 4,
   "metadata": {},
   "outputs": [
    {
     "name": "stdout",
     "output_type": "stream",
     "text": [
      "Standard Deviation: 21.76898915634093\n",
      "Range of the middle 50% of the sale: 22.5\n"
     ]
    }
   ],
   "source": [
    "# given sale\n",
    "sale = [165, 182, 140, 193, 172, 168, 174, 124, 187, 204, 148, 175]\n",
    "\n",
    "# calculate standard deviation\n",
    "std_sale = np.std(sale)\n",
    "print('Standard Deviation:', std_sale)\n",
    "\n",
    "# calculate the IQR to obtain the range of middle 50% of the sale\n",
    "\n",
    "# 1st quartile\n",
    "# pass the sale values to the parameter, 'a'\n",
    "# pass the required quantile value to the parameter, 'q'\n",
    "Q1_sale = np.quantile(a = sale, q = 0.25)\n",
    "\n",
    "# 3rd quartile\n",
    "# pass the sale values to the parameter, 'a'\n",
    "# pass the required quantile value to the parameter, 'q'\n",
    "Q3_sale = np.quantile(a = sale, q = 0.75)\n",
    "\n",
    "# calculate IQR\n",
    "IQR = Q3_sale - Q1_sale\n",
    "\n",
    "print('Range of the middle 50% of the sale:', IQR)"
   ]
  },
  {
   "cell_type": "markdown",
   "metadata": {},
   "source": [
    "<a id=\"sk\"></a>\n",
    "## 2.3 Skewness and Kurtosis"
   ]
  },
  {
   "cell_type": "markdown",
   "metadata": {},
   "source": [
    "### Skewness:\n",
    "It measures the degree to which the distribution of the data differs from the normal distribution. The value of skewness can be `positive`, `negative`, or `zero`.\n",
    "\n",
    "### Kurtosis:\n",
    "It identifies the peakedness of the data distribution. The positive value of kurtosis represents the `leptokurtic` distribution, the negative value represents the `platykurtic` distribution, and zero value represents the `mesokurtic` distribution."
   ]
  },
  {
   "cell_type": "markdown",
   "metadata": {},
   "source": [
    "### Example:\n",
    "\n",
    "#### 1. A manager handles 12 branches of a supermarket situated in the U.S.A. Consider one day sale (in dollars) of all the branches. Identify the type of Skewness and Kurtosis for sales.\n",
    "    \n",
    "    Sale = [165, 182, 140, 193, 172, 168, 174, 124, 187, 204, 148, 175]"
   ]
  },
  {
   "cell_type": "code",
   "execution_count": 5,
   "metadata": {},
   "outputs": [
    {
     "name": "stdout",
     "output_type": "stream",
     "text": [
      "Skewness of Sale: -0.5285526567587567\n",
      "Kurtosis of Sale: -0.38240010775017863\n"
     ]
    }
   ],
   "source": [
    "# calculate the value of skewness to identify the type\n",
    "sale_kurt = stats.skew(sale)\n",
    "print('Skewness of Sale:', sale_kurt)\n",
    "\n",
    "# calculate the value of kurtosis to identify the type\n",
    "sale_kurt = stats.kurtosis(sale)\n",
    "print('Kurtosis of Sale:', sale_kurt)"
   ]
  },
  {
   "cell_type": "markdown",
   "metadata": {},
   "source": [
    "The above output shows that the value of skewness is negative which implies that the data is `negatively skewed`. Also, the value of kurtosis is negative that implies the distribution of the sales is `platykurtic`."
   ]
  },
  {
   "cell_type": "markdown",
   "metadata": {},
   "source": [
    "<a id=\"cc\"></a>\n",
    "## 2.4 Covariance and Correlation"
   ]
  },
  {
   "cell_type": "markdown",
   "metadata": {},
   "source": [
    "### Covariance:\n",
    "It measures the degree to which two variables move together. The value of covariance can be between $-\\infty$ to $\\infty$. The magnitude of covariance is not easy to interpret.  \n",
    "\n",
    "### Correlation:\n",
    "It is the normalized value of covariance. The correlation value near to +1 indicates a `strong positive` correlation between the variables, and value near to -1 indicates a `strong negative` correlation."
   ]
  },
  {
   "cell_type": "markdown",
   "metadata": {},
   "source": [
    "### Example:\n",
    "\n",
    "#### 1. A manager handles 12 branches of a supermarket situated in the U.S.A. Consider one day sale (in dollars) and working hours of all the branches. Find the relationship between the working hours of a store and its sales.\n",
    "    Sale = [165, 182, 140, 193, 172, 168, 174, 124, 187, 204, 148, 175]\n",
    "    Working hours = [7, 8.5, 8, 10, 9, 8, 8.5, 7.5, 9.5, 8.5, 8, 9]"
   ]
  },
  {
   "cell_type": "code",
   "execution_count": 6,
   "metadata": {},
   "outputs": [
    {
     "name": "stdout",
     "output_type": "stream",
     "text": [
      "Correlation coefficient: 0.6447248082202144\n"
     ]
    }
   ],
   "source": [
    "# given data\n",
    "sale = pd.Series([165, 182, 140, 193, 172, 168, 174, 124, 187, 204, 148, 175])\n",
    "working_hrs = pd.Series([7, 8.5, 8, 10, 9, 8, 8.5, 7.5, 9.5, 8.5, 8, 9])\n",
    "\n",
    "# calculate the correlation coefficient to find the relationship between working hours and sales of a store\n",
    "corr_coeff = working_hrs.corr(sale)\n",
    "\n",
    "print('Correlation coefficient:', corr_coeff)"
   ]
  },
  {
   "cell_type": "markdown",
   "metadata": {},
   "source": [
    "The value of the correlation coefficient shows that there is a positive correlation between the working hours and sales of a store."
   ]
  },
  {
   "cell_type": "markdown",
   "metadata": {},
   "source": [
    "<a id=\"var\"></a>\n",
    "# 3. Random Variable"
   ]
  },
  {
   "cell_type": "markdown",
   "metadata": {},
   "source": [
    "It is defined as a variable that takes all the possible values of a random experiment.\n",
    "\n",
    "### Example:\n",
    "\n",
    "    Consider rolling a die as a random experiment; then the random variable (X) takes the values 1, 2, 3, 4, 5, and 6.   "
   ]
  },
  {
   "cell_type": "markdown",
   "metadata": {},
   "source": [
    "<a id=\"rv\"></a>\n",
    "## 3.1 Types of Random Variable"
   ]
  },
  {
   "cell_type": "markdown",
   "metadata": {},
   "source": [
    "Two types of random variables:- discrete and continuous.\n",
    "\n",
    "`Discrete Random Variable`: A random variable that takes the finite or countably infinite number of values is called a discrete random variable. Let us study some of the examples of a discrete random variable:\n",
    "\n",
    "        1. Number of occupied car parking spots in the amusement park\n",
    "        2. Number of students selected in the exam hall\n",
    "        3. Number of home delivery orders taken by a restaurant in a day\n",
    "        4. Number of passengers passed through an airport's security check"
   ]
  },
  {
   "cell_type": "markdown",
   "metadata": {},
   "source": [
    "`Continuous Random Variable`: A random variable that takes an infinite number of values in a range is called a continuous random variable. Let us study some of the examples of a discrete random variable:\n",
    "\n",
    "        1. Weight of people registered for the fitness program\n",
    "        2. The diameter of the water pipe produced in a factory\n",
    "        3. The time between two consecutive bill payments in a supermarket\n",
    "        4. Mileage of a car"
   ]
  },
  {
   "cell_type": "markdown",
   "metadata": {},
   "source": [
    "<a id=\"prob\"></a>\n",
    "# 4. Probability"
   ]
  },
  {
   "cell_type": "markdown",
   "metadata": {},
   "source": [
    "An event is the outcome or collection of outcomes of an experiment. It is a subset of the `sample space`, which is defined as the set of all possible outcomes of an experiment. \n",
    "\n",
    "### Example: "
   ]
  },
  {
   "cell_type": "code",
   "execution_count": 7,
   "metadata": {},
   "outputs": [
    {
     "name": "stdout",
     "output_type": "stream",
     "text": [
      "A = {2}\n"
     ]
    }
   ],
   "source": [
    "# consider a set of first ten prime numbers\n",
    "sample_space = {2, 3, 5, 7, 11, 13, 17, 19, 23, 29}\n",
    "\n",
    "# consider an event A: Occurrence of even prime number\n",
    "A = set()\n",
    "\n",
    "# use the for loop to check the condition of even number on each element of the sample space\n",
    "for i in sample_space:\n",
    "    \n",
    "    # pass a condition to check whether the number is even\n",
    "    if (i%2 == 0):\n",
    "        \n",
    "        # add the number to 'A' if it is even\n",
    "        A.add(i)\n",
    "# print the set A\n",
    "print('A =', A)"
   ]
  },
  {
   "cell_type": "markdown",
   "metadata": {},
   "source": [
    "`Probability` is defined as the measure of the likelihood of an event to occur. Probability of occurrence of event A is denoted as `P(A)`. The probability of an event takes values between 0 and 1. The probability of sample space is always 1. \n",
    "\n",
    "The probability of complement of an event A is `P(A') = 1-P(A)`."
   ]
  },
  {
   "cell_type": "markdown",
   "metadata": {},
   "source": [
    "### Example:\n",
    "\n",
    "#### 1. If the letters of the word `AABRAAKAADAABRAA` are arranged at random, find the probability that 10 A's come consecutively in the word."
   ]
  },
  {
   "cell_type": "code",
   "execution_count": 8,
   "metadata": {},
   "outputs": [],
   "source": [
    "# set the frequency of each letter in the given word\n",
    "length_of_word = len(\"AABRAAKAADAABRAA\")\n",
    "No_of_A = 10\n",
    "No_of_B = 2\n",
    "No_of_R = 2\n",
    "No_of_K = 1\n",
    "No_of_D = 1"
   ]
  },
  {
   "cell_type": "markdown",
   "metadata": {},
   "source": [
    "If 10 A's come consecutively in the word, we consider 10 A's as one group ([AAAAAAAAAA]BRKDBR).\n",
    "\n",
    "Now the total number of letters is 6+1=7."
   ]
  },
  {
   "cell_type": "code",
   "execution_count": 9,
   "metadata": {},
   "outputs": [],
   "source": [
    "# number of words when all A's are together\n",
    "no_words_with_10A = factorial(7) / (factorial(No_of_B)*factorial(No_of_D)*factorial(No_of_K)*factorial(No_of_R))\n",
    "\n",
    "# total number of words using the letters of the word \"AABRAAKAADAABRAA\"\n",
    "total_words = factorial(length_of_word) /(factorial(No_of_A)*factorial(No_of_B)*factorial(No_of_D)*factorial(No_of_K)\n",
    "                                          *factorial(No_of_R))"
   ]
  },
  {
   "cell_type": "code",
   "execution_count": 10,
   "metadata": {},
   "outputs": [
    {
     "name": "stdout",
     "output_type": "stream",
     "text": [
      "The probability that 10 A's come consecutively in the word is 0.0008741258741258741\n"
     ]
    }
   ],
   "source": [
    "# the required probability is\n",
    "req_prob = (no_words_with_10A/total_words)\n",
    "print(\"The probability that 10 A's come consecutively in the word is\", req_prob)"
   ]
  },
  {
   "cell_type": "markdown",
   "metadata": {},
   "source": [
    "#### 2. If the letters of the word `AABRAAKAADAABRAA` are arranged at random, find the probability that 2 B's and 2 R's come together."
   ]
  },
  {
   "cell_type": "markdown",
   "metadata": {},
   "source": [
    "We consider 2 B's as 1 group and 2 R's as one group. Thus, the total letters will be 12 + 1 + 1 = 14."
   ]
  },
  {
   "cell_type": "code",
   "execution_count": 11,
   "metadata": {},
   "outputs": [],
   "source": [
    "# '\\' is used to continue the operation in next line\n",
    "# number of words when 2 B's and 2 R's come together\n",
    "no_words_with_2B_2R = (factorial(14) / (factorial(No_of_A)*factorial(No_of_D)*factorial(No_of_K))) * \\\n",
    "                      (factorial(4) / (factorial(2)*factorial(2)))\n",
    "\n",
    "# total number of words using the letters of the word \"AABRAAKAADAABRAA\"\n",
    "total_words = factorial(length_of_word) /(factorial(No_of_A)*factorial(No_of_B)*factorial(No_of_D)*factorial(No_of_K)\n",
    "                                          *factorial(No_of_R))"
   ]
  },
  {
   "cell_type": "code",
   "execution_count": 12,
   "metadata": {},
   "outputs": [
    {
     "name": "stdout",
     "output_type": "stream",
     "text": [
      "The probability that 2 B's and 2 R's come together is 0.1\n"
     ]
    }
   ],
   "source": [
    "# the required probability is\n",
    "req_prob = (no_words_with_2B_2R/total_words)\n",
    "print(\"The probability that 2 B's and 2 R's come together is\", req_prob)"
   ]
  },
  {
   "cell_type": "markdown",
   "metadata": {},
   "source": [
    "#### 3. A kitchen set contains 10 knives, 3 of which are defective. Two knives are drawn at random with replacement. What is the probability that none of the two knives will be defective?"
   ]
  },
  {
   "cell_type": "code",
   "execution_count": 13,
   "metadata": {},
   "outputs": [
    {
     "name": "stdout",
     "output_type": "stream",
     "text": [
      "The probability that none of the two knives is defective is 0.4666666666666667\n"
     ]
    }
   ],
   "source": [
    "# define a function to calculate combinations \n",
    "def combination(n, r):\n",
    "    result = factorial(n) / (factorial(r) * factorial(n-r))\n",
    "    return result\n",
    "\n",
    "# here 3 knives out of 10 are defective and 7 are not defective\n",
    "# probability of selecting two non defective knives\n",
    "probability = (combination(3, 0) * combination(7, 2)) / combination(10, 2)\n",
    "\n",
    "print(\"The probability that none of the two knives is defective is\", probability)"
   ]
  },
  {
   "cell_type": "markdown",
   "metadata": {},
   "source": [
    "#### 4. The new vaccine is to be tested on patients. There are 5 diabetic patients (have the same type of diabetes), 9 patients with a similar heart condition and 11 patients with the same liver condition. One patient is randomly chosen. What is the probability that the patient is not diabetic?"
   ]
  },
  {
   "cell_type": "code",
   "execution_count": 14,
   "metadata": {},
   "outputs": [
    {
     "name": "stdout",
     "output_type": "stream",
     "text": [
      "The probability that the selected patient is not diabetic is 0.8\n"
     ]
    }
   ],
   "source": [
    "# total number of patients \n",
    "no_patients = 25\n",
    "\n",
    "# probability of selecting a diabetic patient\n",
    "prob_diabetic = 5/25\n",
    "\n",
    "# we want to calculate the probability that the selected patient is not diabetic\n",
    "req_prob = 1 - prob_diabetic\n",
    "\n",
    "print('The probability that the selected patient is not diabetic is', req_prob)"
   ]
  },
  {
   "cell_type": "markdown",
   "metadata": {},
   "source": [
    "### Odds\n",
    "\n",
    "Probability can also be expressed in terms of `odds`. Odds is the ratio of the number of observations in favor of an event to the number of observations not in favor of an event. If odds in favor of event A are a:b then $P(A) = \\frac{a}{a+b}$"
   ]
  },
  {
   "cell_type": "markdown",
   "metadata": {},
   "source": [
    "### Example:\n",
    "\n",
    "#### 1. The odds that a New Yorker picked at random will be either overweight or obese are 14:11. What is the probability that the person is fit (is not overweight or obese)?"
   ]
  },
  {
   "cell_type": "code",
   "execution_count": 15,
   "metadata": {},
   "outputs": [
    {
     "name": "stdout",
     "output_type": "stream",
     "text": [
      "The probability that the person is fit is 0.43999999999999995\n"
     ]
    }
   ],
   "source": [
    "# here odds are 14:11  \n",
    "a = 14 \n",
    "b = 11\n",
    "\n",
    "# required probability is that the person is fit\n",
    "# let, A: The person is either overweight or obese\n",
    "# to find: P(A') = 1 - P(A)\n",
    "req_prob = 1 - (a/(a+b))\n",
    "\n",
    "print('The probability that the person is fit is', req_prob)"
   ]
  },
  {
   "cell_type": "markdown",
   "metadata": {},
   "source": [
    "<a id=\"cond\"></a>\n",
    "## 4.1 Conditional Probability"
   ]
  },
  {
   "cell_type": "markdown",
   "metadata": {},
   "source": [
    "Consider two events X and Y. The conditional probability of an event `X given Y` is the probability that event X will occur given that the event Y has already occurred. It is denoted by `P(X|Y)` and defined as:\n",
    "\n",
    "<p style='text-indent:25em'> <strong> $ P(X|Y) = \\frac{P(X \\cap Y)}{P(Y)} $</strong> </p>\n",
    "\n",
    "Where,<br>\n",
    "P(X $\\cap$ Y): the probability of the intersection of events X and Y<br>\n",
    "P(Y): Probability of an event Y \n",
    "\n",
    "If X and Y are `mutually exclusive` events, then P(X|Y) = 0. (since, P(X $\\cap$ Y) = 0) \n",
    "\n",
    "If X and Y are `independent` events, then P(X|Y) = P(X). (since, P(X $\\cap$ Y) = P(X).P(Y))"
   ]
  },
  {
   "cell_type": "markdown",
   "metadata": {},
   "source": [
    "### Example:\n",
    "\n",
    "#### 1. A random experiment results in an integer outcome from 21 to 30. Consider two events X and Y. \n",
    "        X: Occurrence of an even number\n",
    "        Y: Occurrence of a number divisible by 4\n",
    "        \n",
    "#### Calculate the probability that an even number will occur given that the number is divisible by 4."
   ]
  },
  {
   "cell_type": "code",
   "execution_count": 16,
   "metadata": {},
   "outputs": [
    {
     "name": "stdout",
     "output_type": "stream",
     "text": [
      "The probability that an even number will occur given that the number is divisible by 4 is 1.0\n"
     ]
    }
   ],
   "source": [
    "# given sample space \n",
    "samp_space = {21, 22, 23, 24, 25, 26, 27, 28, 29, 30}\n",
    "\n",
    "# event X: Occurrence of an even number\n",
    "X = {22, 24, 26, 28, 30}\n",
    "\n",
    "# event Y: Occurrence of a number divisible by 4\n",
    "Y = {24, 28}\n",
    "\n",
    "# to find: P(X|Y)\n",
    "\n",
    "Prob_X_inter_Y = 2/10\n",
    "\n",
    "Prob_Y = 2/10\n",
    "\n",
    "req_prob = Prob_X_inter_Y / Prob_Y\n",
    "\n",
    "print('The probability that an even number will occur given that the number is divisible by 4 is', req_prob)"
   ]
  },
  {
   "cell_type": "markdown",
   "metadata": {},
   "source": [
    "Since Y $\\subset$ X, P(X $\\cap$ Y) = P(Y) which implies the P(X|Y) = 1."
   ]
  },
  {
   "cell_type": "markdown",
   "metadata": {},
   "source": [
    "#### 2. A pair of fair dice is rolled. If the product of numbers that appear is 6, find the probability that the second die shows an even number?"
   ]
  },
  {
   "cell_type": "code",
   "execution_count": 17,
   "metadata": {},
   "outputs": [
    {
     "name": "stdout",
     "output_type": "stream",
     "text": [
      "The probability that the second die shows an even number given the product of numbers is 6: 0.5\n"
     ]
    }
   ],
   "source": [
    "# total number of elements in sample space\n",
    "samp_space = 36\n",
    "\n",
    "# consider an event A: Getting the product of numbers as 6\n",
    "# A = {(1,6), (2,3), (3,2), (6,1)}\n",
    "# number of elements for event A\n",
    "num_A = 4\n",
    "\n",
    "# consider an event B: Occurrence of an even number on a second die\n",
    "# B = {(1,2), (1,4), (1,6), (2,2), (2,4), (2,6), (3,2), (3,4), (3,6),\n",
    "#      (4,2), (4,4), (4,6), (5,2), (5,4), (5,6), (6,2), (6,4), (6,6)}\n",
    "# number of elements for event B\n",
    "num_B = 18\n",
    "\n",
    "# to find: P(B|A)\n",
    "# B ∩ A = {(1,6), (3,2)}\n",
    "# number of elements in B ∩ A\n",
    "num_B_inter_A = 2\n",
    "\n",
    "# calculate required probabilities\n",
    "prob_B_inter_A = 2/36\n",
    "prob_A = 4/36\n",
    "\n",
    "# caculate conditional probability\n",
    "req_prob = prob_B_inter_A / prob_A\n",
    "\n",
    "print('The probability that the second die shows an even number given the product of numbers is 6:', req_prob)"
   ]
  },
  {
   "cell_type": "markdown",
   "metadata": {},
   "source": [
    "<a id=\"bayes\"></a>\n",
    "### 4.1.1 Bayes' Theorem"
   ]
  },
  {
   "cell_type": "markdown",
   "metadata": {},
   "source": [
    "Bayes' theorem is based upon a conditional probability concept. It is used to update the probability of an event based on the information obtained from the event that has already occurred. It is also known as `Bayes' Law` or `Bayes' Rule`. It is given as: \n",
    "\n",
    "Consider two events X and Y.\n",
    "\n",
    "<p style='text-indent:25em'><strong>$P(Y|X) =\\frac{P(Y).P(X|Y)}{P(X)}$</strong></p>\n",
    "\n",
    "Where,<br>\n",
    "P(Y|X): Probability that event Y will occur given that event X has already occurred<br>\n",
    "P(X|Y): Probability that event X will occur given that event Y has already occurred<br>\n",
    "P(X), P(Y): Probability of event X and Y respectively"
   ]
  },
  {
   "cell_type": "markdown",
   "metadata": {},
   "source": [
    "### Example:\n",
    "<img src=\"matrix.png\", width = 350>"
   ]
  },
  {
   "cell_type": "markdown",
   "metadata": {
    "collapsed": true
   },
   "source": [
    "#### 1. What is the probability that a girl is chosen given that she likes pink color?"
   ]
  },
  {
   "cell_type": "code",
   "execution_count": 18,
   "metadata": {},
   "outputs": [
    {
     "name": "stdout",
     "output_type": "stream",
     "text": [
      "The probability that a girl is chosen given that she likes Pink is 0.88\n"
     ]
    }
   ],
   "source": [
    "# probability that the favorite color is pink given girl: P(Pink | Girl)\n",
    "prob_PgG = 70/120\n",
    "\n",
    "# probability of being a girl: P(Girl)\n",
    "prob_G = 120/190\n",
    "\n",
    "# probability that the favorite color is pink: P(Pink)\n",
    "prob_P = 80/190\n",
    "\n",
    "#  probability that a girl is chosen given that she likes pink color: P(Girl | Pink)\n",
    "# using Bayes' theorem\n",
    "Prob_GgP = (prob_PgG * prob_G) / prob_P\n",
    "\n",
    "# use 'round()' to round-off the value to 2 digits\n",
    "req_prob = round(Prob_GgP, 2)\n",
    "\n",
    "print('The probability that a girl is chosen given that she likes Pink is', req_prob)"
   ]
  },
  {
   "cell_type": "markdown",
   "metadata": {},
   "source": [
    "#### 2. In an armament production station, the explosion can occur due to short circuit, fault in the machinery, negligence of workers. From experience, the chances of these causes are 0.1, 0.3, 0.6 respectively. The chief engineer feels that an explosion can occur with probability:\n",
    "        1. 0.3 if there is a short circuit\n",
    "        2. 0.2 if there is a fault in the machinery\n",
    "        3. 0.25 if the workers are negligent\n",
    "#### Given that an explosion has occurred, determine the most likely cause of it?"
   ]
  },
  {
   "cell_type": "code",
   "execution_count": 19,
   "metadata": {},
   "outputs": [
    {
     "name": "stdout",
     "output_type": "stream",
     "text": [
      "prob_sc_exp 0.125\n",
      "prob_fm_exp 0.25\n",
      "prob_nw_exp 0.625\n"
     ]
    }
   ],
   "source": [
    "# probability that the explosion can occur due to short circuit\n",
    "prob_sc = 0.1\n",
    "\n",
    "# probability that the explosion can occur due to fault in the machinery\n",
    "prob_fm = 0.3\n",
    "\n",
    "# probability that the explosion can occur due to the negligence of workers\n",
    "prob_nw = 0.6\n",
    "\n",
    "# probability that explosion occurs given there is a short circuit\n",
    "prob_exp_sc = 0.3 \n",
    "\n",
    "# probability that explosion occurs given there is a fault in the machinery\n",
    "prob_exp_fm = 0.2\n",
    "\n",
    "# probability that explosion occurs given there is a negligence of workers\n",
    "prob_exp_nw = 0.25 \n",
    "\n",
    "# probability of explosion\n",
    "prob_exp = (prob_sc*prob_exp_sc) + (prob_fm*prob_exp_fm) + (prob_nw*prob_exp_nw)\n",
    "\n",
    "# use Bayes' theorem to calculate the probabilities of cause of explosion given there is an explosion\n",
    "prob_sc_exp = (prob_exp_sc * prob_sc) / prob_exp\n",
    "prob_fm_exp = (prob_exp_fm * prob_fm) / prob_exp\n",
    "prob_nw_exp = (prob_exp_nw * prob_nw) / prob_exp\n",
    "\n",
    "print('prob_sc_exp', prob_sc_exp)\n",
    "print('prob_fm_exp', prob_fm_exp)\n",
    "print('prob_nw_exp', prob_nw_exp)"
   ]
  },
  {
   "cell_type": "markdown",
   "metadata": {},
   "source": [
    "The negligence of workers is the most likely cause of an explosion in the factory. "
   ]
  },
  {
   "cell_type": "markdown",
   "metadata": {},
   "source": [
    "<a id=\"dist\"></a>\n",
    "# 5. Probability Distributions"
   ]
  },
  {
   "cell_type": "markdown",
   "metadata": {},
   "source": [
    "Probability distributions are used to understand and analyze the patterns in the data. It is a mathematical function that gives the probabilities of all the outcomes of an experiment. \n",
    "\n",
    "There are two types of probability distributions based on the type of random variable; discrete and continuous probability distributions."
   ]
  },
  {
   "cell_type": "markdown",
   "metadata": {},
   "source": [
    "<a id=\"dis\"></a>\n",
    "## 5.1 Discrete Probability Distributions"
   ]
  },
  {
   "cell_type": "markdown",
   "metadata": {},
   "source": [
    "It is the probability distribution related to the discrete random variable. In this case, the `probability mass function (pmf)` gives the probability that a variable is equal to a specific value. For a discrete random variable `X`, pmf of X is given as $ P(X = x_{i})$, where $x_{i}$ for i = 1, 2, ..., n are the values taken by the variable X.\n",
    "\n",
    "The sum of all the probabilities is always 1. i.e. $\\sum_{i = 1}^{n} P(X = x_{i}) = 1$"
   ]
  },
  {
   "cell_type": "markdown",
   "metadata": {},
   "source": [
    "For a discrete random variable X with values $x_{1}, x_{2}, ..., x_{n}$ the `cumulative distribution function (cdf)` is denoted by F(x) and defined as:\n",
    "\n",
    "<p style='text-indent:25em'> <strong> $ F(x_{i}) = P[X \\leq x_{i}]$</strong> </p>\n",
    "\n",
    "The cdf of a random variable returns the probability that the variable takes all the values less than or equal to the specific value."
   ]
  },
  {
   "cell_type": "markdown",
   "metadata": {},
   "source": [
    "<a id=\"dis_uni\"></a>\n",
    "### 5.1.1 Discrete Uniform Distribution"
   ]
  },
  {
   "cell_type": "markdown",
   "metadata": {},
   "source": [
    "A discrete variable X taking values 1, 2, ..., n follows discrete uniform distribution if all the values taken by X are equally likely. The pmf of X is given by:\n",
    "\n",
    "<p style='text-indent:25em'> <strong> $ P(X = x) = \\frac{1}{n}$</strong>$\\hspace{2cm}$  x = 1, 2, ..., n </p>\n",
    "\n",
    "Since the probability is equal for all the values of X, the distribution is symmetric.  \n",
    "\n",
    "The mean and variance of the distribution is given as:<br>\n",
    "\n",
    "Mean = $\\frac{n+1}{2}$\n",
    "\n",
    "Variance = $\\frac{n^{2}-1}{12}$ "
   ]
  },
  {
   "cell_type": "markdown",
   "metadata": {},
   "source": [
    "### Example:\n",
    "\n",
    "#### 1. A factory has 6 machines numbered from 1 to 6. Let r.v. X be the machine number. What is the probability that a machine chosen at random is either 3 or 4?"
   ]
  },
  {
   "cell_type": "code",
   "execution_count": 20,
   "metadata": {
    "scrolled": true
   },
   "outputs": [
    {
     "name": "stdout",
     "output_type": "stream",
     "text": [
      "The probability of selecting a machine 3 or 4 is 0.3333333333333333\n"
     ]
    }
   ],
   "source": [
    "# to find: P(X = 3 or X = 4) = P(X = 3) + P(X = 4)\n",
    "# 'randint.pmf' returns the pmf of discrete uniform distribution\n",
    "# pass the value of X to the parameter, 'k'\n",
    "# as, X = {1,2,3,4,5,6} \n",
    "# pass the minimum value that a variable X takes to the parameter, 'low'\n",
    "# pass the (maximum+1) value that a variable X takes to the parameter, 'high'\n",
    "req_prob = randint.pmf(k = 3, low = 1, high = 7) + randint.pmf(k = 4, low = 1, high = 7)\n",
    "\n",
    "print('The probability of selecting a machine 3 or 4 is', req_prob)"
   ]
  },
  {
   "cell_type": "markdown",
   "metadata": {},
   "source": [
    "We plot a barplot to visualize the pmf of X."
   ]
  },
  {
   "cell_type": "code",
   "execution_count": 21,
   "metadata": {},
   "outputs": [
    {
     "data": {
      "image/png": "[encoded data removed]",
      "text/plain": [
       "<Figure size 1080x576 with 1 Axes>"
      ]
     },
     "metadata": {},
     "output_type": "display_data"
    }
   ],
   "source": [
    "# the sample space of X \n",
    "X = [1, 2, 3, 4, 5, 6]\n",
    "\n",
    "# probability of selecting any machine (1 to 6) is 1/6\n",
    "prob_machine = 1/6\n",
    "\n",
    "# plot a barplot with probability as 'height' of each bar\n",
    "plt.bar(x = X, height = prob_machine)\n",
    "\n",
    "# use below code to print the values in the graph\n",
    "# 'x' and 'y' gives position of the text\n",
    "# 's' is the text \n",
    "plt.text(x = 0.9, y = prob_machine, s = round(prob_machine,4))\n",
    "plt.text(x = 1.9, y = prob_machine, s = round(prob_machine,4))\n",
    "plt.text(x = 2.9, y = prob_machine, s = round(prob_machine,4))\n",
    "plt.text(x = 3.9, y = prob_machine, s = round(prob_machine,4))\n",
    "plt.text(x = 4.9, y = prob_machine, s = round(prob_machine,4))\n",
    "plt.text(x = 5.9, y = prob_machine, s = round(prob_machine,4))\n",
    "\n",
    "# set plot and axes labels\n",
    "# set text size using 'fontsize'\n",
    "plt.xlabel('Machine Number (X)', fontsize = 15)\n",
    "plt.ylabel('Probability', fontsize = 15)\n",
    "plt.title('Probability Mass Function of X', fontsize = 15)\n",
    "\n",
    "# display the plot\n",
    "plt.show()"
   ]
  },
  {
   "cell_type": "markdown",
   "metadata": {},
   "source": [
    "<a id=\"bernoulli\"></a>\n",
    "### 5.1.2 Bernoulli Distribution"
   ]
  },
  {
   "cell_type": "markdown",
   "metadata": {},
   "source": [
    "A discrete variable X taking only two values (say 0 and 1) follows a bernoulli distribution with parameter `p` if the pmf of X is given by:\n",
    "\n",
    "<p style='text-indent:25em'> <strong> $ P(X = x) = p^{x}q^{1-x}$</strong> $\\hspace{2cm}$  x = 0, 1 </p>\n",
    "\n",
    "`p` denotes the probability of success of an experiment and `q` denotes the probability of failure. (where, p + q = 1)\n",
    "\n",
    "The experiment associated with variable X is also known as the `Bernoulli trial`.\n",
    "\n",
    "The mean and variance of the distribution is given as:<br>\n",
    "\n",
    "Mean = $p$\n",
    "\n",
    "Variance = $q$ "
   ]
  },
  {
   "cell_type": "markdown",
   "metadata": {},
   "source": [
    "### Example:\n",
    "\n",
    "#### 1. If 7 out of 10 times a soccer player scores a goal for a direct free kick. What would be the probability that he scores a goal for the next free kick? "
   ]
  },
  {
   "cell_type": "markdown",
   "metadata": {},
   "source": [
    "Consider a discrete random variable X representing a success (= 1) or failure (= 0) in scoring a goal for the next free kick. Here X follows bernoulli distribution with `p = 0.7`."
   ]
  },
  {
   "cell_type": "code",
   "execution_count": 22,
   "metadata": {},
   "outputs": [
    {
     "name": "stdout",
     "output_type": "stream",
     "text": [
      "The probability that the player scores a goal for the next free kick is 0.7\n"
     ]
    }
   ],
   "source": [
    "# probability of success (scoring a goal)\n",
    "p = 0.7\n",
    "\n",
    "# calculate the probability that a player scores a goal for a free kick\n",
    "# to find: P(X = 1)\n",
    "# pass the value of X to the parameter, 'k'\n",
    "# pass the probability of success to the parameter, 'p'\n",
    "req_prob = stats.bernoulli.pmf(k = 1, p = 0.7)\n",
    "\n",
    "print('The probability that the player scores a goal for the next free kick is', req_prob)"
   ]
  },
  {
   "cell_type": "markdown",
   "metadata": {},
   "source": [
    "We plot a barplot to visualize the pmf of X."
   ]
  },
  {
   "cell_type": "code",
   "execution_count": 23,
   "metadata": {},
   "outputs": [
    {
     "data": {
      "image/png": "[encoded data removed]",
      "text/plain": [
       "<Figure size 1080x576 with 1 Axes>"
      ]
     },
     "metadata": {},
     "output_type": "display_data"
    }
   ],
   "source": [
    "# the sample space of X \n",
    "X = [0, 1]\n",
    "\n",
    "# probability of success (scoring a goal)\n",
    "p = 0.7\n",
    "\n",
    "# probability of failure (not scoring a goal) \n",
    "q = 1 - p\n",
    "\n",
    "# plot a barplot to display the pmf of X\n",
    "# pass the r.v. X to the parameter, 'x'\n",
    "# pass the corresponding list of probabilities to the parameter, 'y'\n",
    "sns.barplot(x = X, y = [q, p])\n",
    "\n",
    "# use below code to print the values in the graph\n",
    "# 'x' and 'y' gives position of the text\n",
    "# 's' is the text \n",
    "plt.text(x = 0, y = q+0.005, s = round(q, 2))\n",
    "plt.text(x = 1, y = p+0.005, s = round(p, 2))\n",
    "\n",
    "# set plot and axes labels\n",
    "# set text size using 'fontsize'\n",
    "plt.xlabel('Goal (X)', fontsize = 15)\n",
    "plt.ylabel('Probability', fontsize = 15)\n",
    "plt.title('Probability Mass Function of X', fontsize = 15)\n",
    "\n",
    "# display the plot\n",
    "plt.show()"
   ]
  },
  {
   "cell_type": "markdown",
   "metadata": {},
   "source": [
    "<a id=\"binomial\"></a>\n",
    "### 5.1.3 Binomial Distribution"
   ]
  },
  {
   "cell_type": "markdown",
   "metadata": {},
   "source": [
    "A discrete variable X taking values 0, 1, 2,..., n follows a binomial distribution with parameters `n` and `p`, if the pmf of X is given by:\n",
    "\n",
    "<p style='text-indent:25em'> <strong> $ P(X = x) = {n \\choose x} p^{x}q^{n-x}$</strong> $\\hspace{2cm}$  x = 0, 1, ..., n </p>\n",
    "\n",
    "`p` denotes the probability of success of an experiment and `q` denotes the probability of failure. (where, p + q = 1)\n",
    "\n",
    "If `n` independent bernoulli trials (each with `p` as probability of success) are executed then the number of successes follows a binomial distribution.\n",
    "\n",
    "The mean and variance of the distribution is given as:<br>\n",
    "\n",
    "Mean = $np$\n",
    "\n",
    "Variance = $npq$ "
   ]
  },
  {
   "cell_type": "markdown",
   "metadata": {},
   "source": [
    "### Example:\n",
    "\n",
    "#### 1. Heaven Furnitures (HF) sells furniture like sofas, beds and tables. It is observed that 25% of their customers complain about the furniture purchased by them for many reasons. On Tuesday, 20 customers purchased furniture products from HF. "
   ]
  },
  {
   "cell_type": "markdown",
   "metadata": {},
   "source": [
    "Consider a discrete random variable X representing the customer who purchased the furniture products. Here X follows binomial distribution with `n = 20, p = 0.25`. "
   ]
  },
  {
   "cell_type": "markdown",
   "metadata": {},
   "source": [
    "#### a. Calculate the probability that exactly 3 customers will complain about the purchased products."
   ]
  },
  {
   "cell_type": "code",
   "execution_count": 24,
   "metadata": {},
   "outputs": [
    {
     "name": "stdout",
     "output_type": "stream",
     "text": [
      "The probability that exactly 3 customers will complain about the purchased products is 0.13\n"
     ]
    }
   ],
   "source": [
    "# use 'binom.pmf()' to calculate the pmf for binomial distribution \n",
    "# pass the required value of customers to the parameter, 'k' \n",
    "# pass number of total customers to the parameter, 'n'\n",
    "# here the success is the customer's complaint about the products with probability 0.25\n",
    "prob = stats.binom.pmf(k = 3, n = 20, p = 0.25)\n",
    "\n",
    "# use 'round()' to round-off the value to 2 digits\n",
    "prob = round(prob, 2)\n",
    "print('The probability that exactly 3 customers will complain about the purchased products is', prob)"
   ]
  },
  {
   "cell_type": "markdown",
   "metadata": {},
   "source": [
    "We plot a barplot to visualize the pmf of X."
   ]
  },
  {
   "cell_type": "code",
   "execution_count": 25,
   "metadata": {},
   "outputs": [
    {
     "data": {
      "image/png": "[encoded data removed]",
      "text/plain": [
       "<Figure size 1080x576 with 1 Axes>"
      ]
     },
     "metadata": {},
     "output_type": "display_data"
    }
   ],
   "source": [
    "# the sample space of X \n",
    "X = np.arange(0,21)\n",
    "\n",
    "# probability of success (customer complaint)\n",
    "p = 0.25\n",
    "\n",
    "# calculate pmf of X using 'binomial.pmf'\n",
    "# pass the required value of customers to the parameter, 'k' \n",
    "# pass number of total customers to the parameter, 'n'\n",
    "# here the success is the customer's complaint about the products with probability 0.25\n",
    "binom_pmf = stats.binom.pmf(k = X, n = 20, p = 0.25)\n",
    "\n",
    "# plot a barplot to display the pmf of X\n",
    "# pass the r.v. X to the parameter, 'x'\n",
    "# pass the corresponding list of probabilities to the parameter, 'y'\n",
    "sns.barplot(x = X, y = binom_pmf, color = 'lightblue')\n",
    "\n",
    "# use below code to print the value of P(X = 3) in the graph\n",
    "# 'x' and 'y' gives position of the text\n",
    "# 's' is the text \n",
    "plt.text(x = 2.8, y = binom_pmf[3]+0.005, s = round(binom_pmf[3], 2))\n",
    "\n",
    "# set plot and axes labels\n",
    "# set text size using 'fontsize'\n",
    "plt.xlabel('Customer (X)', fontsize = 15)\n",
    "plt.ylabel('Probability', fontsize = 15)\n",
    "plt.title('Probability Mass Function of X', fontsize = 15)\n",
    "\n",
    "# display the plot\n",
    "plt.show()"
   ]
  },
  {
   "cell_type": "markdown",
   "metadata": {},
   "source": [
    "####  b. Calculate the probability that more than 3 customers will complain about the furniture purchased by them."
   ]
  },
  {
   "cell_type": "code",
   "execution_count": 26,
   "metadata": {},
   "outputs": [
    {
     "name": "stdout",
     "output_type": "stream",
     "text": [
      "The probability that more than 3 customers will complain about the furniture is 0.77\n"
     ]
    }
   ],
   "source": [
    "# use 'binom.sf()' to calculate the value of survival function (1 - cdf). i.e. P(X > x)\n",
    "# calculate the probability that more than 3 customers will complain\n",
    "# pass the required value of customers to the parameter, 'k' \n",
    "# pass number of total customers to the parameter, 'n'\n",
    "# here the success is the customer's complaint about the products with probability 0.25\n",
    "prob = stats.binom.sf(k = 3, n = 20, p = 0.25)\n",
    "\n",
    "# use 'round()' to round-off the value to 2 digits\n",
    "req_prob = round(prob, 2)\n",
    "print('The probability that more than 3 customers will complain about the furniture is', req_prob)"
   ]
  },
  {
   "cell_type": "markdown",
   "metadata": {},
   "source": [
    "#### 2. In a shooting academy, data was collected on the precision shooting of a student. From 15 shots fired 11 were on target. Consider the same student, what is the probability that out of 50 shots fired, exactly 35 will hit the target?"
   ]
  },
  {
   "cell_type": "code",
   "execution_count": 27,
   "metadata": {},
   "outputs": [
    {
     "name": "stdout",
     "output_type": "stream",
     "text": [
      "The probability that that out of 50 shots fired, exactly 35 will hit the target is 0.11\n"
     ]
    }
   ],
   "source": [
    "# use 'binom.pmf()' to calculate the pmf for binomial distribution \n",
    "# pass the required value of shots hit on the target to the parameter, 'k' \n",
    "# pass number of total shots fired to the parameter, 'n'\n",
    "# here the success is hitting the shots on the target with probability 11/15\n",
    "prob = stats.binom.pmf(k = 35, n = 50, p = 11/15)\n",
    "\n",
    "# use 'round()' to round-off the value to 2 digits\n",
    "prob = round(prob, 2)\n",
    "print('The probability that that out of 50 shots fired, exactly 35 will hit the target is', prob)"
   ]
  },
  {
   "cell_type": "markdown",
   "metadata": {},
   "source": [
    "<a id=\"poisson\"></a>\n",
    "### 5.1.4 Poisson Distribution"
   ]
  },
  {
   "cell_type": "markdown",
   "metadata": {},
   "source": [
    "A discrete variable X taking values 0, 1, 2,... follows a poisson distribution with parameter `m` (m > 0), if the pmf of X is given by:\n",
    "\n",
    "<p style='text-indent:25em'> <strong> $ P(X = x) = \\frac{e^{-m}m^{x}}{x!}$</strong> $\\hspace{2cm}$  x = 0, 1, 2,... </p>\n",
    "\n",
    "The mean and variance of the distribution is given as:<br>\n",
    "\n",
    "Mean = $m$ = Variance\n",
    "\n",
    "**Note:** Consider a variable X that follows a binomial distribution with parameters `n` and `p`. If n$\\rightarrow$$\\infty$ and p$\\rightarrow$0 then X follows a poison distribution with parameter `m = np`."
   ]
  },
  {
   "cell_type": "markdown",
   "metadata": {},
   "source": [
    "### Example:\n",
    "\n",
    "**1. The number of pizzas sold per day by a food zone \"Fapinos\" follows a poisson distribution at a rate of 67 pizzas per day. Calculate the probability that the number of pizza sales exceeds 70 in a day.**"
   ]
  },
  {
   "cell_type": "markdown",
   "metadata": {},
   "source": [
    "Consider a discrete random variable X representing the number of pizzas sold per day. Here X follows poisson distribution with `m = 67`. "
   ]
  },
  {
   "cell_type": "code",
   "execution_count": 28,
   "metadata": {
    "scrolled": true
   },
   "outputs": [
    {
     "name": "stdout",
     "output_type": "stream",
     "text": [
      "The probability that the number of pizza sales exceeds 70 in a day is 0.33\n"
     ]
    }
   ],
   "source": [
    "# use 'poisson.sf()' to calculate the value of survival function (1 - cdf). i.e. P(X > x)\n",
    "# calculate the probability that more than 70 pizzas will be sold \n",
    "# pass the required value of pizzas to the parameter, 'k' \n",
    "# pass the average number of pizzas to the parameter, 'mu'\n",
    "prob = stats.poisson.sf(k = 70, mu = 67)\n",
    "\n",
    "# use 'round()' to round-off the value to 2 digits\n",
    "req_prob = round(prob, 2)\n",
    "print('The probability that the number of pizza sales exceeds 70 in a day is', req_prob)"
   ]
  },
  {
   "cell_type": "markdown",
   "metadata": {},
   "source": [
    "We plot a distribution plot to visualize the cdf of X."
   ]
  },
  {
   "cell_type": "code",
   "execution_count": 29,
   "metadata": {
    "scrolled": false
   },
   "outputs": [
    {
     "data": {
      "image/png": "[encoded data removed]",
      "text/plain": [
       "<Figure size 1080x576 with 1 Axes>"
      ]
     },
     "metadata": {},
     "output_type": "display_data"
    }
   ],
   "source": [
    "# consider a random variable 'X' that follows a poisson distribution with m = 67\n",
    "# pass the average number of pizzas to the parameter, 'mu'\n",
    "# pass the required number of observations to the parameter, 'size'\n",
    "# set 'random_state' to obtain the same observations every time you run the code \n",
    "X = stats.poisson.rvs(mu = 67, size = 10000, random_state = 10)\n",
    "\n",
    "# plot the cdf of X\n",
    "# pass the data to the parameter, 'a'\n",
    "# 'cumulative=True' in 'kde_kws' returns the cumulative kernel density estimator\n",
    "# 'cumulative=True' in 'hist_kws' returns the cumulative histogram\n",
    "sns.distplot(a = X, hist_kws = dict(cumulative=True), kde_kws = dict(cumulative=True))\n",
    "\n",
    "# set the limit for y-axis\n",
    "plt.ylim(0,1)\n",
    "\n",
    "# plot a vertical line at X = 70\n",
    "x, y = [70, 70], [0, 1]\n",
    "plt.plot(x, y, color = 'black')\n",
    "\n",
    "# plot a horizontal line corresponding to the value of cdf for X = 70\n",
    "x, y = [60, 80], [stats.poisson.cdf(k = 70, mu = 67), stats.poisson.cdf(k = 70, mu = 67)]\n",
    "plt.plot(x, y, color = 'black')\n",
    "\n",
    "# use below code to print the value of P(X ≤ 70) in the graph\n",
    "# 'x' and 'y' gives position of the text\n",
    "# 's' is the text \n",
    "plt.text(x = 67, y = stats.poisson.cdf(k = 70, mu = 67)+0.02, s = round(stats.poisson.cdf(k = 70, mu = 67), 2))\n",
    "\n",
    "# set plot and axes labels\n",
    "# set text size using 'fontsize'\n",
    "plt.xlabel('Number of Pizzas Sold (X)', fontsize = 15)\n",
    "plt.ylabel('Cumulative Probability', fontsize = 15)\n",
    "plt.title('Cumulative Distribution Function of X', fontsize = 15)\n",
    "\n",
    "# display the plot\n",
    "plt.show()"
   ]
  },
  {
   "cell_type": "markdown",
   "metadata": {},
   "source": [
    "The value 0.67 in the graph corresponds to the P(X ≤ 70). In the example, we need to calculate P(X > 70). Thus, subtract 0.67 from 1 to get the required probability."
   ]
  },
  {
   "cell_type": "markdown",
   "metadata": {},
   "source": [
    "#### 2. The number of calls received at a telephone exchange in a day follows poisson distribution. The probability that the exchange receives 5 calls is three times that of the exchange receiving 10 calls. Obtain the average calls that the telephone exchange receives in a day."
   ]
  },
  {
   "cell_type": "code",
   "execution_count": 30,
   "metadata": {},
   "outputs": [
    {
     "name": "stdout",
     "output_type": "stream",
     "text": [
      "Average calls that the telephone exchange receives in a day 6\n"
     ]
    }
   ],
   "source": [
    "# given: P(X = 5) = 3*P(X = 10)\n",
    "# to find: m = average number of calls\n",
    "# solving the above equation we get\n",
    "m_raised_5 = factorial(10) / (3* factorial(5))\n",
    "\n",
    "# value of 'm'\n",
    "m = m_raised_5**(1/5)\n",
    "\n",
    "# as the number of calls is an integer, convert the value of 'm' using int() \n",
    "print('Average calls that the telephone exchange receives in a day', int(m))"
   ]
  },
  {
   "cell_type": "markdown",
   "metadata": {},
   "source": [
    "<a id=\"cont\"></a>\n",
    "## 5.2 Continuous Probability Distributions"
   ]
  },
  {
   "cell_type": "markdown",
   "metadata": {},
   "source": [
    "It is the probability distribution related to the continuous random variable. The area under `probability density function (pdf)` gives the probability that a variable lies in a specific range. The value of pdf at a specific point is always 0.\n",
    "\n",
    "Probability that X lies between [a,b] is given by:\n",
    "\n",
    "<p style='text-indent:25em'> <strong> $P(a \\leq X \\leq b) = \\int_{a}^{b} f(x) dx$</strong> </p> \n",
    "\n",
    "Area under the curve is 1. i.e. $\\int_{-\\infty}^{\\infty} f(x) dx = 1$"
   ]
  },
  {
   "cell_type": "markdown",
   "metadata": {},
   "source": [
    "For a continuous random variable X the `cumulative distribution function (cdf)` is denoted by F(x) and defined as:\n",
    "\n",
    "<p style='text-indent:25em'> <strong> $ F(x) = \\int_{-\\infty}^{x} f(u) du$</strong> </p>\n",
    "\n",
    "The cdf of a random variable returns the probability that the variable takes all the values less than or equal to the specific value."
   ]
  },
  {
   "cell_type": "markdown",
   "metadata": {},
   "source": [
    "<a id=\"cont_uni\"></a>\n",
    "### 5.2.1 Continuous Uniform Distribution"
   ]
  },
  {
   "cell_type": "markdown",
   "metadata": {},
   "source": [
    "A continuous variable X taking values in a range [a,b] follows continuous uniform distribution if all the values in the range of variable X are equally likely. The pdf of X is given by:\n",
    "\n",
    "<p style='text-indent:25em'> <strong> $f(x) = \\frac{1}{b-a}$</strong> $\\hspace{2cm}$ $a \\leq x \\leq b$ </p>\n",
    "\n",
    "The mean and variance of the distribution is given as:<br>\n",
    "\n",
    "Mean = $\\frac{a + b}{2}$\n",
    "\n",
    "Variance = $\\frac{(b-a)^{2}}{12}$ "
   ]
  },
  {
   "cell_type": "markdown",
   "metadata": {},
   "source": [
    "### Example:\n",
    "\n",
    "#### 1. A gas supplying company has a pipe of 200 km from its supplying center to the city. What is the probability that the pipe leaks in the middle 100 kms? (Assume that the chance of pipe leakage is equal on the entire route)"
   ]
  },
  {
   "cell_type": "markdown",
   "metadata": {},
   "source": [
    "Consider a continuous random variable X representing the length of a gas supplying pipe taking values in the range [0,200]. Here X follows a continuous uniform distribution."
   ]
  },
  {
   "cell_type": "code",
   "execution_count": 31,
   "metadata": {},
   "outputs": [
    {
     "name": "stdout",
     "output_type": "stream",
     "text": [
      "The probability that the pipe leaks in the middle 100 kms is 0.5\n"
     ]
    }
   ],
   "source": [
    "# distance between gas supplying center and city is 200 kms\n",
    "# to find: P(50<= X <= 150)\n",
    "# X follows uniform distribution over the interval [0,200]\n",
    "\n",
    "# use 'uniform.cdf()' to calculate the cdf for continuous uniform distribution \n",
    "# pass the required value of X to the parameter, 'x'\n",
    "# pass the start point of the interval to the parameter, 'loc' \n",
    "# pass the difference between the end point and start point of the interval to the parameter, 'scale'\n",
    "prob_150 = stats.uniform.cdf(x = 150, loc = 0, scale = 200)\n",
    "prob_50 = stats.uniform.cdf(x = 50, loc = 0, scale = 200)\n",
    "\n",
    "# calculate the required probability\n",
    "req_prob = prob_150 - prob_50\n",
    "\n",
    "# use 'round()' to round-off the value to 2 digits\n",
    "req_prob = round(req_prob, 2)\n",
    "print('The probability that the pipe leaks in the middle 100 kms is', req_prob)"
   ]
  },
  {
   "cell_type": "markdown",
   "metadata": {},
   "source": [
    "We plot a distribution plot to visualize the cdf of X."
   ]
  },
  {
   "cell_type": "code",
   "execution_count": 32,
   "metadata": {},
   "outputs": [
    {
     "data": {
      "image/png": "[encoded data removed]",
      "text/plain": [
       "<Figure size 1080x576 with 1 Axes>"
      ]
     },
     "metadata": {},
     "output_type": "display_data"
    }
   ],
   "source": [
    "# consider a random variable 'X' that follows a continuous uniform distribution taking values in the range [0,200]\n",
    "# pass the start point of the interval to the parameter, 'loc' \n",
    "# pass the end point of the interval to the parameter, 'scale'\n",
    "# pass the required number of observations to the parameter, 'size'\n",
    "# set 'random_state' to obtain the same observations every time you run the code \n",
    "X = stats.uniform.rvs(loc = 0, scale = 200, size = 50000, random_state = 10)\n",
    "\n",
    "# plot the cdf of X\n",
    "# pass the data to the parameter, 'a'\n",
    "# 'cumulative=True' in 'kde_kws' returns the cumulative kernel density estimator\n",
    "# 'cumulative=True' in 'hist_kws' returns the cumulative histogram\n",
    "sns.distplot(a = X, hist_kws = dict(cumulative = True), kde_kws = dict(cumulative=True))\n",
    "\n",
    "# set the limit for y-axis\n",
    "plt.ylim(0,1)\n",
    "\n",
    "# plot a vertical line at X = 150\n",
    "x, y = [150, 150], [0, 1]\n",
    "plt.plot(x, y, color = 'black')\n",
    "\n",
    "# plot a horizontal line corresponding to the value of cdf for X = 150\n",
    "x, y = [125, 175], [stats.uniform.cdf(x = 150, loc = 0, scale = 200), stats.uniform.cdf(x = 150, loc = 0, scale = 200)]\n",
    "plt.plot(x, y, color = 'black')\n",
    "\n",
    "# plot a vertical line at X = 50\n",
    "x, y = [50, 50], [0, 1]\n",
    "plt.plot(x, y, color = 'black')\n",
    "\n",
    "# plot a horizontal line corresponding to the value of cdf for X = 50\n",
    "x, y = [25, 75], [stats.uniform.cdf(x = 50, loc = 0, scale = 200), stats.uniform.cdf(x = 50, loc = 0, scale = 200)]\n",
    "plt.plot(x, y, color = 'black')\n",
    "\n",
    "# use below code to print the values of P(X ≤ 150) and P(X ≤ 50) in the graph\n",
    "# 'x' and 'y' gives position of the text\n",
    "# 's' is the text \n",
    "plt.text(x = 138, y = stats.uniform.cdf(x = 150, loc = 0, scale = 200)+0.02,\n",
    "         s = round(stats.uniform.cdf(x = 150, loc = 0, scale = 200), 2))\n",
    "plt.text(x = 38, y = stats.uniform.cdf(x = 50, loc = 0, scale = 200)+0.02,\n",
    "         s = round(stats.uniform.cdf(x = 50, loc = 0, scale = 200), 2))\n",
    "\n",
    "# set plot and axes labels\n",
    "# set text size using 'fontsize'\n",
    "plt.xlabel('Length of pipe (X)', fontsize = 15)\n",
    "plt.ylabel('Cumulative Probability', fontsize = 15)\n",
    "plt.title('Cumulative Distribution Function of X', fontsize = 15)\n",
    "\n",
    "# display the plot\n",
    "plt.show()"
   ]
  },
  {
   "cell_type": "markdown",
   "metadata": {},
   "source": [
    "The difference between 0.75 and 0.25 returns the P(50 ≤ X ≤ 150)."
   ]
  },
  {
   "cell_type": "markdown",
   "metadata": {},
   "source": [
    "<a id=\"normal\"></a>\n",
    "### 5.2.2 Normal Distribution"
   ]
  },
  {
   "cell_type": "markdown",
   "metadata": {},
   "source": [
    "A continuous variable X follows a normal distribution with the parameters $\\mu$ and $\\sigma$ if the pdf of X is given by:\n",
    "\n",
    "<p style='text-indent:25em'> <strong> $f(x) = \\frac {1}{\\sigma\\sqrt(2 \\pi)} e^\\frac {-(x-\\mu^2)}{2\\sigma^2}$</strong></p>\n",
    "\n",
    "The normal distribution is a bell-shaped symmetric distribution with `mean = median = mode`. \n",
    "\n",
    "The mean and variance of the distribution is given as:<br>\n",
    "\n",
    "Mean = $\\mu$ \n",
    "\n",
    "Variance = $\\sigma^{2}$ \n",
    "\n",
    "**Note:** The variable Z given as, Z = $\\frac{X - \\mu}{\\sigma}$ follows a `standard normal distribution` with mean 0 and variance 1."
   ]
  },
  {
   "cell_type": "markdown",
   "metadata": {},
   "source": [
    "### Example:\n",
    "\n",
    "#### 1. A survey was conducted and it was found that the people spend their 300 minutes in a day surfing on online shopping sites on average and the corresponding standard deviation is 127 minutes. Assume that the time spent on surfing follows a normal distribution. Calculate the following probabilities:\n",
    "\n",
    "Consider a continuous random variable X representing the time spent in surfing on online shopping sites. Here X follows a normal distribution with mean 300 and standard deviation as 127.\n",
    "\n",
    "\n",
    "#### a. What is the probability that the users are spending less than or equal to 100 minutes per day?"
   ]
  },
  {
   "cell_type": "code",
   "execution_count": 33,
   "metadata": {},
   "outputs": [
    {
     "name": "stdout",
     "output_type": "stream",
     "text": [
      "The probability that the users are spending less than or equal to 100 minutes daily is 0.06\n"
     ]
    }
   ],
   "source": [
    "# on average people spend 300 minutes everyday\n",
    "avg = 300\n",
    "\n",
    "# standard deviation is 127 minutes \n",
    "std = 127\n",
    "\n",
    "# standardize the variable with x = 100\n",
    "z = (100 - avg) / std\n",
    "\n",
    "# 'cdf()' returns the P(Z <= z) i.e P(Z <= 100)\n",
    "prob = stats.norm.cdf(z)\n",
    "\n",
    "# use 'round()' to round-off the value to 2 digits\n",
    "req_prob = round(prob, 2)\n",
    "print('The probability that the users are spending less than or equal to 100 minutes daily is', req_prob)"
   ]
  },
  {
   "cell_type": "markdown",
   "metadata": {},
   "source": [
    "We plot a distribution plot to visualize the cdf of X."
   ]
  },
  {
   "cell_type": "code",
   "execution_count": 34,
   "metadata": {},
   "outputs": [
    {
     "data": {
      "image/png": "[encoded data removed]",
      "text/plain": [
       "<Figure size 1080x576 with 1 Axes>"
      ]
     },
     "metadata": {},
     "output_type": "display_data"
    }
   ],
   "source": [
    "# consider a random variable 'X' that follows a normal distribution with mean 300 and standard deviation as 127\n",
    "# pass the mean to the parameter, 'loc' \n",
    "# pass the standard deviation to the parameter, 'scale'\n",
    "# pass the required number of observations to the parameter, 'size'\n",
    "# set 'random_state' to obtain the same observations every time you run the code \n",
    "X = stats.norm.rvs(loc = 300, scale = 127, size = 10000, random_state = 10)\n",
    "\n",
    "# plot the cdf of X\n",
    "# pass the data to the parameter, 'a'\n",
    "# 'cumulative=True' in 'kde_kws' returns the cumulative kernel density estimator\n",
    "# 'cumulative=True' in 'hist_kws' returns the cumulative histogram\n",
    "sns.distplot(a = X, hist_kws = dict(cumulative = True), kde_kws = dict(cumulative=True))\n",
    "\n",
    "# set the limit for y-axis\n",
    "plt.ylim(0,1)\n",
    "\n",
    "# plot a vertical line at X = 100\n",
    "x, y = [100, 100], [0, 1]\n",
    "plt.plot(x, y, color = 'black')\n",
    "\n",
    "# plot a horizontal line corresponding to the value of cdf for X = 100\n",
    "x, y = [0, 200], [stats.norm.cdf(z), stats.norm.cdf(z)]\n",
    "plt.plot(x, y, color = 'black')\n",
    "\n",
    "# use below code to print the value of P(X ≤ 100) in the graph\n",
    "# 'x' and 'y' gives position of the text\n",
    "# 's' is the text \n",
    "plt.text(x = 60, y = stats.norm.cdf(z)+0.02, s = round(stats.norm.cdf(z), 2))\n",
    "\n",
    "# set plot and axes labels\n",
    "# set text size using 'fontsize'\n",
    "plt.xlabel('Time Spent on Online Shopping Sites (X)', fontsize = 15)\n",
    "plt.ylabel('Cumulative Probability', fontsize = 15)\n",
    "plt.title('Cumulative Distribution Function of X', fontsize = 15)\n",
    "\n",
    "# display the plot\n",
    "plt.show()"
   ]
  },
  {
   "cell_type": "markdown",
   "metadata": {},
   "source": [
    "The above plot returns the probability that the users are spending less than or equal to 100 minutes surfing  on online shopping sites."
   ]
  },
  {
   "cell_type": "markdown",
   "metadata": {},
   "source": [
    "#### b. What is the probability that people are spending more than 400 minutes on online shopping sites per day?"
   ]
  },
  {
   "cell_type": "code",
   "execution_count": 35,
   "metadata": {
    "scrolled": true
   },
   "outputs": [
    {
     "name": "stdout",
     "output_type": "stream",
     "text": [
      "The probability that people are spending more than 400 minutes on online shopping sites per day is 0.22\n"
     ]
    }
   ],
   "source": [
    "# on average people spend 300 minutes everyday\n",
    "avg = 300\n",
    "\n",
    "# standard deviation is 127 minutes \n",
    "std = 127\n",
    "\n",
    "# standardize the variable with x = 400\n",
    "z = (400 - avg) / std\n",
    "\n",
    "# calculate the probability that people are spending more than 400 minutes of surfing per day\n",
    "# 'sf()' returns the P(Z > z) i.e P(Z > 400)\n",
    "prob = stats.norm.sf(z)\n",
    "\n",
    "# use 'round()' to round-off the value to 2 digits\n",
    "req_prob = round(prob, 2)\n",
    "print('The probability that people are spending more than 400 minutes on online shopping sites per day is', req_prob)"
   ]
  },
  {
   "cell_type": "markdown",
   "metadata": {},
   "source": [
    "#### c. What is the probability that people are spending time between 250 minutes and 350 minutes per day?"
   ]
  },
  {
   "cell_type": "code",
   "execution_count": 36,
   "metadata": {},
   "outputs": [
    {
     "name": "stdout",
     "output_type": "stream",
     "text": [
      "The probability that people are spending time between 250 minutes and 350 minutes per day is 0.31\n"
     ]
    }
   ],
   "source": [
    "# on average people spend 300 minutes everyday\n",
    "avg = 300\n",
    "\n",
    "# standard deviation is 127 minutes \n",
    "std = 127\n",
    "\n",
    "# standardize the variable with x = 250\n",
    "z_250 = (250 - avg) / std\n",
    "\n",
    "# 'cdf()' returns the P(Z <= z) i.e P(Z <= 250)\n",
    "p_250 = stats.norm.cdf(z_250)\n",
    "\n",
    "# standardize the variable with x = 350\n",
    "z_350 = (350 - avg) / std\n",
    "\n",
    "# 'cdf()' returns the P(Z <= z) i.e P(Z <= 350)\n",
    "p_350 = stats.norm.cdf(z_350)\n",
    "\n",
    "# calculate the difference between 'p_350' and 'p_250' to find the required probability\n",
    "prob = p_350 - p_250\n",
    "\n",
    "# use 'round()' to round-off the value to 2 digits\n",
    "req_prob = round(prob, 2)\n",
    "print('The probability that people are spending time between 250 minutes and 350 minutes per day is', req_prob)"
   ]
  },
  {
   "cell_type": "markdown",
   "metadata": {},
   "source": [
    "#### 2. A monthly balance in the bank account of a credit card holders is assumed to be normally distributed with mean 500 dollars and variance 100 dollars. What is the probability that the balance can be more than 513.5 dollars?"
   ]
  },
  {
   "cell_type": "code",
   "execution_count": 37,
   "metadata": {},
   "outputs": [
    {
     "name": "stdout",
     "output_type": "stream",
     "text": [
      "The probability that the balance can be more than 513.5 dollars is 0.0885\n"
     ]
    }
   ],
   "source": [
    "# average account balance\n",
    "avg = 500\n",
    "\n",
    "# variance is 100 dollars\n",
    "var = 100\n",
    "\n",
    "# standard deviation is square-root of variance  \n",
    "std = np.sqrt(var)\n",
    "\n",
    "# standardize the variable with x = 513.5\n",
    "z = (513.5 - avg) / std\n",
    "\n",
    "# calculate the probability that the balance is more than 513.5 dollars\n",
    "# 'sf()' returns the P(Z > z) i.e P(Z > 513.5)\n",
    "prob = stats.norm.sf(z)\n",
    "\n",
    "# use 'round()' to round-off the value to 4 digits\n",
    "req_prob = round(prob, 4)\n",
    "print('The probability that the balance can be more than 513.5 dollars is', req_prob)"
   ]
  },
  {
   "cell_type": "markdown",
   "metadata": {},
   "source": [
    "<a id=\"sample\"></a>\n",
    "# 6. Sampling"
   ]
  },
  {
   "cell_type": "markdown",
   "metadata": {},
   "source": [
    "It is the method of selecting a subset of observations from the population which is used as a representative of the population.\n",
    "\n",
    "The value associated with the characteristic of the population is known as a `parameter` and the characteristic of the sample is described by a `statistic`. The sample from a population is used to estimate the values of parameters.\n",
    "\n",
    "Different types of sampling: Simple Random, Stratified, Systematic, and Cluster sampling."
   ]
  },
  {
   "cell_type": "markdown",
   "metadata": {},
   "source": [
    "<a id=\"SRS\"></a>\n",
    "## 6.1 Simple Random Sample"
   ]
  },
  {
   "cell_type": "markdown",
   "metadata": {},
   "source": [
    "It is one of the sampling methods in which each observation in the population has an equal chance (probability) of being selected as the sample. It is the most basic type of sampling.\n",
    "\n",
    "Simple random sampling can be done with/without replacement."
   ]
  },
  {
   "cell_type": "markdown",
   "metadata": {},
   "source": [
    "In Simple Random Sampling With Replacement (`SRSWR`) an observation can occur multiple times, as we replace the selected observation in the population before drawing the next sample. In this technique, the size of the population always remains the same. <br>\n",
    "If there are `N` observations in the population then the probability of drawing `n` samples with replacement is $\\frac{1}{N^{n}}$"
   ]
  },
  {
   "cell_type": "markdown",
   "metadata": {},
   "source": [
    "### Example:\n",
    "\n",
    "#### 1. Consider 8 identical boxes that contain different number of shuttlecocks. Draw a sample of 20 boxes with replacement.\n",
    "\n",
    "data = [18, 13, 16, 17, 15, 21, 19, 12]"
   ]
  },
  {
   "cell_type": "code",
   "execution_count": 38,
   "metadata": {},
   "outputs": [
    {
     "name": "stdout",
     "output_type": "stream",
     "text": [
      "Sample with replacement: [16, 16, 19, 21, 19, 19, 17, 12, 17, 18, 16, 21, 15, 15, 19, 19, 18, 21, 19, 21]\n"
     ]
    }
   ],
   "source": [
    "# given population\n",
    "data = [18, 19, 16, 17, 15, 21, 19, 12]\n",
    "\n",
    "# pass the data to the parameter, 'population'\n",
    "# pass the required sample size to the parameter, 'k' \n",
    "sample_wr = random.choices(population = data, k = 20)\n",
    "\n",
    "# print the sample\n",
    "print('Sample with replacement:', sample_wr)"
   ]
  },
  {
   "cell_type": "markdown",
   "metadata": {},
   "source": [
    "In Simple Random Sampling Without Replacement (`SRSWOR`) an observation can occur only once as we do not replace the selected observation before drawing the next sample. <br>\n",
    "If there are `N` observations in the population then the probability of drawing `n` samples without replacement is $\\frac{1}{N \\choose n}$"
   ]
  },
  {
   "cell_type": "markdown",
   "metadata": {},
   "source": [
    "### Example:\n",
    "\n",
    "#### 1.  An ice-cream manufacturer wants to study the sales of ice-creams to decide the production policies of the company. He collects the data for the number of ice-creams sold in a month from the 30 franchise. Randomly select the sales of 10 franchise for the study. \n",
    "\n",
    "data = [21, 93, 62, 76, 73, 20, 56, 95, 41, 36, 38, 13, 80, 88, 34, 18, 40, 11, 25, 29, 61, 23, 82, 10, 92, 69, 60, 87, 14, 91]"
   ]
  },
  {
   "cell_type": "code",
   "execution_count": 39,
   "metadata": {},
   "outputs": [
    {
     "name": "stdout",
     "output_type": "stream",
     "text": [
      "Sample without replacement: [61, 40, 73, 82, 69, 80, 87, 93, 36, 56]\n"
     ]
    }
   ],
   "source": [
    "# given population\n",
    "data = [21, 93, 62, 76, 73, 20, 56, 95, 41, 36, 38, 13, 80, 88, 34, 18, 40, 11, 25, 29, 61, 23, 82, 10, 92, 69, 60, 87, 14, 91]\n",
    "\n",
    "# pass the data to the parameter, 'population'\n",
    "# pass the required sample size to the parameter, 'k' \n",
    "sample_wor = random.sample(population = data, k = 10)\n",
    "\n",
    "# print the sample\n",
    "print('Sample without replacement:', sample_wor)"
   ]
  },
  {
   "cell_type": "markdown",
   "metadata": {},
   "source": [
    "<a id=\"strata\"></a>\n",
    "## 6.2 Stratified Sample"
   ]
  },
  {
   "cell_type": "markdown",
   "metadata": {},
   "source": [
    "We can use the stratified sampling method to draw a sample from the heterogeneous dataset. The dataset is divided into the homogeneous strata and then a sample is drawn from each stratum. The final sample contains elements from each stratum."
   ]
  },
  {
   "cell_type": "markdown",
   "metadata": {},
   "source": [
    "### Example:\n",
    "\n",
    "#### 1. Consider the annual income (in dollars) of 15 employees in a company. The socio-economic status of the employee depends on the annual income.\n",
    "\n",
    "<table>\n",
    "<tr>\n",
    "    <th>Status</th>\n",
    "    <td>Low</td>\n",
    "    <td>High</td>\n",
    "    <td>Below Poverty</td>\n",
    "    <td>Middle</td>\n",
    "    <td>Low</td>\n",
    "    <td>High</td>\n",
    "    <td>Middle</td>\n",
    "    <td>Low</td>\n",
    "    <td>Middle</td>\n",
    "    <td>High</td>\n",
    "    <td>Middle</td>\n",
    "    <td>Below Poverty</td>\n",
    "    <td>Low</td>\n",
    "    <td>Below Poverty</td>\n",
    "    <td>High</td>\n",
    "   </tr>\n",
    "<tr>\n",
    "    <th>Income</th>\n",
    "    <td>4850</td>\n",
    "    <td>9270</td>\n",
    "    <td>2520</td>\n",
    "    <td>6020</td>\n",
    "    <td>5790</td>\n",
    "    <td>10400</td>\n",
    "    <td>7140</td>\n",
    "    <td>3100</td>\n",
    "    <td>6850</td>\n",
    "    <td>9740</td>\n",
    "    <td>6540</td>\n",
    "    <td>1230</td>\n",
    "    <td>4400</td>\n",
    "    <td>2210</td>\n",
    "    <td>9880</td>\n",
    "    </tr>\n",
    "</table>\n",
    "\n",
    "\n",
    "Draw the stratified sample such that each category will occur twice."
   ]
  },
  {
   "cell_type": "code",
   "execution_count": 40,
   "metadata": {
    "scrolled": true
   },
   "outputs": [
    {
     "data": {
      "text/html": [
       "<div>\n",
       "<style scoped>\n",
       "    .dataframe tbody tr th:only-of-type {\n",
       "        vertical-align: middle;\n",
       "    }\n",
       "\n",
       "    .dataframe tbody tr th {\n",
       "        vertical-align: top;\n",
       "    }\n",
       "\n",
       "    .dataframe thead th {\n",
       "        text-align: right;\n",
       "    }\n",
       "</style>\n",
       "<table border=\"1\" class=\"dataframe\">\n",
       "  <thead>\n",
       "    <tr style=\"text-align: right;\">\n",
       "      <th></th>\n",
       "      <th>Status</th>\n",
       "      <th>Income</th>\n",
       "    </tr>\n",
       "  </thead>\n",
       "  <tbody>\n",
       "    <tr>\n",
       "      <th>2</th>\n",
       "      <td>Below Poverty</td>\n",
       "      <td>2520</td>\n",
       "    </tr>\n",
       "    <tr>\n",
       "      <th>13</th>\n",
       "      <td>Below Poverty</td>\n",
       "      <td>2210</td>\n",
       "    </tr>\n",
       "    <tr>\n",
       "      <th>14</th>\n",
       "      <td>High</td>\n",
       "      <td>9880</td>\n",
       "    </tr>\n",
       "    <tr>\n",
       "      <th>9</th>\n",
       "      <td>High</td>\n",
       "      <td>9740</td>\n",
       "    </tr>\n",
       "    <tr>\n",
       "      <th>12</th>\n",
       "      <td>Low</td>\n",
       "      <td>4400</td>\n",
       "    </tr>\n",
       "    <tr>\n",
       "      <th>7</th>\n",
       "      <td>Low</td>\n",
       "      <td>3100</td>\n",
       "    </tr>\n",
       "    <tr>\n",
       "      <th>10</th>\n",
       "      <td>Middle</td>\n",
       "      <td>6540</td>\n",
       "    </tr>\n",
       "    <tr>\n",
       "      <th>8</th>\n",
       "      <td>Middle</td>\n",
       "      <td>6850</td>\n",
       "    </tr>\n",
       "  </tbody>\n",
       "</table>\n",
       "</div>"
      ],
      "text/plain": [
       "           Status  Income\n",
       "2   Below Poverty    2520\n",
       "13  Below Poverty    2210\n",
       "14           High    9880\n",
       "9            High    9740\n",
       "12            Low    4400\n",
       "7             Low    3100\n",
       "10         Middle    6540\n",
       "8          Middle    6850"
      ]
     },
     "execution_count": 40,
     "metadata": {},
     "output_type": "execute_result"
    }
   ],
   "source": [
    "# create a dataframe of given data\n",
    "df_inc = pd.DataFrame(dict(Status = ['Low', 'High', 'Below Poverty', 'Middle', 'Low', 'High','Middle', 'Low', 'Middle', \n",
    "                                      'High', 'Middle', 'Below Poverty', 'Low', 'Below Poverty', 'High'],\n",
    "                      Income = [4850, 9270, 2520, 6020, 5790, 10400, 7140, 3100, 6850, 9740, 6540, 1230, 4400, 2210, 9880]))\n",
    "\n",
    "# use 'groupby()' to create the homogeneous strata for each socio-economic status\n",
    "# 'group_keys = False' will not add the group keys in the index for each group\n",
    "# choose sample of two observations using 'sample'\n",
    "# set 'random_state' to obtain the same sample every time you run the code \n",
    "# use 'apply()' to apply the lambda function for each socio-economic status\n",
    "df_inc.groupby('Status', group_keys = False).apply(lambda x: x.sample(2, random_state = 1))"
   ]
  },
  {
   "cell_type": "markdown",
   "metadata": {},
   "source": [
    "<a id=\"sys\"></a>\n",
    "## 6.3 Systematic Sample"
   ]
  },
  {
   "cell_type": "markdown",
   "metadata": {},
   "source": [
    "This technique can be used to draw a sample in a systematic manner. For the population with size `N` if we want to take a sample of size `n`, then arrange the population (rows-wise) in `k` columns such that, N = nk. Then select a column randomly as the required sample."
   ]
  },
  {
   "cell_type": "markdown",
   "metadata": {},
   "source": [
    "### Example:\n",
    "\n",
    "#### 1. Consider the data for the number of ice-creams sold per day. Draw a systematic sample of size 6 starting from the 3rd element.\n",
    "\n",
    "data = [21, 93, 62, 76, 73, 20, 56, 95, 41, 36, 38, 13, 80, 88, 34, 18, 40, 11, \n",
    "        25, 29, 61, 23, 82, 10, 92, 69, 60, 87, 14, 91, 94, 49, 57, 83, 96, 55, \n",
    "        79, 52, 59, 39, 58, 17, 19, 98, 15, 54, 48, 46, 72, 45, 65, 28, 37, 30, \n",
    "        68, 75, 16, 33, 31, 99, 22, 51, 27, 67, 85, 47, 44, 77, 64, 97, 84, 42, \n",
    "        90, 70, 74, 89, 32, 26, 24, 12, 81, 53, 50, 35, 71, 63, 43, 86, 78, 66]"
   ]
  },
  {
   "cell_type": "code",
   "execution_count": 41,
   "metadata": {
    "scrolled": true
   },
   "outputs": [
    {
     "name": "stdout",
     "output_type": "stream",
     "text": [
      "62\n",
      "11\n",
      "57\n",
      "46\n",
      "27\n",
      "26\n"
     ]
    }
   ],
   "source": [
    "# given data\n",
    "data = np.array([21, 93, 62, 76, 73, 20, 56, 95, 41, 36, 38, 13, 80, 88, 34, 18, 40, 11, 25, 29, 61, 23, 82, 10, 92, 69, 60,\n",
    "                  87, 14, 91, 94, 49, 57, 83, 96, 55, 79, 52, 59, 39, 58, 17, 19, 98, 15, 54, 48, 46, 72, 45, 65, 28, 37, 30, \n",
    "                  68, 75, 16, 33, 31, 99, 22, 51, 27, 67, 85, 47, 44, 77, 64, 97, 84, 42, 90, 70, 74, 89, 32, 26, 24, 12, 81, \n",
    "                  53, 50, 35, 71, 63, 43, 86, 78, 66])\n",
    "\n",
    "# total number of elements \n",
    "N = len(data)\n",
    "\n",
    "# required number of samples\n",
    "n = 6\n",
    "\n",
    "# i.e. k = 15\n",
    "# arrange the data in 6 rows and 15 columns using 'reshape()'\n",
    "data = data.reshape(6,15)\n",
    "\n",
    "# use for loop to select each sample point\n",
    "for i in range(6):\n",
    "    \n",
    "    # select a sample point\n",
    "    # pass the second index as '2' to get the sales in the 3rd column of the reshaped data\n",
    "    sample_pt = data[i][2]\n",
    "    \n",
    "    # print a sample point\n",
    "    print(sample_pt)"
   ]
  },
  {
   "cell_type": "markdown",
   "metadata": {},
   "source": [
    "<a id=\"cluster\"></a>\n",
    "## 6.4 Cluster Sample"
   ]
  },
  {
   "cell_type": "markdown",
   "metadata": {},
   "source": [
    "Cluster sampling can be used when the population is a collection of small groups/clusters. This technique selects a complete cluster randomly as a single sampling unit."
   ]
  },
  {
   "cell_type": "markdown",
   "metadata": {},
   "source": [
    "### Example:\n",
    "\n",
    "#### 1. A pandemic had a severe impact on 17 states in a country. A health organization aims to study the situation in the impacted states. Consider each state as a cluster and use cluster sampling to select 5 states.\n",
    "\n",
    "    states = ['Arizona', 'Iowa', 'Ohio', 'Nevada', 'Texas', 'Alabama', ' Mississippi', 'Utah', 'Indiana', 'Florida', \n",
    "              'New York', 'Nebraska', 'California', 'Colorado', 'Montana', 'Oregon', 'Washington']"
   ]
  },
  {
   "cell_type": "code",
   "execution_count": 42,
   "metadata": {},
   "outputs": [
    {
     "data": {
      "text/plain": [
       "['Texas', 'Alabama', 'Iowa', 'Oregon', 'Montana']"
      ]
     },
     "execution_count": 42,
     "metadata": {},
     "output_type": "execute_result"
    }
   ],
   "source": [
    "# given states \n",
    "states = ['Arizona', 'Iowa', 'Ohio', 'Nevada', 'Texas', 'Alabama', ' Mississippi', 'Utah', 'Indiana', 'Florida', 'New York', \n",
    "          'Nebraska', 'California', 'Colorado', 'Montana', 'Oregon', 'Washington']\n",
    "\n",
    "# select 5 states using 'sample()'\n",
    "# pass the data to the parameter, 'population'\n",
    "# pass the required sample size to the parameter, 'k' \n",
    "cluster_samp = random.sample(population = states, k = 5)\n",
    "\n",
    "# selected states \n",
    "cluster_samp"
   ]
  },
  {
   "cell_type": "markdown",
   "metadata": {},
   "source": [
    "<a id=\"CLT\"></a>\n",
    "# 7. Central Limit Theorem"
   ]
  },
  {
   "cell_type": "markdown",
   "metadata": {},
   "source": [
    "Let $X_{1}, X_{2}, X_{3},..., X_{n}$ be the random sample drawn from a population with mean $\\mu$ and standard deviation $\\sigma$. The central limit theorem states that, for sufficiently large n, the sample mean $\\overline{X}$ follows an approximately normal distribution with mean $\\mu$ and standard deviation $\\frac{\\sigma}{\\sqrt{n}}$.\n",
    "\n",
    "i.e. $\\frac{\\overline{X} - \\mu}{\\frac{\\sigma}{\\sqrt{n}}}$ follows a standard normal distribution.\n",
    "\n",
    "For a normally distributed population, the above result holds for any sample size.\n",
    "\n",
    "For the population with distribution other than normal, generally, the sample size greater than or equal to 30 is considered as the large sample size."
   ]
  },
  {
   "cell_type": "markdown",
   "metadata": {},
   "source": [
    "Let us plot some graphs to demonstrate the CLT for positive, negative and normal population distribution."
   ]
  },
  {
   "cell_type": "code",
   "execution_count": 43,
   "metadata": {},
   "outputs": [],
   "source": [
    "# define a function to obtain the sample means for given population\n",
    "# pass the population and and number of samples as the input parameters\n",
    "def sample_mean_calculator(population_array, n_samples):\n",
    "    \n",
    "    # create an empty list to store the means of each sample\n",
    "    sample_means = []\n",
    "    for i in range(n_samples):\n",
    "       \n",
    "        # generates a random sample of size 500 from a given array or a list\n",
    "        sample = np.random.choice(population_array, size=500, replace=False)\n",
    "        \n",
    "        # calculate the mean of the sample data\n",
    "        sample_mean = np.mean(sample)\n",
    "        \n",
    "        # append the mean to the list\n",
    "        sample_means.append(sample_mean)    \n",
    "        \n",
    "    return sample_means"
   ]
  },
  {
   "cell_type": "code",
   "execution_count": 44,
   "metadata": {},
   "outputs": [
    {
     "data": {
      "image/png": "[encoded data removed]",
      "text/plain": [
       "<Figure size 1800x1800 with 40 Axes>"
      ]
     },
     "metadata": {},
     "output_type": "display_data"
    }
   ],
   "source": [
    "# set the plot size\n",
    "plt.rcParams[\"figure.figsize\"] = [25,25]\n",
    "\n",
    "# divide the plot into the specified number of subplots \n",
    "gs = gridspec.GridSpec(10, 5, width_ratios=[2, 3, 3, 3, 3], height_ratios=[1, 1, 1, 1, 1, 1, 1, 1, 1, 1])\n",
    "\n",
    "# generate a left skewed data\n",
    "lskew_population = skewnorm.rvs(-20, size=10000, random_state = 1)\n",
    "# plot a distribution plot\n",
    "sns.distplot(lskew_population, kde=False)\n",
    "\n",
    "# generate a normally distributed data\n",
    "normal_population = skewnorm.rvs(0, size = 10000, random_state = 1)\n",
    "# plot a distribution plot\n",
    "sns.distplot(normal_population, kde=False)\n",
    "\n",
    "# generate a right skewed data\n",
    "rskew_population = skewnorm.rvs(20, size=10000, random_state = 1)\n",
    "# plot a distribution plot\n",
    "sns.distplot(rskew_population, kde=False)\n",
    "\n",
    "# for the text\n",
    "t1 = plt.subplot(gs[0, 0])\n",
    "t1.text(0.0, 0.4, s=str(\"Population\\nDistribution\"), fontsize=18)\n",
    "t1.axis('off')\n",
    "\n",
    "# for left skewed population\n",
    "a1 = plt.subplot(gs[0, 1])\n",
    "a1.set_title(\"Left Skewed\", fontsize=18)\n",
    "a1 = sns.distplot(lskew_population)\n",
    "\n",
    "# for normal distribution population\n",
    "b1 = plt.subplot(gs[0, 2])\n",
    "b1.set_title(\"Normal\", fontsize=18)\n",
    "b1 = sns.distplot(normal_population)\n",
    "\n",
    "# for right skewed population\n",
    "c1 = plt.subplot(gs[0, 3])\n",
    "c1.set_title(\"Right Skewed\", fontsize=18)\n",
    "c1 = sns.distplot(rskew_population)\n",
    "\n",
    "## Number of samples: 10\n",
    "# for the text\n",
    "t2 = plt.subplot(gs[1, 0])\n",
    "t2.text(0.0, 0.4, s=str(\"nSamples: 10\"), fontsize=18)\n",
    "t2.axis('off')\n",
    "\n",
    "# for left skewed population sample\n",
    "a2 = plt.subplot(gs[1, 1])\n",
    "a2 = sns.distplot(sample_mean_calculator(lskew_population, 10))\n",
    "\n",
    "# for normal distribution population sample\n",
    "b2 = plt.subplot(gs[1, 2])\n",
    "b2 = sns.distplot(sample_mean_calculator(normal_population, 10))\n",
    "\n",
    "# for right skewed population sample\n",
    "c2 = plt.subplot(gs[1, 3])\n",
    "c2 = sns.distplot(sample_mean_calculator(rskew_population, 10))\n",
    "\n",
    "\n",
    "## Number of samples: 15\n",
    "# for the text\n",
    "t3 = plt.subplot(gs[2, 0])\n",
    "t3.text(0.0, 0.4, s=str(\"nSamples: 15\"), fontsize=18)\n",
    "t3.axis('off')\n",
    "\n",
    "# for left skewed population sample\n",
    "a3 = plt.subplot(gs[2, 1])\n",
    "a3 = sns.distplot(sample_mean_calculator(lskew_population, 15))\n",
    "\n",
    "# for normal distribution population sample\n",
    "b3 = plt.subplot(gs[2, 2])\n",
    "b3 = sns.distplot(sample_mean_calculator(normal_population, 15))\n",
    "\n",
    "# for right skewed population sample\n",
    "c3 = plt.subplot(gs[2, 3])\n",
    "c3 = sns.distplot(sample_mean_calculator(rskew_population, 15))\n",
    "\n",
    "\n",
    "## Number of samples: 25\n",
    "# for the text\n",
    "t4 = plt.subplot(gs[3, 0])\n",
    "t4.text(0.0, 0.4, s=str(\"nSamples: 25\"), fontsize=18)\n",
    "t4.axis('off')\n",
    "\n",
    "# for left skewed population sample\n",
    "a4 = plt.subplot(gs[3, 1])\n",
    "a4 = sns.distplot(sample_mean_calculator(lskew_population, 25))\n",
    "\n",
    "# for normal distribution population sample\n",
    "b4 = plt.subplot(gs[3, 2])\n",
    "b4 = sns.distplot(sample_mean_calculator(normal_population, 25))\n",
    "\n",
    "# for right skewed population sample\n",
    "c4 = plt.subplot(gs[3, 3])\n",
    "c4 = sns.distplot(sample_mean_calculator(rskew_population, 25))\n",
    "\n",
    "\n",
    "## Number of samples: 30\n",
    "# for the text\n",
    "t5 = plt.subplot(gs[4, 0])\n",
    "t5.text(0.0, 0.4, s=str(\"nSamples: 30\"), fontsize=18)\n",
    "t5.axis('off')\n",
    "\n",
    "# for left skewed population sample\n",
    "a5 = plt.subplot(gs[4, 1])\n",
    "a5 = sns.distplot(sample_mean_calculator(lskew_population, 30))\n",
    "\n",
    "# for normal distribution population sample\n",
    "b5 = plt.subplot(gs[4, 2])\n",
    "b5 = sns.distplot(sample_mean_calculator(normal_population, 30))\n",
    "\n",
    "# for right skewed population sample\n",
    "c5 = plt.subplot(gs[4, 3])\n",
    "c5 = sns.distplot(sample_mean_calculator(rskew_population, 30))\n",
    "\n",
    "\n",
    "## Number of samples: 50\n",
    "# for the text\n",
    "t6 = plt.subplot(gs[5, 0])\n",
    "t6.text(0.0, 0.4, s=str(\"nSamples: 50\"), fontsize=18)\n",
    "t6.axis('off')\n",
    "\n",
    "# for left skewed population sample\n",
    "a6 = plt.subplot(gs[5, 1])\n",
    "a6 = sns.distplot(sample_mean_calculator(lskew_population, 50))\n",
    "\n",
    "# for normal distribution population sample\n",
    "b6 = plt.subplot(gs[5, 2])\n",
    "b6 = sns.distplot(sample_mean_calculator(normal_population, 50))\n",
    "\n",
    "# for right skewed population sample\n",
    "c6 = plt.subplot(gs[5, 3])\n",
    "c6 = sns.distplot(sample_mean_calculator(rskew_population, 50))\n",
    "\n",
    "\n",
    "## Number of samples: 100\n",
    "# for the text\n",
    "t7 = plt.subplot(gs[6, 0])\n",
    "t7.text(0.0, 0.4, s=str(\"nSamples: 100\"), fontsize=18)\n",
    "t7.axis('off')\n",
    "\n",
    "# for left skewed population sample\n",
    "a7 = plt.subplot(gs[6, 1])\n",
    "a7 = sns.distplot(sample_mean_calculator(lskew_population, 100))\n",
    "\n",
    "# for normal distribution population sample\n",
    "b7 = plt.subplot(gs[6, 2])\n",
    "b7 = sns.distplot(sample_mean_calculator(normal_population, 100))\n",
    "\n",
    "# for right skewed population sample\n",
    "c7 = plt.subplot(gs[6, 3])\n",
    "c7 = sns.distplot(sample_mean_calculator(rskew_population, 100))\n",
    "\n",
    "\n",
    "## Number of samples: 500\n",
    "# for the text\n",
    "t8 = plt.subplot(gs[7, 0])\n",
    "t8.text(0.0, 0.4, s=str(\"nSamples: 500\"), fontsize=18)\n",
    "t8.axis('off')\n",
    "\n",
    "# for left skewed population sample\n",
    "a8 = plt.subplot(gs[7, 1])\n",
    "a8 = sns.distplot(sample_mean_calculator(lskew_population, 500))\n",
    "\n",
    "# for normal distribution population sample\n",
    "b8 = plt.subplot(gs[7, 2])\n",
    "b8 = sns.distplot(sample_mean_calculator(normal_population, 500))\n",
    "\n",
    "# for right skewed population sample\n",
    "c8 = plt.subplot(gs[7, 3])\n",
    "c8 = sns.distplot(sample_mean_calculator(rskew_population, 500))\n",
    "\n",
    "\n",
    "## Number of samples: 1000\n",
    "# for the text\n",
    "t9 = plt.subplot(gs[8, 0])\n",
    "t9.text(0.0, 0.4, s=str(\"nSamples: 1000\"), fontsize=18)\n",
    "t9.axis('off')\n",
    "\n",
    "# for left skewed population sample\n",
    "a9 = plt.subplot(gs[8, 1])\n",
    "a9 = sns.distplot(sample_mean_calculator(lskew_population, 1000))\n",
    "\n",
    "# for normal distribution population sample\n",
    "b9 = plt.subplot(gs[8, 2])\n",
    "b9 = sns.distplot(sample_mean_calculator(normal_population, 1000))\n",
    "\n",
    "# for right skewed population sample\n",
    "c9 = plt.subplot(gs[8, 3])\n",
    "c9 = sns.distplot(sample_mean_calculator(rskew_population, 1000))\n",
    "\n",
    "\n",
    "## Number of samples: 5000\n",
    "# for the text\n",
    "t10 = plt.subplot(gs[9, 0])\n",
    "t10.text(0.0, 0.4, s=str(\"nSamples: 5000\"), fontsize=18)\n",
    "t10.axis('off')\n",
    "\n",
    "# for left skewed population sample\n",
    "a10 = plt.subplot(gs[9, 1])\n",
    "a10 = sns.distplot(sample_mean_calculator(lskew_population, 5000))\n",
    "\n",
    "# for normal distribution population sample\n",
    "b10 = plt.subplot(gs[9, 2])\n",
    "b10 = sns.distplot(sample_mean_calculator(normal_population, 5000))\n",
    "\n",
    "# for right skewed population sample\n",
    "c10 = plt.subplot(gs[9, 3])\n",
    "c10 = sns.distplot(sample_mean_calculator(rskew_population, 5000))"
   ]
  }
 ],
 "metadata": {
  "kernelspec": {
   "display_name": "Python 3",
   "language": "python",
   "name": "python3"
  },
  "language_info": {
   "codemirror_mode": {
    "name": "ipython",
    "version": 3
   },
   "file_extension": ".py",
   "mimetype": "text/x-python",
   "name": "python",
   "nbconvert_exporter": "python",
   "pygments_lexer": "ipython3",
   "version": "3.8.5"
  }
 },
 "nbformat": 4,
 "nbformat_minor": 2
}

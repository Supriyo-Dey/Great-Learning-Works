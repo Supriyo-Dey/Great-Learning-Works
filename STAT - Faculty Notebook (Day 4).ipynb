{
 "cells": [
  {
   "cell_type": "markdown",
   "metadata": {},
   "source": [
    "<table align=\"left\" width=100%>\n",
    "    <tr>\n",
    "        <td width=\"20%\">\n",
    "            <img src=\"faculty.png\">\n",
    "        </td>\n",
    "        <td>\n",
    "            <div align=\"center\">\n",
    "                <font color=\"#21618C\" size=8px>\n",
    "                  <b> Faculty Notebook <br> (Day 4) </b>\n",
    "                </font>\n",
    "            </div>\n",
    "        </td>\n",
    "    </tr>\n",
    "</table>"
   ]
  },
  {
   "cell_type": "markdown",
   "metadata": {},
   "source": [
    "## Table of Content\n",
    "\n",
    "1. **[Import Libraries](#lib)**\n",
    "2. **[Chi-Square Test](#chisq)**\n",
    "    - 2.1 - **[Chi-Square Test for Goodness of Fit](#goodness)**\n",
    "    - 2.2 - **[Chi-Square Test for Independence](#ind)**\n",
    "    - 2.3 - **[Chi-Square Test for Equality of Variance](#var)**\n",
    "3. **[One-way ANOVA](#1way)**\n",
    "    - 3.1 - **[Post-hoc Analysis](#post-hoc)**\n",
    "4. **[Equivalent Non-parametric Test](#non-para)**\n",
    "5. **[Two-way ANOVA](#2way)**"
   ]
  },
  {
   "cell_type": "markdown",
   "metadata": {},
   "source": [
    "<a id=\"lib\"></a>\n",
    "# 1. Import Libraries"
   ]
  },
  {
   "cell_type": "markdown",
   "metadata": {},
   "source": [
    "**Let us import the required libraries.**"
   ]
  },
  {
   "cell_type": "code",
   "execution_count": 1,
   "metadata": {},
   "outputs": [],
   "source": [
    "# import 'pandas' \n",
    "import pandas as pd \n",
    "\n",
    "# import 'numpy' \n",
    "import numpy as np\n",
    "\n",
    "# import subpackage of matplotlib\n",
    "import matplotlib.pyplot as plt\n",
    "\n",
    "# import 'seaborn'\n",
    "import seaborn as sns\n",
    "\n",
    "# to suppress warnings \n",
    "from warnings import filterwarnings\n",
    "filterwarnings('ignore')\n",
    "\n",
    "# import statsmodels\n",
    "import statsmodels.api as sm\n",
    "from statsmodels.formula.api import ols\n",
    "from statsmodels.stats.anova import anova_lm\n",
    "\n",
    "# import 'stats' package from scipy library\n",
    "from scipy import stats\n",
    "\n",
    "# import the functions to perform Chi-square tests\n",
    "from scipy.stats import chi2_contingency\n",
    "from scipy.stats import chi2\n",
    "from scipy.stats import chisquare\n",
    "\n",
    "# function to perform post-hoc test\n",
    "import statsmodels.stats.multicomp as mc\n",
    "\n",
    "# import function to perform post-hoc\n",
    "# install scikit_posthocs using \"!pip install scikit_posthocs\" \n",
    "import scikit_posthocs"
   ]
  },
  {
   "cell_type": "code",
   "execution_count": 2,
   "metadata": {},
   "outputs": [],
   "source": [
    "# set the plot size using 'rcParams'\n",
    "# once the plot size is set using 'rcParams', it sets the size of all the forthcoming plots in the file\n",
    "# pass width and height in inches to 'figure.figsize' \n",
    "plt.rcParams['figure.figsize'] = [15,8]"
   ]
  },
  {
   "cell_type": "markdown",
   "metadata": {},
   "source": [
    "<a id=\"chisq\"></a>\n",
    "# 2. Chi-Square Test"
   ]
  },
  {
   "cell_type": "markdown",
   "metadata": {},
   "source": [
    "It is a non-parametric test. `Non-parametric tests` do not require any assumptions on the parameter of the population from which the sample is taken. These tests can be applied to the ordinal/ nominal data. A non-parametric test can be performed on the data containing outliers.\n",
    "\n",
    "The chi-square test statistic follows a Chi-square ($\\chi^{2}$) distribution under the null hypothesis. It can be used to check the relationship between the categorical variables. \n",
    "\n",
    "Let us calculate the right-tailed $\\chi^{2}$ values for different levels of significance ($\\alpha$)."
   ]
  },
  {
   "cell_type": "code",
   "execution_count": 3,
   "metadata": {},
   "outputs": [
    {
     "data": {
      "text/html": [
       "<div>\n",
       "<style scoped>\n",
       "    .dataframe tbody tr th:only-of-type {\n",
       "        vertical-align: middle;\n",
       "    }\n",
       "\n",
       "    .dataframe tbody tr th {\n",
       "        vertical-align: top;\n",
       "    }\n",
       "\n",
       "    .dataframe thead th {\n",
       "        text-align: right;\n",
       "    }\n",
       "</style>\n",
       "<table border=\"1\" class=\"dataframe\">\n",
       "  <thead>\n",
       "    <tr style=\"text-align: right;\">\n",
       "      <th></th>\n",
       "      <th>alpha</th>\n",
       "      <th>χ2</th>\n",
       "    </tr>\n",
       "  </thead>\n",
       "  <tbody>\n",
       "    <tr>\n",
       "      <th>0</th>\n",
       "      <td>0.25</td>\n",
       "      <td>12.55</td>\n",
       "    </tr>\n",
       "    <tr>\n",
       "      <th>1</th>\n",
       "      <td>0.10</td>\n",
       "      <td>15.99</td>\n",
       "    </tr>\n",
       "    <tr>\n",
       "      <th>2</th>\n",
       "      <td>0.05</td>\n",
       "      <td>18.31</td>\n",
       "    </tr>\n",
       "    <tr>\n",
       "      <th>3</th>\n",
       "      <td>0.01</td>\n",
       "      <td>23.21</td>\n",
       "    </tr>\n",
       "  </tbody>\n",
       "</table>\n",
       "</div>"
      ],
      "text/plain": [
       "   alpha     χ2\n",
       "0   0.25  12.55\n",
       "1   0.10  15.99\n",
       "2   0.05  18.31\n",
       "3   0.01  23.21"
      ]
     },
     "execution_count": 3,
     "metadata": {},
     "output_type": "execute_result"
    }
   ],
   "source": [
    "# let us find the χ2-values for different alpha values with 10 degrees of freedom\n",
    "\n",
    "# create an empty dataframe to store the alpha and corresponding χ2-value\n",
    "df_χ2 = pd.DataFrame()\n",
    "\n",
    "# create a dictionary of different alpha values\n",
    "alpha =  [0.25, 0.1, 0.05, 0.01] \n",
    "\n",
    "# use for loop to calculate the χ2-value for each alpha value\n",
    "for i in range(len(alpha)):\n",
    "    \n",
    "    # use 'stats.chi2.isf()' to find the χ2-value corresponding to the upper tail probability 'q'\n",
    "    # pass the value of 'alpha' to the parameter 'q'\n",
    "    # pass the 10 degrees of freedom to the parameter 'df' \n",
    "    # use 'round()' to round-off the value to 2 digits\n",
    "    chi_sq = np.abs(round(stats.chi2.isf(q = alpha[i], df = 10), 2))\n",
    "\n",
    "    # create a dataframe using dictionary to store the alpha and corresponding χ2-value\n",
    "    # set the loop iterator 'i' as the index of the dataframe\n",
    "    row =  pd.DataFrame({\"alpha\": alpha[i], \"χ2\": chi_sq}, index = [i])\n",
    "\n",
    "    # append the row to the dataframe 'df_χ2'\n",
    "    df_χ2 = df_χ2.append(row)\n",
    "\n",
    "# print the final dataframe\n",
    "df_χ2"
   ]
  },
  {
   "cell_type": "markdown",
   "metadata": {},
   "source": [
    "Let us study the following tests:<br>\n",
    "$\\bullet$ Chi-square test for goodness of fit<br>\n",
    "$\\bullet$ Chi-square test for independence<br>\n",
    "$\\bullet$ Chi-square test for equality of variance"
   ]
  },
  {
   "cell_type": "markdown",
   "metadata": {},
   "source": [
    "<a id=\"goodness\"></a>\n",
    "## 2.1 Chi-Square Test for Goodness of Fit"
   ]
  },
  {
   "cell_type": "markdown",
   "metadata": {},
   "source": [
    "This test is used to compare the distribution of the categorical data with the expected distribution. \n",
    "\n",
    "<p style='text-indent:6em'> <strong> $H_{0}$: There is no significant difference between the observed and expected frequencies from the expected distribution</strong></p>\n",
    "<p style='text-indent:6em'> <strong> $H_{1}$: There is a significant difference between the observed and expected frequencies from the expected distribution</strong></p>"
   ]
  },
  {
   "cell_type": "markdown",
   "metadata": {},
   "source": [
    "The test statistic is given as:\n",
    "<p style='text-indent:25em'> <strong> $\\chi^{2} = \\sum_{i = 1}^{k}\\frac{O_{i}^{2}}{E_{i}} - N$</strong></p>\n",
    "\n",
    "Where, <br>\n",
    "$O_{i}$: Observed frequency for category i <br>\n",
    "$E_{i}$: Expected frequency for category i<br>\n",
    "$N$: Total number of observations\n",
    "\n",
    "Under $H_{0}$, the test statistic follows a chi-square distribution with $(k - p - 1)$ degrees of freedom, where k is the number class frequencies and p is the number of estimated parameters. \n",
    "\n",
    "**Note:** All the expected frequencies should be greater than or equal to 5. If not, add the classes such that each class will have a frequency greater than or equal to 5."
   ]
  },
  {
   "cell_type": "markdown",
   "metadata": {},
   "source": [
    "### Example:\n",
    "\n",
    "#### 1. Check whether there is a significant difference between the observed and expected education values or not with 90% confidence. \n",
    "\n",
    "Consider the observed values from the performance dataset of students available in the CSV file `students_data.csv`. Consider the expected values from the demographic data given in the CSV file `demographic_data.csv`."
   ]
  },
  {
   "cell_type": "code",
   "execution_count": 4,
   "metadata": {
    "scrolled": false
   },
   "outputs": [
    {
     "data": {
      "text/html": [
       "<div>\n",
       "<style scoped>\n",
       "    .dataframe tbody tr th:only-of-type {\n",
       "        vertical-align: middle;\n",
       "    }\n",
       "\n",
       "    .dataframe tbody tr th {\n",
       "        vertical-align: top;\n",
       "    }\n",
       "\n",
       "    .dataframe thead th {\n",
       "        text-align: right;\n",
       "    }\n",
       "</style>\n",
       "<table border=\"1\" class=\"dataframe\">\n",
       "  <thead>\n",
       "    <tr style=\"text-align: right;\">\n",
       "      <th></th>\n",
       "      <th>gender</th>\n",
       "      <th>ethnicity</th>\n",
       "      <th>education</th>\n",
       "      <th>lunch</th>\n",
       "      <th>test_prep_course</th>\n",
       "      <th>math_score</th>\n",
       "      <th>reading_score</th>\n",
       "      <th>writing_score</th>\n",
       "      <th>total_score</th>\n",
       "      <th>training_institute</th>\n",
       "    </tr>\n",
       "  </thead>\n",
       "  <tbody>\n",
       "    <tr>\n",
       "      <th>0</th>\n",
       "      <td>female</td>\n",
       "      <td>group B</td>\n",
       "      <td>bachelor's degree</td>\n",
       "      <td>standard</td>\n",
       "      <td>none</td>\n",
       "      <td>89</td>\n",
       "      <td>55</td>\n",
       "      <td>56</td>\n",
       "      <td>200</td>\n",
       "      <td>Nature Learning</td>\n",
       "    </tr>\n",
       "    <tr>\n",
       "      <th>1</th>\n",
       "      <td>female</td>\n",
       "      <td>group C</td>\n",
       "      <td>college</td>\n",
       "      <td>standard</td>\n",
       "      <td>completed</td>\n",
       "      <td>55</td>\n",
       "      <td>63</td>\n",
       "      <td>72</td>\n",
       "      <td>190</td>\n",
       "      <td>Nature Learning</td>\n",
       "    </tr>\n",
       "  </tbody>\n",
       "</table>\n",
       "</div>"
      ],
      "text/plain": [
       "   gender ethnicity          education     lunch test_prep_course  math_score  \\\n",
       "0  female   group B  bachelor's degree  standard             none          89   \n",
       "1  female   group C            college  standard        completed          55   \n",
       "\n",
       "   reading_score  writing_score  total_score training_institute  \n",
       "0             55             56          200    Nature Learning  \n",
       "1             63             72          190    Nature Learning  "
      ]
     },
     "execution_count": 4,
     "metadata": {},
     "output_type": "execute_result"
    }
   ],
   "source": [
    "# read the students performance data \n",
    "df_student = pd.read_csv('students_data.csv')\n",
    "\n",
    "# display the first two observations\n",
    "df_student.head(2)"
   ]
  },
  {
   "cell_type": "code",
   "execution_count": 5,
   "metadata": {},
   "outputs": [
    {
     "data": {
      "text/html": [
       "<div>\n",
       "<style scoped>\n",
       "    .dataframe tbody tr th:only-of-type {\n",
       "        vertical-align: middle;\n",
       "    }\n",
       "\n",
       "    .dataframe tbody tr th {\n",
       "        vertical-align: top;\n",
       "    }\n",
       "\n",
       "    .dataframe thead th {\n",
       "        text-align: right;\n",
       "    }\n",
       "</style>\n",
       "<table border=\"1\" class=\"dataframe\">\n",
       "  <thead>\n",
       "    <tr style=\"text-align: right;\">\n",
       "      <th></th>\n",
       "      <th>education</th>\n",
       "    </tr>\n",
       "  </thead>\n",
       "  <tbody>\n",
       "    <tr>\n",
       "      <th>0</th>\n",
       "      <td>bachelor's degree</td>\n",
       "    </tr>\n",
       "    <tr>\n",
       "      <th>1</th>\n",
       "      <td>college</td>\n",
       "    </tr>\n",
       "  </tbody>\n",
       "</table>\n",
       "</div>"
      ],
      "text/plain": [
       "           education\n",
       "0  bachelor's degree\n",
       "1            college"
      ]
     },
     "execution_count": 5,
     "metadata": {},
     "output_type": "execute_result"
    }
   ],
   "source": [
    "# read the demographic data \n",
    "df_demographic = pd.read_csv('demographic_data.csv')\n",
    "\n",
    "# display the first two observations\n",
    "df_demographic.head(2)"
   ]
  },
  {
   "cell_type": "markdown",
   "metadata": {},
   "source": [
    "The null and alternative hypothesis is:\n",
    "\n",
    "H<sub>0</sub>: There is no significant difference between the observed and expected values. <br>\n",
    "H<sub>1</sub>: There is a significant difference between the observed and expected values."
   ]
  },
  {
   "cell_type": "markdown",
   "metadata": {},
   "source": [
    "Calculate the observed values using the dataframe `df_student`."
   ]
  },
  {
   "cell_type": "code",
   "execution_count": 6,
   "metadata": {
    "scrolled": false
   },
   "outputs": [
    {
     "data": {
      "text/plain": [
       "college               225\n",
       "associate's degree    222\n",
       "high school           197\n",
       "Ph.D.                 179\n",
       "bachelor's degree     118\n",
       "master's degree        59\n",
       "Name: education, dtype: int64"
      ]
     },
     "execution_count": 6,
     "metadata": {},
     "output_type": "execute_result"
    }
   ],
   "source": [
    "# use 'value_counts()' to calculate the count for each category in the variable 'education' \n",
    "observed_value = df_student['education'].value_counts()\n",
    "\n",
    "# observed values\n",
    "observed_value"
   ]
  },
  {
   "cell_type": "markdown",
   "metadata": {},
   "source": [
    "Now let us calculate the expected values using the dataframe `df_demographic`. The dataframe represents the population of the  education level of a student."
   ]
  },
  {
   "cell_type": "code",
   "execution_count": 7,
   "metadata": {
    "scrolled": true
   },
   "outputs": [
    {
     "data": {
      "text/plain": [
       "college               1250\n",
       "associate's degree    1200\n",
       "high school           1100\n",
       "Ph.D.                 1050\n",
       "bachelor's degree      940\n",
       "master's degree        600\n",
       "Name: education, dtype: int64"
      ]
     },
     "execution_count": 7,
     "metadata": {},
     "output_type": "execute_result"
    }
   ],
   "source": [
    "# use 'value_counts()' to calculate the count for each category in the variable 'education' \n",
    "exp_count = df_demographic['education'].value_counts()\n",
    "\n",
    "# count of each category\n",
    "exp_count"
   ]
  },
  {
   "cell_type": "code",
   "execution_count": 8,
   "metadata": {},
   "outputs": [],
   "source": [
    "# calculate the expected values for each category\n",
    "# multiply the count by sample size and divide it by total number of observations in the population\n",
    "expected_value = (exp_count * len(df_student)) / len(df_demographic)"
   ]
  },
  {
   "cell_type": "code",
   "execution_count": 9,
   "metadata": {},
   "outputs": [
    {
     "name": "stdout",
     "output_type": "stream",
     "text": [
      "Observed Values:  [225, 222, 197, 179, 118, 59]\n",
      "Expected Values:  [203.5830618892508, 195.43973941368077, 179.1530944625407, 171.0097719869707, 153.09446254071662, 97.71986970684038]\n"
     ]
    }
   ],
   "source": [
    "# create a list of observed values\n",
    "print(\"Observed Values: \", list(observed_value))\n",
    "\n",
    "# create a list of expected values\n",
    "print(\"Expected Values: \", list(expected_value))"
   ]
  },
  {
   "cell_type": "markdown",
   "metadata": {},
   "source": [
    "For ⍺ = 0.1 and degrees of freedom = 5, calculate the critical value."
   ]
  },
  {
   "cell_type": "code",
   "execution_count": 10,
   "metadata": {},
   "outputs": [
    {
     "name": "stdout",
     "output_type": "stream",
     "text": [
      "Critical value for chi-square test: 9.2364\n"
     ]
    }
   ],
   "source": [
    "# calculate the χ2-value for 90% of confidence level\n",
    "# use 'stats.chi2.isf()' to find the χ2-value corresponding to the upper tail probability 'q'\n",
    "# pass the value of 'alpha' to the parameter 'q', here alpha = 0.1\n",
    "# pass the degrees of freedom to the parameter 'df' \n",
    "# use 'round()' to round-off the value to 4 digits\n",
    "chi2_val = np.abs(round(stats.chi2.isf(q = 0.1, df = 5), 4))\n",
    "\n",
    "print('Critical value for chi-square test:', chi2_val)"
   ]
  },
  {
   "cell_type": "markdown",
   "metadata": {},
   "source": [
    "i.e. if the chi-square value is greater than 9.2364 then we reject the null hypothesis."
   ]
  },
  {
   "cell_type": "code",
   "execution_count": 11,
   "metadata": {
    "scrolled": true
   },
   "outputs": [
    {
     "name": "stdout",
     "output_type": "stream",
     "text": [
      "Test statistic: 31.400760035000467\n",
      "p-value: 7.8061673788274e-06\n"
     ]
    }
   ],
   "source": [
    "# use the 'chisquare()' to perform the goodness of fit test\n",
    "# the function returns the test statistic value and corresponding p-value\n",
    "# pass the observed values to the parameter, 'f_obs'\n",
    "# pass the expected values to the parameter, 'f_exp'\n",
    "test_stat, p_value = chisquare(f_obs = observed_value, f_exp = expected_value)\n",
    "\n",
    "print('Test statistic:', test_stat)\n",
    "print('p-value:', p_value)"
   ]
  },
  {
   "cell_type": "markdown",
   "metadata": {},
   "source": [
    "The above output shows that the chi-square test statistic is greater than 9.2364 and the p-value is less than 0.1, thus, we reject the null hypothesis and conclude that there is a significant difference between the observed and expected values."
   ]
  },
  {
   "cell_type": "markdown",
   "metadata": {},
   "source": [
    "Let us plot the acceptance and rejection region for a test with 90% confidence."
   ]
  },
  {
   "cell_type": "code",
   "execution_count": 12,
   "metadata": {
    "scrolled": false
   },
   "outputs": [
    {
     "data": {
      "image/png": "[encoded data removed]",
      "text/plain": [
       "<Figure size 1080x576 with 1 Axes>"
      ]
     },
     "metadata": {
      "needs_background": "light"
     },
     "output_type": "display_data"
    }
   ],
   "source": [
    "# consider a random variable 'X' that follows a chi-square distribution \n",
    "# pass the degrees of freedom to the parameter 'df' \n",
    "# pass the required number of observations to the parameter, 'size'\n",
    "# set 'random_state' to obtain the same observations every time you run the code \n",
    "X = stats.chi2.rvs(df = 5, size = 1000000, random_state = 4)\n",
    "\n",
    "# pass the data to the parameter, 'a'\n",
    "# 'hist=False' does not return the histogram \n",
    "# 'cumulative=False' in 'kde_kws' does not return the cumulative kernel density estimator\n",
    "ax = sns.distplot(a = X, hist = False, kde_kws = dict(cumulative=False))\n",
    "\n",
    "# set the limit for y-axis\n",
    "plt.ylim(0, 0.175)\n",
    "\n",
    "# set the left side limit for x-axis\n",
    "plt.xlim(0)\n",
    "\n",
    "# use 'stats.chi2.isf()' to calculate the critical value for alpha = 0.1\n",
    "# pass the value of 'alpha' to the parameter 'q'\n",
    "# pass the degrees of freedom to the parameter 'df' \n",
    "chi2 = stats.chi2.isf(q = 0.1, df = 5)\n",
    "\n",
    "# plot a vertical line at χ2-value\n",
    "x, y = [chi2, chi2], [0, 0.12]\n",
    "plt.plot(x, y, color = 'black')\n",
    "\n",
    "# plot a vertical line at χ2 test value\n",
    "x, y = [test_stat, test_stat], [0, 0.015]\n",
    "plt.plot(x, y, color = 'black')\n",
    "\n",
    "# add the color to the right of the χ2-value\n",
    "# get the data for x and y axes\n",
    "l1 = ax.lines[0]\n",
    "x1 = l1.get_xydata()[:,0]\n",
    "y1 = l1.get_xydata()[:,1]\n",
    "\n",
    "# fill the color for the region where x-values are greater than the critical χ2-value\n",
    "# pass the condition to shade the required region\n",
    "# pass the required color to the parameter, 'color'\n",
    "ax.fill_between(x1[x1 >= chi2], y1[x1 >= chi2], color = 'lightblue')\n",
    "\n",
    "# use 'annonate' function to draw an arrow between points xy and xytext\n",
    "# 's' is a argument to write text\n",
    "# we can change the facecolor and arrowstyle; this is only for representation purpose\n",
    "plt.annotate(s = 'α = 0.1\\n(Rejection Region for H0)', xy = (11, 0.01), xytext = (12, 0.025), \n",
    "             arrowprops = dict(facecolor = 'black', arrowstyle = 'simple'))\n",
    "\n",
    "plt.annotate(s = 'χ2_crit = '+ str(round(chi2,2)), xy = (chi2, 0.06), xytext = (chi2+1, 0.08), \n",
    "             arrowprops = dict(facecolor = 'black', arrowstyle = 'simple'))\n",
    "\n",
    "# use below code to print the values in the graph\n",
    "# 'x' and 'y' gives position of the text\n",
    "# 's' is the text \n",
    "plt.text(x = 1.8, y = 0.06, s = 'Acceptance Region \\n for H0 (1 - α)')\n",
    "\n",
    "# assign the x-axis labels\n",
    "# pass the position of labels to the parameter, 'ticks'\n",
    "# pass the required labels to the parameter, 'labels'\n",
    "plt.xticks(ticks = [0, 4, 8, 12, 16, 20, 24, 28, round(test_stat,2)], \n",
    "           labels = [0, 4, 8, 12, 16, 20, 24, 28, 'χ2_test = '+str(round(test_stat,2))])\n",
    "\n",
    "# set plot and axes labels\n",
    "# set text size using 'fontsize'\n",
    "plt.xlabel('χ2', fontsize = 15)\n",
    "plt.ylabel('Probability', fontsize = 15)\n",
    "plt.title('Test Region', fontsize = 15)\n",
    "\n",
    "# display the plot\n",
    "plt.show()"
   ]
  },
  {
   "cell_type": "markdown",
   "metadata": {},
   "source": [
    "The above plot shows that the test statistic value is in the rejection region, which implies that we reject $H_{0}$."
   ]
  },
  {
   "cell_type": "markdown",
   "metadata": {},
   "source": [
    "#### 2. At an emporium, the manager is interested in knowing the age group which visits the mall during the day. He defines categories as - children, teenagers, adults and senior citizens. He plans to have his inventory of goods accordingly. He claims that out of all the people who visited 5% are children, 38% are teenagers, 2% are senior citizens are remaining are adults. From a sample of 180 people, it was seen that 25 were children, 50 were teenagers, 90 were adults and  15 were senior citizens. Test the manager’s claim at a 95% confidence level.\n"
   ]
  },
  {
   "cell_type": "markdown",
   "metadata": {},
   "source": [
    "The null and alternative hypothesis is:\n",
    "\n",
    "H<sub>0</sub>: The manager's claim is correct <br>\n",
    "H<sub>1</sub>: The manager's claim is not correct"
   ]
  },
  {
   "cell_type": "markdown",
   "metadata": {},
   "source": [
    "For ⍺ = 0.05 and degrees of freedom = 3, calculate the critical value."
   ]
  },
  {
   "cell_type": "code",
   "execution_count": 13,
   "metadata": {},
   "outputs": [
    {
     "name": "stdout",
     "output_type": "stream",
     "text": [
      "Critical value for chi-square test: 7.8147\n"
     ]
    }
   ],
   "source": [
    "# calculate the χ2-value for 90% of confidence level\n",
    "# use 'stats.chi2.isf()' to find the χ2-value corresponding to the upper tail probability 'q'\n",
    "# pass the value of 'alpha' to the parameter 'q', here alpha = 0.1\n",
    "# pass the degrees of freedom to the parameter 'df' \n",
    "# use 'round()' to round-off the value to 4 digits\n",
    "chi2_val = np.abs(round(stats.chi2.isf(q = 0.05, df = 3), 4))\n",
    "\n",
    "print('Critical value for chi-square test:', chi2_val)"
   ]
  },
  {
   "cell_type": "markdown",
   "metadata": {},
   "source": [
    "i.e. if the chi-square value is greater than 7.8147 then we reject the null hypothesis."
   ]
  },
  {
   "cell_type": "code",
   "execution_count": 14,
   "metadata": {
    "scrolled": true
   },
   "outputs": [
    {
     "name": "stdout",
     "output_type": "stream",
     "text": [
      "Test statistic: 64.2773321449792\n",
      "p-value: 7.160266387019384e-14\n"
     ]
    }
   ],
   "source": [
    "# given observed values\n",
    "observed_value = [25, 50, 90, 15]\n",
    "\n",
    "# expected count \n",
    "exp_count = [0.05, 0.38, 0.55, 0.02]\n",
    "\n",
    "# calculate the expected values for each category\n",
    "# expected_value = (np.array(exp_count) * 180) \n",
    "expected_value = [9, 68, 99, 4]\n",
    "\n",
    "# use the 'chisquare()' to perform the goodness of fit test\n",
    "# the function returns the test statistic value and corresponding p-value\n",
    "# pass the observed values to the parameter, 'f_obs'\n",
    "# pass the expected values to the parameter, 'f_exp'\n",
    "stat, p_value = chisquare(f_obs = observed_value, f_exp = expected_value)\n",
    "\n",
    "print('Test statistic:', stat)\n",
    "print('p-value:', p_value)"
   ]
  },
  {
   "cell_type": "markdown",
   "metadata": {},
   "source": [
    "The above output shows that the chi-square test statistic is greater than 7.8147 and the p-value is less than 0.05. Thus, we reject the null hypothesis and conclude that manager's claim is not correct."
   ]
  },
  {
   "cell_type": "markdown",
   "metadata": {},
   "source": [
    "<a id=\"ind\"></a>\n",
    "## 2.2 Chi-Square Test for Independence"
   ]
  },
  {
   "cell_type": "markdown",
   "metadata": {},
   "source": [
    "This test is used to test whether the categorical variables are independent or not.\n",
    "\n",
    "<p style='text-indent:20em'> <strong> $H_{0}$: The variables are independent</strong></p>\n",
    "<p style='text-indent:20em'> <strong> $H_{1}$: The variables are not independent (i.e. variables are dependent)</strong></p>"
   ]
  },
  {
   "cell_type": "markdown",
   "metadata": {},
   "source": [
    "Consider a categorical variable `A` with `r` levels and variable `B` with `c` levels. Let us test the independence of variables A and B.\n",
    "\n",
    "The test statistic is given as:\n",
    "<p style='text-indent:25em'> <strong> $\\chi^{2} = \\sum_{i= 1}^{r}\\sum_{j = 1}^{c}\\frac{O_{ij}^{2}}{E_{ij}} - N$</strong></p>\n",
    "\n",
    "Where, <br>\n",
    "$O_{ij}$: Observed frequency for category (i,j) <br>\n",
    "$E_{ij}$: Expected frequency for category (i,j)<br>\n",
    "$N$: Total number of observations\n",
    "\n",
    "Under $H_{0}$, the test statistic follows a chi-square distribution with $(r-1)(c-1)$ degrees of freedom."
   ]
  },
  {
   "cell_type": "markdown",
   "metadata": {},
   "source": [
    "### Example:\n",
    "\n",
    "#### 1. Check if there is any relationship between the gender and education level of students with 95% confidence. \n",
    "\n",
    "Use the performance dataset of students available in the CSV file `students_data.csv`."
   ]
  },
  {
   "cell_type": "code",
   "execution_count": 15,
   "metadata": {
    "scrolled": false
   },
   "outputs": [
    {
     "data": {
      "text/html": [
       "<div>\n",
       "<style scoped>\n",
       "    .dataframe tbody tr th:only-of-type {\n",
       "        vertical-align: middle;\n",
       "    }\n",
       "\n",
       "    .dataframe tbody tr th {\n",
       "        vertical-align: top;\n",
       "    }\n",
       "\n",
       "    .dataframe thead th {\n",
       "        text-align: right;\n",
       "    }\n",
       "</style>\n",
       "<table border=\"1\" class=\"dataframe\">\n",
       "  <thead>\n",
       "    <tr style=\"text-align: right;\">\n",
       "      <th></th>\n",
       "      <th>gender</th>\n",
       "      <th>ethnicity</th>\n",
       "      <th>education</th>\n",
       "      <th>lunch</th>\n",
       "      <th>test_prep_course</th>\n",
       "      <th>math_score</th>\n",
       "      <th>reading_score</th>\n",
       "      <th>writing_score</th>\n",
       "      <th>total_score</th>\n",
       "      <th>training_institute</th>\n",
       "    </tr>\n",
       "  </thead>\n",
       "  <tbody>\n",
       "    <tr>\n",
       "      <th>0</th>\n",
       "      <td>female</td>\n",
       "      <td>group B</td>\n",
       "      <td>bachelor's degree</td>\n",
       "      <td>standard</td>\n",
       "      <td>none</td>\n",
       "      <td>89</td>\n",
       "      <td>55</td>\n",
       "      <td>56</td>\n",
       "      <td>200</td>\n",
       "      <td>Nature Learning</td>\n",
       "    </tr>\n",
       "    <tr>\n",
       "      <th>1</th>\n",
       "      <td>female</td>\n",
       "      <td>group C</td>\n",
       "      <td>college</td>\n",
       "      <td>standard</td>\n",
       "      <td>completed</td>\n",
       "      <td>55</td>\n",
       "      <td>63</td>\n",
       "      <td>72</td>\n",
       "      <td>190</td>\n",
       "      <td>Nature Learning</td>\n",
       "    </tr>\n",
       "  </tbody>\n",
       "</table>\n",
       "</div>"
      ],
      "text/plain": [
       "   gender ethnicity          education     lunch test_prep_course  math_score  \\\n",
       "0  female   group B  bachelor's degree  standard             none          89   \n",
       "1  female   group C            college  standard        completed          55   \n",
       "\n",
       "   reading_score  writing_score  total_score training_institute  \n",
       "0             55             56          200    Nature Learning  \n",
       "1             63             72          190    Nature Learning  "
      ]
     },
     "execution_count": 15,
     "metadata": {},
     "output_type": "execute_result"
    }
   ],
   "source": [
    "# read the students performance data \n",
    "df_student = pd.read_csv('students_data.csv')\n",
    "\n",
    "# display the first two observations\n",
    "df_student.head(2)"
   ]
  },
  {
   "cell_type": "markdown",
   "metadata": {},
   "source": [
    "The null and alternative hypothesis is:\n",
    "\n",
    "H<sub>0</sub>: The variables gender and education are independent<br>\n",
    "H<sub>1</sub>: The variables gender and education are not independent"
   ]
  },
  {
   "cell_type": "code",
   "execution_count": 16,
   "metadata": {},
   "outputs": [
    {
     "data": {
      "text/plain": [
       "array([[ 91, 116,  63, 117,  94,  36],\n",
       "       [ 88, 106,  55, 108, 103,  23]], dtype=int64)"
      ]
     },
     "execution_count": 16,
     "metadata": {},
     "output_type": "execute_result"
    }
   ],
   "source": [
    "# use 'crosstab()' to create a table for each education level and corresponding gender count \n",
    "table = pd.crosstab(df_student['gender'], df_student['education'])\n",
    "\n",
    "# observed values  \n",
    "observed_value = table.values\n",
    "observed_value"
   ]
  },
  {
   "cell_type": "markdown",
   "metadata": {},
   "source": [
    "For ⍺ = 0.05 and degrees of freedom = 5, calculate the critical value."
   ]
  },
  {
   "cell_type": "code",
   "execution_count": 17,
   "metadata": {
    "scrolled": true
   },
   "outputs": [
    {
     "name": "stdout",
     "output_type": "stream",
     "text": [
      "Critical value for chi-square test: 11.0705\n"
     ]
    }
   ],
   "source": [
    "# calculate the χ2-value for 95% of confidence level\n",
    "# use 'stats.chi2.isf()' to find the χ2-value corresponding to the upper tail probability 'q'\n",
    "# pass the value of 'alpha' to the parameter 'q', here alpha = 0.05\n",
    "# pass the degrees of freedom to the parameter 'df' \n",
    "# use 'round()' to round-off the value to 4 digits\n",
    "chi2_val = np.abs(round(stats.chi2.isf(q = 0.05, df = 5), 4))\n",
    "\n",
    "print('Critical value for chi-square test:', chi2_val)"
   ]
  },
  {
   "cell_type": "markdown",
   "metadata": {},
   "source": [
    "i.e. if the chi-square value is greater than 11.0705 then we reject the null hypothesis."
   ]
  },
  {
   "cell_type": "code",
   "execution_count": 18,
   "metadata": {},
   "outputs": [
    {
     "name": "stdout",
     "output_type": "stream",
     "text": [
      "Test statistic: 3.5267538812534243\n",
      "p-value: 0.6193433487137843\n",
      "Degrees of freedom: 5\n",
      "Expected values: [[ 92.543 114.774  61.006 116.325 101.849  30.503]\n",
      " [ 86.457 107.226  56.994 108.675  95.151  28.497]]\n"
     ]
    }
   ],
   "source": [
    "# use the 'chi2_contingency()' to check the independence of variables\n",
    "# the function returns the test statistic value, corresponding p-value, degrees of freedom of the test and expected values\n",
    "# pass the observed values to the parameter, 'observed'\n",
    "# 'correction = False' will not apply the Yates' correction\n",
    "test_stat, p, dof, expected_value = chi2_contingency(observed = observed_value, correction = False)\n",
    "\n",
    "print(\"Test statistic:\", test_stat)\n",
    "print(\"p-value:\", p)\n",
    "print(\"Degrees of freedom:\", dof)\n",
    "print(\"Expected values:\", expected_value)"
   ]
  },
  {
   "cell_type": "markdown",
   "metadata": {},
   "source": [
    "The above output shows that the chi-square test statistic is less than 11.0705 and the p-value is greater than 0.05, thus we fail to reject (i.e. accept) the null hypothesis and conclude that the variables `gender` and `education` are independent."
   ]
  },
  {
   "cell_type": "markdown",
   "metadata": {},
   "source": [
    "Let us plot the acceptance and rejection region for a test with 95% confidence."
   ]
  },
  {
   "cell_type": "code",
   "execution_count": 19,
   "metadata": {
    "scrolled": false
   },
   "outputs": [
    {
     "data": {
      "image/png": "[encoded data removed]",
      "text/plain": [
       "<Figure size 1080x576 with 1 Axes>"
      ]
     },
     "metadata": {
      "needs_background": "light"
     },
     "output_type": "display_data"
    }
   ],
   "source": [
    "# consider a random variable 'X' that follows a chi-square distribution \n",
    "# pass the degrees of freedom to the parameter 'df' \n",
    "# pass the required number of observations to the parameter, 'size'\n",
    "# set 'random_state' to obtain the same observations every time you run the code \n",
    "X = stats.chi2.rvs(df = 5, size = 1000000, random_state = 12)\n",
    "\n",
    "# pass the data to the parameter, 'a'\n",
    "# 'hist=False' does not return the histogram \n",
    "# 'cumulative=False' in 'kde_kws' does not return the cumulative kernel density estimator\n",
    "ax = sns.distplot(a = X, hist = False, kde_kws = dict(cumulative=False))\n",
    "\n",
    "# set the limit for y-axis\n",
    "plt.ylim(0, 0.18)\n",
    "\n",
    "# set the limit for x-axis\n",
    "plt.xlim(0, 30)\n",
    "\n",
    "# use 'stats.chi2.isf()' to calculate the critical value for alpha = 0.05\n",
    "# pass the value of 'alpha' to the parameter 'q'\n",
    "# pass the degrees of freedom to the parameter 'df' \n",
    "chi2 = stats.chi2.isf(q = 0.05, df = 5)\n",
    "\n",
    "# plot a vertical line at χ2-value\n",
    "x, y = [chi2, chi2], [0, 0.12]\n",
    "plt.plot(x, y, color = 'black')\n",
    "\n",
    "# plot a vertical line at χ2 test value\n",
    "x, y = [test_stat, test_stat], [0, 0.02]\n",
    "plt.plot(x, y, color = 'black')\n",
    "\n",
    "# add the color to the right of the χ2-value\n",
    "# get the data for x and y axes\n",
    "l1 = ax.lines[0]\n",
    "x1 = l1.get_xydata()[:,0]\n",
    "y1 = l1.get_xydata()[:,1]\n",
    "\n",
    "# fill the color for the region where x-values are greater than the critical χ2-value\n",
    "# pass the condition to shade the required region\n",
    "# pass the required color to the parameter, 'color'\n",
    "ax.fill_between(x1[x1 >= chi2], y1[x1 >= chi2], color = 'lightblue')\n",
    "\n",
    "# use 'annonate' function to draw an arrow between points xy and xytext\n",
    "# 's' is a argument to write text\n",
    "# we can change the facecolor and arrowstyle; this is only for representation purpose\n",
    "plt.annotate(s = 'α = 0.05\\n(Rejection Region for H0)', xy = (12, 0.007), xytext = (12.5, 0.025), \n",
    "             arrowprops = dict(facecolor = 'black', arrowstyle = 'simple'))\n",
    "\n",
    "plt.annotate(s = 'χ2_crit = '+ str(round(chi2,2)), xy = (chi2, 0.06), xytext = (chi2+1.5, 0.08), \n",
    "             arrowprops = dict(facecolor = 'black', arrowstyle = 'simple'))\n",
    "\n",
    "# use below code to print the values in the graph\n",
    "# 'x' and 'y' gives position of the text\n",
    "# 's' is the text \n",
    "plt.text(x = 1.8, y = 0.06, s = 'Acceptance Region \\n for H0 (1 - α)')\n",
    "\n",
    "# assign the x-axis labels\n",
    "# pass the position of labels to the parameter, 'ticks'\n",
    "# pass the required labels to the parameter, 'labels'\n",
    "plt.xticks(ticks = [0, 6, 8, 10, 12, round(test_stat,2)], \n",
    "           labels = [0, 6, 8, 10, 12, 'χ2_test = '+str(round(test_stat,2))])\n",
    "\n",
    "# set plot and axes labels\n",
    "# set text size using 'fontsize'\n",
    "plt.xlabel('χ2', fontsize = 15)\n",
    "plt.ylabel('Probability', fontsize = 15)\n",
    "plt.title('Test Region', fontsize = 15)\n",
    "\n",
    "# display the plot\n",
    "plt.show()"
   ]
  },
  {
   "cell_type": "markdown",
   "metadata": {},
   "source": [
    "The above plot shows that the test statistic value is in the acceptance region, which implies that we fail to reject (i.e. accept) $H_{0}$."
   ]
  },
  {
   "cell_type": "markdown",
   "metadata": {},
   "source": [
    "#### 2. A study was conducted to test the effect of the malaria parasite - plasmodium falciparum - on heterozygous and homozygous humans. The vaccine was given to a cohort of 252 humans. Test whether the heterozygous humans are better protected than homozygous. Consider 0.05 as a level of significance.\n",
    "\n",
    "<img src='chi2_ind.png'>"
   ]
  },
  {
   "cell_type": "markdown",
   "metadata": {},
   "source": [
    "The null and alternative hypothesis is:\n",
    "\n",
    "H<sub>0</sub>: The zygote type and infection with malaria parasite is independent<br>\n",
    "H<sub>1</sub>: The zygote type and infection with malaria parasite is not independent"
   ]
  },
  {
   "cell_type": "code",
   "execution_count": 20,
   "metadata": {},
   "outputs": [],
   "source": [
    "# observed values  \n",
    "observed_value = np.array([[93, 51], [68, 40]])"
   ]
  },
  {
   "cell_type": "markdown",
   "metadata": {},
   "source": [
    "For ⍺ = 0.05 and degrees of freedom = 1, calculate the critical value."
   ]
  },
  {
   "cell_type": "code",
   "execution_count": 21,
   "metadata": {},
   "outputs": [
    {
     "name": "stdout",
     "output_type": "stream",
     "text": [
      "Critical value for chi-square test: 3.8415\n"
     ]
    }
   ],
   "source": [
    "# calculate the χ2-value for 95% of confidence level\n",
    "# use 'stats.chi2.isf()' to find the χ2-value corresponding to the upper tail probability 'q'\n",
    "# pass the value of 'alpha' to the parameter 'q', here alpha = 0.05\n",
    "# pass the degrees of freedom to the parameter 'df' \n",
    "# use 'round()' to round-off the value to 4 digits\n",
    "chi2_val = np.abs(round(stats.chi2.isf(q = 0.05, df = 1), 4))\n",
    "\n",
    "print('Critical value for chi-square test:', chi2_val)"
   ]
  },
  {
   "cell_type": "markdown",
   "metadata": {},
   "source": [
    "i.e. if the chi-square value is greater than 3.8415 then we reject the null hypothesis."
   ]
  },
  {
   "cell_type": "code",
   "execution_count": 22,
   "metadata": {},
   "outputs": [
    {
     "name": "stdout",
     "output_type": "stream",
     "text": [
      "Test statistic: 0.07023411371237459\n",
      "p-value: 0.790996215494177\n",
      "Degrees of freedom: 1\n",
      "Expected values: [[92. 52.]\n",
      " [69. 39.]]\n"
     ]
    }
   ],
   "source": [
    "# use the 'chi2_contingency()' to check the independence of variables\n",
    "# the function returns the test statistic value, corresponding p-value, degrees of freedom of the test and expected values\n",
    "# pass the observed values to the parameter, 'observed'\n",
    "# 'correction = False' will not apply the Yates' correction\n",
    "test_stat, p, dof, expected_value = chi2_contingency(observed = observed_value, correction = False)\n",
    "\n",
    "# print the output\n",
    "print(\"Test statistic:\", test_stat)\n",
    "print(\"p-value:\", p)\n",
    "print(\"Degrees of freedom:\", dof)\n",
    "print(\"Expected values:\", expected_value)"
   ]
  },
  {
   "cell_type": "markdown",
   "metadata": {},
   "source": [
    "The above output shows that the chi-square test statistic is less than 3.8415 and the p-value is greater than 0.05. Thus we fail to reject (i.e. accept) the null hypothesis and conclude that the zygote type and infection of the malaria parasite are independent."
   ]
  },
  {
   "cell_type": "markdown",
   "metadata": {},
   "source": [
    "<a id=\"var\"></a>\n",
    "## 2.3 Chi-Square Test for Equality of Variance"
   ]
  },
  {
   "cell_type": "markdown",
   "metadata": {},
   "source": [
    "This test is used to test whether the population variance ($\\sigma^{2}$) is equal to a specific value ($\\sigma_{0}^{2}$). Consider that the population mean ($\\mu$) is known.\n",
    "\n",
    "<p style='text-indent:20em'> <strong> $H_{0}$: $\\sigma^{2} = \\sigma^{2}_{0}$ or $\\sigma^{2} \\geq \\sigma^{2}_{0}$ or $\\sigma^{2} \\leq \\sigma^{2}_{0}$  </strong></p>\n",
    "<p style='text-indent:20em'> <strong> $H_{1}$: $\\sigma^{2} \\neq \\sigma^{2}_{0}$ or $\\sigma^{2} < \\sigma^{2}_{0}$ or $\\sigma^{2} > \\sigma^{2}_{0}$  </strong></p>"
   ]
  },
  {
   "cell_type": "markdown",
   "metadata": {},
   "source": [
    "The test statistic is given as:\n",
    "<p style='text-indent:25em'> <strong> $\\chi^{2} = \\frac{\\sum_{i= 1}^{n}(x_{i} - \\mu)^{2}}{\\sigma_{0}^{2}}$</strong></p>\n",
    "\n",
    "Where, <br>\n",
    "$\\mu$: Population mean<br>\n",
    "$n$: Sample size\n",
    "\n",
    "Under $H_{0}$, the test statistic follows a chi-square distribution with $n$ degrees of freedom.\n",
    "\n",
    "If the population mean ($\\mu$) is unknown, use sample mean ($\\bar{x}$) instead of $\\mu$. In this case, the test statistic follows a chi-square distribution with $n-1$ degrees of freedom."
   ]
  },
  {
   "cell_type": "markdown",
   "metadata": {},
   "source": [
    "### Example:\n",
    "\n",
    "#### 1. The state board of studies has a record of marks for all the students. The committee of basic sciences wants to check if the variance in the mathematics score is 130 or not. A sample of 55 students is collected from two different institutes. Perform a two-tailed chi-square test with a 5% level of significance."
   ]
  },
  {
   "cell_type": "markdown",
   "metadata": {},
   "source": [
    "Use the dataset of students available in the CSV file `chisq_var.csv`."
   ]
  },
  {
   "cell_type": "code",
   "execution_count": 23,
   "metadata": {
    "scrolled": true
   },
   "outputs": [
    {
     "data": {
      "text/html": [
       "<div>\n",
       "<style scoped>\n",
       "    .dataframe tbody tr th:only-of-type {\n",
       "        vertical-align: middle;\n",
       "    }\n",
       "\n",
       "    .dataframe tbody tr th {\n",
       "        vertical-align: top;\n",
       "    }\n",
       "\n",
       "    .dataframe thead th {\n",
       "        text-align: right;\n",
       "    }\n",
       "</style>\n",
       "<table border=\"1\" class=\"dataframe\">\n",
       "  <thead>\n",
       "    <tr style=\"text-align: right;\">\n",
       "      <th></th>\n",
       "      <th>gender</th>\n",
       "      <th>ethnicity</th>\n",
       "      <th>education</th>\n",
       "      <th>lunch</th>\n",
       "      <th>test_prep_course</th>\n",
       "      <th>math_score</th>\n",
       "      <th>reading_score</th>\n",
       "      <th>writing_score</th>\n",
       "      <th>total_score</th>\n",
       "      <th>training_institute</th>\n",
       "    </tr>\n",
       "  </thead>\n",
       "  <tbody>\n",
       "    <tr>\n",
       "      <th>0</th>\n",
       "      <td>female</td>\n",
       "      <td>group C</td>\n",
       "      <td>associate's degree</td>\n",
       "      <td>free/reduced</td>\n",
       "      <td>none</td>\n",
       "      <td>76</td>\n",
       "      <td>65</td>\n",
       "      <td>80</td>\n",
       "      <td>221</td>\n",
       "      <td>Nature Learning</td>\n",
       "    </tr>\n",
       "    <tr>\n",
       "      <th>1</th>\n",
       "      <td>male</td>\n",
       "      <td>group D</td>\n",
       "      <td>high school</td>\n",
       "      <td>standard</td>\n",
       "      <td>none</td>\n",
       "      <td>63</td>\n",
       "      <td>71</td>\n",
       "      <td>51</td>\n",
       "      <td>185</td>\n",
       "      <td>Nature Learning</td>\n",
       "    </tr>\n",
       "  </tbody>\n",
       "</table>\n",
       "</div>"
      ],
      "text/plain": [
       "   gender ethnicity           education         lunch test_prep_course  \\\n",
       "0  female   group C  associate's degree  free/reduced             none   \n",
       "1    male   group D         high school      standard             none   \n",
       "\n",
       "   math_score  reading_score  writing_score  total_score training_institute  \n",
       "0          76             65             80          221    Nature Learning  \n",
       "1          63             71             51          185    Nature Learning  "
      ]
     },
     "execution_count": 23,
     "metadata": {},
     "output_type": "execute_result"
    }
   ],
   "source": [
    "# read the students performance data \n",
    "df_student = pd.read_csv('chisq_var.csv')\n",
    "\n",
    "# display the first two observations\n",
    "df_student.head(2)"
   ]
  },
  {
   "cell_type": "markdown",
   "metadata": {},
   "source": [
    "The null and alternative hypothesis is:\n",
    "\n",
    "H<sub>0</sub>: $\\sigma^{2} = 130$<br>\n",
    "H<sub>1</sub>: $\\sigma^{2} \\neq 130$"
   ]
  },
  {
   "cell_type": "code",
   "execution_count": 24,
   "metadata": {},
   "outputs": [
    {
     "name": "stdout",
     "output_type": "stream",
     "text": [
      "Degrees of freedom: 54\n"
     ]
    }
   ],
   "source": [
    "# hypothesized variance\n",
    "sig_2 = 130\n",
    "\n",
    "# sample size\n",
    "n = len(df_student)\n",
    "\n",
    "# the population mean is unknown, use sample mean\n",
    "samp_mean = np.mean(df_student['math_score'])\n",
    "\n",
    "# degrees of freedom\n",
    "print('Degrees of freedom:', n-1)"
   ]
  },
  {
   "cell_type": "markdown",
   "metadata": {},
   "source": [
    "As chi-square distribution is not symmetric, we calculate the critical value for the left and right tail separately for a two-tailed test."
   ]
  },
  {
   "cell_type": "markdown",
   "metadata": {},
   "source": [
    "For ⍺ = 0.05 and degrees of freedom = 54, calculate the critical value for the left-tail."
   ]
  },
  {
   "cell_type": "code",
   "execution_count": 25,
   "metadata": {},
   "outputs": [
    {
     "name": "stdout",
     "output_type": "stream",
     "text": [
      "Critical value for chi-square test: 35.5863\n"
     ]
    }
   ],
   "source": [
    "# calculate the χ2-value for 95% of confidence level\n",
    "# use 'stats.chi2.ppf()' to find the χ2-value corresponding to the lower tail probability 'q'\n",
    "# pass the value of 'alpha/2' to the parameter 'q', for left-tail\n",
    "# pass the degrees of freedom to the parameter 'df' \n",
    "# use 'round()' to round-off the value to 4 digits\n",
    "chi2_val_left = np.abs(round(stats.chi2.ppf(q = 0.05/2, df = 54), 4))\n",
    "\n",
    "print('Critical value for chi-square test:', chi2_val_left)"
   ]
  },
  {
   "cell_type": "markdown",
   "metadata": {},
   "source": [
    "i.e. if the chi-square value is less than 35.5863 then we reject the null hypothesis."
   ]
  },
  {
   "cell_type": "markdown",
   "metadata": {},
   "source": [
    "For ⍺ = 0.05 and degrees of freedom = 54, calculate the critical value for the right-tail."
   ]
  },
  {
   "cell_type": "code",
   "execution_count": 26,
   "metadata": {},
   "outputs": [
    {
     "name": "stdout",
     "output_type": "stream",
     "text": [
      "Critical value for chi-square test: 76.192\n"
     ]
    }
   ],
   "source": [
    "# calculate the χ2-value for 95% of confidence level\n",
    "# use 'stats.chi2.ppf()' to find the χ2-value corresponding to the lower tail probability 'q'\n",
    "# pass the value of '1 - alpha/2' to the parameter 'q', for right-tail\n",
    "# pass the degrees of freedom to the parameter 'df' \n",
    "# use 'round()' to round-off the value to 4 digits\n",
    "chi2_val_right = np.abs(round(stats.chi2.ppf(q = (1 - 0.05/2), df = 54), 4))\n",
    "\n",
    "print('Critical value for chi-square test:', chi2_val_right)"
   ]
  },
  {
   "cell_type": "markdown",
   "metadata": {},
   "source": [
    "i.e. if the chi-square value is greater than 76.192 then we reject the null hypothesis."
   ]
  },
  {
   "cell_type": "code",
   "execution_count": 27,
   "metadata": {},
   "outputs": [
    {
     "name": "stdout",
     "output_type": "stream",
     "text": [
      "Test Statistic: 59.87636363636363\n"
     ]
    }
   ],
   "source": [
    "# calculate the test statistic\n",
    "chi_test = (np.sum((df_student['math_score'] - samp_mean)**2)) / sig_2\n",
    "\n",
    "# print the test statistic\n",
    "print('Test Statistic:', chi_test)"
   ]
  },
  {
   "cell_type": "code",
   "execution_count": 28,
   "metadata": {},
   "outputs": [
    {
     "name": "stdout",
     "output_type": "stream",
     "text": [
      "p-value: 0.27099758895862275\n"
     ]
    }
   ],
   "source": [
    "# calculate P(X > chi_test)\n",
    "# pass the test statistic value to 'x'\n",
    "# pass the degrees of freedom to 'df'\n",
    "p_val = stats.chi2.sf(x = chi_test, df = 54)\n",
    "\n",
    "# print the p-value\n",
    "print('p-value:', p_val)"
   ]
  },
  {
   "cell_type": "markdown",
   "metadata": {},
   "source": [
    "The above output shows that the chi-square test statistic is less than 76.192 and greater than 35.5863, the p-value is greater than 0.05. Thus we fail to reject (i.e. accept) the null hypothesis and conclude that the population variance is not equal to 130."
   ]
  },
  {
   "cell_type": "markdown",
   "metadata": {},
   "source": [
    "Let us plot the acceptance and rejection region for a test with 95% confidence."
   ]
  },
  {
   "cell_type": "code",
   "execution_count": 29,
   "metadata": {
    "scrolled": false
   },
   "outputs": [
    {
     "data": {
      "image/png": "[encoded data removed]",
      "text/plain": [
       "<Figure size 1080x576 with 1 Axes>"
      ]
     },
     "metadata": {
      "needs_background": "light"
     },
     "output_type": "display_data"
    }
   ],
   "source": [
    "# consider a random variable 'X' that follows a chi-square distribution \n",
    "# pass the degrees of freedom to the parameter 'df' \n",
    "# pass the required number of observations to the parameter, 'size'\n",
    "# set 'random_state' to obtain the same observations every time you run the code \n",
    "X = stats.chi2.rvs(df = 54, size = 1000000, random_state = 15)\n",
    "\n",
    "# pass the data to the parameter, 'a'\n",
    "# 'hist=False' does not return the histogram \n",
    "# 'cumulative=False' in 'kde_kws' does not return the cumulative kernel density estimator\n",
    "ax = sns.distplot(a = X, hist = False, kde_kws = dict(cumulative=False))\n",
    "\n",
    "# set the limit for y-axis\n",
    "plt.ylim(0, 0.045)\n",
    "\n",
    "# plot a vertical line at χ2-value for right-tail\n",
    "x, y = [chi2_val_right, chi2_val_right], [0, 0.03]\n",
    "plt.plot(x, y, color = 'black')\n",
    "\n",
    "# plot a vertical line at χ2-value for left-tail\n",
    "x, y = [chi2_val_left, chi2_val_left], [0, 0.03]\n",
    "plt.plot(x, y, color = 'black')\n",
    "\n",
    "# plot a vertical line at χ2 test value\n",
    "x, y = [chi_test, chi_test], [0, 0.013]\n",
    "plt.plot(x, y, color = 'black')\n",
    "\n",
    "# add the color to the right of the χ2-value for right-tail and left of the χ2-value for left-tail\n",
    "# get the data for x and y axes\n",
    "l1 = ax.lines[0]\n",
    "x1 = l1.get_xydata()[:,0]\n",
    "y1 = l1.get_xydata()[:,1]\n",
    "\n",
    "# fill the color for the region where x-values are greater than the critical χ2-value for right-tail\n",
    "# pass the condition to shade the required region\n",
    "# pass the required color to the parameter, 'color'\n",
    "ax.fill_between(x1[x1 >= chi2_val_right], y1[x1 >= chi2_val_right], color = 'lightblue')\n",
    "\n",
    "# fill the color for the region where x-values are less than the critical χ2-value for left-tail\n",
    "# pass the condition to shade the required region\n",
    "# pass the required color to the parameter, 'color'\n",
    "ax.fill_between(x1[x1 <= chi2_val_left], y1[x1 <= chi2_val_left], color = 'lightblue')\n",
    "\n",
    "# use 'annonate' function to draw an arrow between points xy and xytext\n",
    "# 's' is a argument to write text\n",
    "# we can change the facecolor and arrowstyle; this is only for representation purpose\n",
    "plt.annotate(s = 'α = 0.025\\n(Rejection Region for H0)', xy = (78, 0.0005), xytext = (78.5, 0.008), \n",
    "             arrowprops = dict(facecolor = 'black', arrowstyle = 'simple'))\n",
    "\n",
    "plt.annotate(s = 'α = 0.025\\n(Rejection Region for H0)', xy = (34, 0.0005), xytext = (15.5, 0.008), \n",
    "             arrowprops = dict(facecolor = 'black', arrowstyle = 'simple'))\n",
    "\n",
    "plt.annotate(s = 'χ2_crit = '+ str(round(chi2_val_right,2)), xy = (chi2_val_right, 0.02), xytext = (chi2_val_right+3, 0.023), \n",
    "            arrowprops = dict(facecolor = 'black', arrowstyle = 'simple'))\n",
    "\n",
    "plt.annotate(s = 'χ2_crit = '+ str(round(chi2_val_left,2)), xy = (chi2_val_left, 0.02), xytext = (chi2_val_left-15, 0.023), \n",
    "            arrowprops = dict(facecolor = 'black', arrowstyle = 'simple'))\n",
    "\n",
    "# use below code to print the values in the graph\n",
    "# 'x' and 'y' gives position of the text\n",
    "# 's' is the text \n",
    "plt.text(x = 45, y = 0.02, s = 'Acceptance Region for H0 \\n (1 - α)')\n",
    "\n",
    "# assign the x-axis labels\n",
    "# pass the position of labels to the parameter, 'ticks'\n",
    "# pass the required labels to the parameter, 'labels'\n",
    "plt.xticks(ticks = [20, 40, 80, 100, 120, round(chi_test,2)], \n",
    "           labels = [20, 40, 80, 100, 120, 'χ2_test = '+str(round(chi_test,2))])\n",
    "\n",
    "# set plot and axes labels\n",
    "# set text size using 'fontsize'\n",
    "plt.xlabel('χ2', fontsize = 15)\n",
    "plt.ylabel('Probability', fontsize = 15)\n",
    "plt.title('Test Region', fontsize = 15)\n",
    "\n",
    "# display the plot\n",
    "plt.show()"
   ]
  },
  {
   "cell_type": "markdown",
   "metadata": {},
   "source": [
    "The above plot shows that the test statistic value is in the acceptance region, which implies that we fail to reject (i.e. accept) $H_{0}$."
   ]
  },
  {
   "cell_type": "markdown",
   "metadata": {},
   "source": [
    "#### 2. At a dairy, the milk is usually supplied in bottles. The manager does not want to exceed the variance of litres of milk cans to 0.26 squarelitres. Some of  the following data gives the litres of milk in the cans. Write the null and the alternative hypothesis. Test whether the variance of litres of milk cans is more than 0.26 squarelitres at 5% level of significance."
   ]
  },
  {
   "cell_type": "markdown",
   "metadata": {},
   "source": [
    "Given data:\n",
    "\n",
    "        milk_lit = [1.5, 1.3, 1.5, 1.5, 1.4, 1.7, 1.6, 1.2]"
   ]
  },
  {
   "cell_type": "markdown",
   "metadata": {},
   "source": [
    "The null and alternative hypothesis is:\n",
    "\n",
    "H<sub>0</sub>: $\\sigma^{2} \\leq 0.26$<br>\n",
    "H<sub>1</sub>: $\\sigma^{2} > 0.26$"
   ]
  },
  {
   "cell_type": "code",
   "execution_count": 30,
   "metadata": {},
   "outputs": [
    {
     "name": "stdout",
     "output_type": "stream",
     "text": [
      "Degrees of freedom: 7\n"
     ]
    }
   ],
   "source": [
    "# given data\n",
    "milk_lit = [1.5, 1.3, 1.5, 1.5, 1.4, 1.7, 1.6, 1.2]\n",
    "\n",
    "# hypothesized variance\n",
    "sig_2 = 0.26\n",
    "\n",
    "# sample size\n",
    "n = len(milk_lit)\n",
    "\n",
    "# the population mean is unknown, use sample mean\n",
    "samp_mean = np.mean(milk_lit)\n",
    "\n",
    "# degrees of freedom\n",
    "print('Degrees of freedom:', n-1)"
   ]
  },
  {
   "cell_type": "markdown",
   "metadata": {},
   "source": [
    "For ⍺ = 0.05 and degrees of freedom = 7, calculate the critical value for the right-tail."
   ]
  },
  {
   "cell_type": "code",
   "execution_count": 31,
   "metadata": {},
   "outputs": [
    {
     "name": "stdout",
     "output_type": "stream",
     "text": [
      "Critical value for chi-square test: 2.1673\n"
     ]
    }
   ],
   "source": [
    "# calculate the χ2-value for 95% of confidence level\n",
    "# use 'stats.chi2.isf()' to find the χ2-value corresponding to the upper tail probability 'q'\n",
    "# pass the value of '1 - alpha' to the parameter 'q', here alpha = 0.05\n",
    "# pass the degrees of freedom to the parameter 'df' \n",
    "# use 'round()' to round-off the value to 4 digits\n",
    "chi2_val = np.abs(round(stats.chi2.isf(q = 1 - 0.05, df = 7), 4))\n",
    "\n",
    "print('Critical value for chi-square test:', chi2_val)"
   ]
  },
  {
   "cell_type": "markdown",
   "metadata": {},
   "source": [
    "i.e. if the chi-square value is greater than 2.1673 then we reject the null hypothesis."
   ]
  },
  {
   "cell_type": "code",
   "execution_count": 32,
   "metadata": {},
   "outputs": [
    {
     "name": "stdout",
     "output_type": "stream",
     "text": [
      "Test Statistic: 0.6875\n"
     ]
    }
   ],
   "source": [
    "# calculate the test statistic\n",
    "chi_test = (np.sum((milk_lit - samp_mean)**2)) / sig_2\n",
    "\n",
    "# print the test statistic\n",
    "print('Test Statistic:', chi_test)"
   ]
  },
  {
   "cell_type": "code",
   "execution_count": 33,
   "metadata": {},
   "outputs": [
    {
     "name": "stdout",
     "output_type": "stream",
     "text": [
      "p-value: 0.998429948137378\n"
     ]
    }
   ],
   "source": [
    "# calculate P(X > chi_test)\n",
    "# pass the test statistic value to 'x'\n",
    "# pass the degrees of freedom to 'df'\n",
    "p_val = stats.chi2.sf(x = chi_test, df = 7)\n",
    "\n",
    "# print the p-value\n",
    "print('p-value:', p_val)"
   ]
  },
  {
   "cell_type": "markdown",
   "metadata": {},
   "source": [
    "The above output shows that the chi-square test statistic is less than 2.1673, the p-value is greater than 0.05. Thus we fail to reject (i.e. accept) the null hypothesis and conclude that the variance of litres of milk cans is less than 0.26 squarelitres."
   ]
  },
  {
   "cell_type": "markdown",
   "metadata": {},
   "source": [
    "<a id=\"1way\"></a>\n",
    "# 3. One-way ANOVA"
   ]
  },
  {
   "cell_type": "markdown",
   "metadata": {},
   "source": [
    "It is used to check the equality of population means for more than two independent samples. Each group is considered as a `treatment`. It assumes that the samples are taken from normally distributed populations. To check this assumption we can use the `Shapiro-Wilk Test.` Also, the population variances should be equal; this can be tested using the `Levene's Test`.\n",
    "\n",
    "The null and alternative hypothesis is given as:\n",
    "<p style='text-indent:20em'> <strong> $H_{0}$: The averages of all treatments are the same. </strong></p>\n",
    "<p style='text-indent:20em'> <strong> $H_{1}$: At least one treatment has a different average. </strong></p>\n",
    "\n",
    "Consider there are `t` treatments and `N` number of total observations. The test statistic is given as:\n",
    "<p style='text-indent:28em'> <strong> $F = \\frac{MTrSS}{MESS} $</strong></p>\n",
    "\n",
    "Where,<br>\n",
    "MTrSS = $\\frac{TrSS}{df_{Tr}}$<br>\n",
    "\n",
    "TrSS = $\\sum_{i}^{t}\\sum_{j}^{n_{i}}n_{i}(\\bar{x_{i}}. - \\bar{x}..)$<br> $n_{i}$ is the number of observations in $i^{th}$ treatment. <br>$\\bar{x_{i}}.$ is the mean over $i^{th}$ treatment <br> $\\bar{x}..$ is the grand mean (i.e. mean of all the observations). <br>\n",
    "\n",
    "$df_{Tr}$ is the degrees of freedom for treatments (= $t-1$)\n",
    "\n",
    "MESS = $\\frac{ESS}{df_{e}}$<br>\n",
    "\n",
    "ESS = $\\sum_{i}^{t}\\sum_{j}^{n_{i}}{(x_{ij} - \\bar{x_{i}}.)}^{2}$\n",
    "\n",
    "$df_{e}$ is the degrees of freedom for error (= $N-t$)\n",
    "\n",
    "Under $H_{0}$, the test statistic follows F-distribution with ($t-1,  N-t$) degrees of freedom."
   ]
  },
  {
   "cell_type": "markdown",
   "metadata": {},
   "source": [
    "Let us calculate the F values for different levels of significance ($\\alpha$)."
   ]
  },
  {
   "cell_type": "code",
   "execution_count": 34,
   "metadata": {},
   "outputs": [
    {
     "data": {
      "text/html": [
       "<div>\n",
       "<style scoped>\n",
       "    .dataframe tbody tr th:only-of-type {\n",
       "        vertical-align: middle;\n",
       "    }\n",
       "\n",
       "    .dataframe tbody tr th {\n",
       "        vertical-align: top;\n",
       "    }\n",
       "\n",
       "    .dataframe thead th {\n",
       "        text-align: right;\n",
       "    }\n",
       "</style>\n",
       "<table border=\"1\" class=\"dataframe\">\n",
       "  <thead>\n",
       "    <tr style=\"text-align: right;\">\n",
       "      <th></th>\n",
       "      <th>alpha</th>\n",
       "      <th>F</th>\n",
       "    </tr>\n",
       "  </thead>\n",
       "  <tbody>\n",
       "    <tr>\n",
       "      <th>0</th>\n",
       "      <td>0.25</td>\n",
       "      <td>1.55</td>\n",
       "    </tr>\n",
       "    <tr>\n",
       "      <th>1</th>\n",
       "      <td>0.10</td>\n",
       "      <td>2.32</td>\n",
       "    </tr>\n",
       "    <tr>\n",
       "      <th>2</th>\n",
       "      <td>0.05</td>\n",
       "      <td>2.98</td>\n",
       "    </tr>\n",
       "    <tr>\n",
       "      <th>3</th>\n",
       "      <td>0.01</td>\n",
       "      <td>4.85</td>\n",
       "    </tr>\n",
       "  </tbody>\n",
       "</table>\n",
       "</div>"
      ],
      "text/plain": [
       "   alpha     F\n",
       "0   0.25  1.55\n",
       "1   0.10  2.32\n",
       "2   0.05  2.98\n",
       "3   0.01  4.85"
      ]
     },
     "execution_count": 34,
     "metadata": {},
     "output_type": "execute_result"
    }
   ],
   "source": [
    "# let us find the F-values for different alpha values with (10,10) degrees of freedom\n",
    "\n",
    "# create an empty dataframe to store the alpha and corresponding F-value\n",
    "df_F = pd.DataFrame()\n",
    "\n",
    "# create a dictionary of different alpha values\n",
    "alpha =  [0.25, 0.1, 0.05, 0.01] \n",
    "\n",
    "# use for loop to calculate the F-value for each alpha value\n",
    "for i in range(len(alpha)):\n",
    "    \n",
    "    # use 'stats.f.isf()' to find the F-value corresponding to the upper tail probability 'q'\n",
    "    # pass the value of 'alpha' to the parameter 'q'\n",
    "    # pass the (10,10) degrees of freedom to the parameter 'dfn' and 'dfd' respectively\n",
    "    # use 'round()' to round-off the value to 2 digits\n",
    "    f_val = np.abs(round(stats.f.isf(q = alpha[i], dfn = 10, dfd = 10), 2))\n",
    "\n",
    "    # create a dataframe using dictionary to store the alpha and corresponding F-value\n",
    "    # set the loop iterator 'i' as the index of the dataframe\n",
    "    row =  pd.DataFrame({\"alpha\": alpha[i], \"F\": f_val}, index = [i])\n",
    "\n",
    "    # append the row to the dataframe 'df_F'\n",
    "    df_F = df_F.append(row)\n",
    "\n",
    "# print the final dataframe\n",
    "df_F"
   ]
  },
  {
   "cell_type": "markdown",
   "metadata": {},
   "source": [
    "### Example:\n",
    "\n",
    "#### 1. Total marks in aptitude exam are recorded for students with different race/ethnicity. Test whether all the races/ethnicities have an equal average score with 0.05 level of significance. "
   ]
  },
  {
   "cell_type": "markdown",
   "metadata": {},
   "source": [
    "Use the performance dataset of students available in the CSV file `students_data.csv`."
   ]
  },
  {
   "cell_type": "code",
   "execution_count": 35,
   "metadata": {
    "scrolled": false
   },
   "outputs": [
    {
     "data": {
      "text/html": [
       "<div>\n",
       "<style scoped>\n",
       "    .dataframe tbody tr th:only-of-type {\n",
       "        vertical-align: middle;\n",
       "    }\n",
       "\n",
       "    .dataframe tbody tr th {\n",
       "        vertical-align: top;\n",
       "    }\n",
       "\n",
       "    .dataframe thead th {\n",
       "        text-align: right;\n",
       "    }\n",
       "</style>\n",
       "<table border=\"1\" class=\"dataframe\">\n",
       "  <thead>\n",
       "    <tr style=\"text-align: right;\">\n",
       "      <th></th>\n",
       "      <th>gender</th>\n",
       "      <th>ethnicity</th>\n",
       "      <th>education</th>\n",
       "      <th>lunch</th>\n",
       "      <th>test_prep_course</th>\n",
       "      <th>math_score</th>\n",
       "      <th>reading_score</th>\n",
       "      <th>writing_score</th>\n",
       "      <th>total_score</th>\n",
       "      <th>training_institute</th>\n",
       "    </tr>\n",
       "  </thead>\n",
       "  <tbody>\n",
       "    <tr>\n",
       "      <th>0</th>\n",
       "      <td>female</td>\n",
       "      <td>group B</td>\n",
       "      <td>bachelor's degree</td>\n",
       "      <td>standard</td>\n",
       "      <td>none</td>\n",
       "      <td>89</td>\n",
       "      <td>55</td>\n",
       "      <td>56</td>\n",
       "      <td>200</td>\n",
       "      <td>Nature Learning</td>\n",
       "    </tr>\n",
       "    <tr>\n",
       "      <th>1</th>\n",
       "      <td>female</td>\n",
       "      <td>group C</td>\n",
       "      <td>college</td>\n",
       "      <td>standard</td>\n",
       "      <td>completed</td>\n",
       "      <td>55</td>\n",
       "      <td>63</td>\n",
       "      <td>72</td>\n",
       "      <td>190</td>\n",
       "      <td>Nature Learning</td>\n",
       "    </tr>\n",
       "  </tbody>\n",
       "</table>\n",
       "</div>"
      ],
      "text/plain": [
       "   gender ethnicity          education     lunch test_prep_course  math_score  \\\n",
       "0  female   group B  bachelor's degree  standard             none          89   \n",
       "1  female   group C            college  standard        completed          55   \n",
       "\n",
       "   reading_score  writing_score  total_score training_institute  \n",
       "0             55             56          200    Nature Learning  \n",
       "1             63             72          190    Nature Learning  "
      ]
     },
     "execution_count": 35,
     "metadata": {},
     "output_type": "execute_result"
    }
   ],
   "source": [
    "# read the students performance data \n",
    "df_student = pd.read_csv('students_data.csv')\n",
    "\n",
    "# display the first two observations\n",
    "df_student.head(2)"
   ]
  },
  {
   "cell_type": "markdown",
   "metadata": {},
   "source": [
    "The null and alternative hypothesis is:\n",
    "\n",
    "H<sub>0</sub>: The average score of all races/ethnicities is same<br>\n",
    "H<sub>1</sub>: At least one race/ethnicity has a different average score"
   ]
  },
  {
   "cell_type": "code",
   "execution_count": 36,
   "metadata": {},
   "outputs": [
    {
     "data": {
      "text/plain": [
       "array(['group B', 'group C', 'group A', 'group D', 'group E'],\n",
       "      dtype=object)"
      ]
     },
     "execution_count": 36,
     "metadata": {},
     "output_type": "execute_result"
    }
   ],
   "source": [
    "# unique race/ethnicity in the data\n",
    "df_student['ethnicity'].unique()"
   ]
  },
  {
   "cell_type": "markdown",
   "metadata": {},
   "source": [
    "There are total 5 unique race/ethnicity in the dataset."
   ]
  },
  {
   "cell_type": "code",
   "execution_count": 37,
   "metadata": {},
   "outputs": [],
   "source": [
    "# given data\n",
    "# total marks of students from group A\n",
    "gr_A = df_student[df_student['ethnicity'] == 'group A']['total_score']\n",
    "\n",
    "# total marks of students from group B\n",
    "gr_B = df_student[df_student['ethnicity'] == 'group B']['total_score']\n",
    "\n",
    "# total marks of students from group C\n",
    "gr_C = df_student[df_student['ethnicity'] == 'group C']['total_score']\n",
    "\n",
    "# total marks of students from group D\n",
    "gr_D = df_student[df_student['ethnicity'] == 'group D']['total_score']\n",
    "\n",
    "# total marks of students from group E\n",
    "gr_E = df_student[df_student['ethnicity'] == 'group E']['total_score']"
   ]
  },
  {
   "cell_type": "markdown",
   "metadata": {},
   "source": [
    "Plot the distribution for each group to compare the means."
   ]
  },
  {
   "cell_type": "code",
   "execution_count": 38,
   "metadata": {
    "scrolled": false
   },
   "outputs": [
    {
     "data": {
      "image/png": "[encoded data removed]",
      "text/plain": [
       "<Figure size 1080x576 with 1 Axes>"
      ]
     },
     "metadata": {
      "needs_background": "light"
     },
     "output_type": "display_data"
    }
   ],
   "source": [
    "# consider a random variable 'X_A' that follows a normal distribution with mean score of group A \n",
    "# pass the required number of observations to the parameter, 'size'\n",
    "# set 'random_state' to obtain the same observations every time you run the code \n",
    "X_A = stats.norm.rvs(loc = gr_A.mean(), size = 1000000, random_state = 15)\n",
    "\n",
    "# pass the data to the parameter, 'a'\n",
    "# 'hist=False' does not return the histogram \n",
    "# 'cumulative=False' in 'kde_kws' does not return the cumulative kernel density estimator\n",
    "sns.distplot(a = X_A, hist = False, kde_kws = dict(cumulative=False))\n",
    "\n",
    "# plot a vertical line at mean value\n",
    "x, y = [gr_A.mean(), gr_A.mean()], [0, 0.42]\n",
    "plt.plot(x, y, color = 'blue', linestyle = '--', label = 'mean_A = ' + str(round(gr_A.mean(),2)))\n",
    "\n",
    "# set the legend\n",
    "plt.legend()\n",
    "\n",
    "# consider a random variable 'X_B' that follows a normal distribution with mean score of group B\n",
    "# pass the required number of observations to the parameter, 'size'\n",
    "# set 'random_state' to obtain the same observations every time you run the code \n",
    "X_B = stats.norm.rvs(loc = gr_B.mean(), size = 1000000, random_state = 15)\n",
    "\n",
    "# pass the data to the parameter, 'a'\n",
    "# 'hist=False' does not return the histogram \n",
    "# 'cumulative=False' in 'kde_kws' does not return the cumulative kernel density estimator\n",
    "sns.distplot(a = X_B, hist = False, kde_kws = dict(cumulative=False))\n",
    "\n",
    "# plot a vertical line at mean value\n",
    "x, y = [gr_B.mean(), gr_B.mean()], [0, 0.42]\n",
    "plt.plot(x, y, color = 'orange', linestyle = '--', label = 'mean_B = ' + str(round(gr_B.mean(),2)))\n",
    "\n",
    "# set the legend\n",
    "plt.legend()\n",
    "\n",
    "# consider a random variable 'X_C' that follows a normal distribution with mean score of group C\n",
    "# pass the required number of observations to the parameter, 'size'\n",
    "# set 'random_state' to obtain the same observations every time you run the code \n",
    "X_C = stats.norm.rvs(loc = gr_C.mean(), size = 1000000, random_state = 15)\n",
    "\n",
    "# pass the data to the parameter, 'a'\n",
    "# 'hist=False' does not return the histogram \n",
    "# 'cumulative=False' in 'kde_kws' does not return the cumulative kernel density estimator\n",
    "sns.distplot(a = X_C, hist = False, kde_kws = dict(cumulative=False))\n",
    "\n",
    "# plot a vertical line at mean value\n",
    "x, y = [gr_C.mean(), gr_C.mean()], [0, 0.42]\n",
    "plt.plot(x, y, color = 'green', linestyle = '--', label = 'mean_C = ' + str(round(gr_C.mean(),2)))\n",
    "\n",
    "# set the legend\n",
    "plt.legend()\n",
    "\n",
    "# consider a random variable 'X_D' that follows a normal distribution with mean score of group D\n",
    "# pass the required number of observations to the parameter, 'size'\n",
    "# set 'random_state' to obtain the same observations every time you run the code \n",
    "X_D = stats.norm.rvs(loc = gr_D.mean(), size = 1000000, random_state = 15)\n",
    "\n",
    "# pass the data to the parameter, 'a'\n",
    "# 'hist=False' does not return the histogram \n",
    "# 'cumulative=False' in 'kde_kws' does not return the cumulative kernel density estimator\n",
    "sns.distplot(a = X_D, hist = False, kde_kws = dict(cumulative=False))\n",
    "\n",
    "# plot a vertical line at mean value\n",
    "x, y = [gr_D.mean(), gr_D.mean()], [0, 0.42]\n",
    "plt.plot(x, y, color = 'red', linestyle = '--', label = 'mean_D = ' + str(round(gr_D.mean(),2)))\n",
    "\n",
    "# set the legend\n",
    "plt.legend()\n",
    "\n",
    "# consider a random variable 'X_E' that follows a normal distribution with mean score of group E\n",
    "# pass the required number of observations to the parameter, 'size'\n",
    "# set 'random_state' to obtain the same observations every time you run the code \n",
    "X_E = stats.norm.rvs(loc = gr_E.mean(), size = 1000000, random_state = 15)\n",
    "\n",
    "# pass the data to the parameter, 'a'\n",
    "# 'hist=False' does not return the histogram \n",
    "# 'cumulative=False' in 'kde_kws' does not return the cumulative kernel density estimator\n",
    "sns.distplot(a = X_E, hist = False, kde_kws = dict(cumulative=False))\n",
    "\n",
    "# plot a vertical line at mean value\n",
    "x, y = [gr_E.mean(), gr_E.mean()], [0, 0.42]\n",
    "plt.plot(x, y, color = 'purple', linestyle = '--', label = 'mean_E = ' + str(round(gr_E.mean(),2)))\n",
    "\n",
    "# set the legend\n",
    "plt.legend()\n",
    "\n",
    "# set the limit for y-axis\n",
    "plt.ylim(0, 0.45)\n",
    "\n",
    "# set plot and axes labels\n",
    "# set text size using 'fontsize'\n",
    "plt.xlabel('Total Score', fontsize = 15)\n",
    "plt.ylabel('Probability', fontsize = 15)\n",
    "plt.title('Distribution of Total Score for each Ethnicity', fontsize = 15)\n",
    "\n",
    "# display the plot\n",
    "plt.show()"
   ]
  },
  {
   "cell_type": "markdown",
   "metadata": {},
   "source": [
    "We can see that the sample means for each race/ethnicity are close to each other, which suggests that the null hypothesis is true (i.e. the average score of all ethnicities is same)."
   ]
  },
  {
   "cell_type": "markdown",
   "metadata": {},
   "source": [
    "#### Perform ANOVA to test the equality of means."
   ]
  },
  {
   "cell_type": "markdown",
   "metadata": {},
   "source": [
    "Let us check the normality of the total marks of students from all the groups."
   ]
  },
  {
   "cell_type": "code",
   "execution_count": 39,
   "metadata": {},
   "outputs": [
    {
     "name": "stdout",
     "output_type": "stream",
     "text": [
      "p-value: 0.7420849204063416\n"
     ]
    }
   ],
   "source": [
    "# perform Shapiro-Wilk test to test the normality\n",
    "# shapiro() returns a tuple having the values of test statistics and the corresponding p-value\n",
    "# pass the total marks of students \n",
    "stat, p_value = stats.shapiro(df_student['total_score'])\n",
    "\n",
    "# print the p-value\n",
    "print('p-value:', p_value)"
   ]
  },
  {
   "cell_type": "markdown",
   "metadata": {},
   "source": [
    "From the above result, we can see that the p-value is greater than 0.05, thus we can say that the total marks of students from each group are normally distributed. Thus the assumption of normality is satisfied."
   ]
  },
  {
   "cell_type": "markdown",
   "metadata": {},
   "source": [
    "Let us check the equality of variances."
   ]
  },
  {
   "cell_type": "code",
   "execution_count": 40,
   "metadata": {},
   "outputs": [
    {
     "name": "stdout",
     "output_type": "stream",
     "text": [
      "P-Value: 0.12649444001357793\n"
     ]
    }
   ],
   "source": [
    "# perform Levene's test for the equality of variances \n",
    "# levene() returns a tuple having the values of test statistics and the corresponding p-value\n",
    "# pass the total scores of students from each group\n",
    "stat, p_value = stats.levene(gr_A, gr_B, gr_C, gr_D, gr_E)\n",
    "\n",
    "# print the p-value \n",
    "print('P-Value:', p_value)"
   ]
  },
  {
   "cell_type": "markdown",
   "metadata": {},
   "source": [
    "From the above result, we can see that the p-value is greater than 0.05, thus we can say that the population variances are equal for all the samples."
   ]
  },
  {
   "cell_type": "code",
   "execution_count": 41,
   "metadata": {},
   "outputs": [
    {
     "name": "stdout",
     "output_type": "stream",
     "text": [
      "t: 5\n",
      "N: 1000\n"
     ]
    }
   ],
   "source": [
    "# obtain number of unique ethnicities\n",
    "t = df_student['ethnicity'].nunique()\n",
    "print('t:', t)\n",
    "\n",
    "# calculate the number of students in each ethnicity\n",
    "# consider the total number of students in all ethnicities\n",
    "N = df_student['ethnicity'].value_counts().sum()\n",
    "print('N:', N)"
   ]
  },
  {
   "cell_type": "markdown",
   "metadata": {},
   "source": [
    "For ⍺ = 0.05 and degrees of freedom (= t-1, N-t) = (4, 995), calculate the critical value."
   ]
  },
  {
   "cell_type": "code",
   "execution_count": 42,
   "metadata": {},
   "outputs": [
    {
     "name": "stdout",
     "output_type": "stream",
     "text": [
      "Critical value for F-test: 2.3809\n"
     ]
    }
   ],
   "source": [
    "# calculate the F-value for 95% of confidence level\n",
    "# use 'stats.f.isf()' to find the F-value corresponding to the upper tail probability 'q'\n",
    "# pass the value of 'alpha' to the parameter 'q', here alpha = 0.05\n",
    "# pass the degrees of freedom (= 4) to the parameter 'dfn' \n",
    "# pass the degrees of freedom (= 995) to the parameter 'dfd' \n",
    "# use 'round()' to round-off the value to 4 digits\n",
    "f = np.abs(round(stats.f.isf(q = 0.05, dfn = 4, dfd = 995), 4))\n",
    "\n",
    "print('Critical value for F-test:', f)"
   ]
  },
  {
   "cell_type": "markdown",
   "metadata": {},
   "source": [
    "i.e. if the test statistic value is greater than 2.3809 then we reject the null hypothesis."
   ]
  },
  {
   "cell_type": "code",
   "execution_count": 43,
   "metadata": {},
   "outputs": [
    {
     "name": "stdout",
     "output_type": "stream",
     "text": [
      "Test statistic: 0.789109595922189\n",
      "p-value: 0.5322937031083035\n"
     ]
    }
   ],
   "source": [
    "# perform one-way ANOVA\n",
    "# pass the given data\n",
    "f_test, p_val = stats.f_oneway(gr_A, gr_B, gr_C, gr_D, gr_E)\n",
    "\n",
    "# print the test statistic and corresponding p-value\n",
    "print('Test statistic:', f_test)\n",
    "print('p-value:', p_val)"
   ]
  },
  {
   "cell_type": "markdown",
   "metadata": {},
   "source": [
    "We can also use the `anova_lm()` in statsmodels library to perform ANOVA."
   ]
  },
  {
   "cell_type": "code",
   "execution_count": 44,
   "metadata": {},
   "outputs": [
    {
     "data": {
      "text/html": [
       "<div>\n",
       "<style scoped>\n",
       "    .dataframe tbody tr th:only-of-type {\n",
       "        vertical-align: middle;\n",
       "    }\n",
       "\n",
       "    .dataframe tbody tr th {\n",
       "        vertical-align: top;\n",
       "    }\n",
       "\n",
       "    .dataframe thead th {\n",
       "        text-align: right;\n",
       "    }\n",
       "</style>\n",
       "<table border=\"1\" class=\"dataframe\">\n",
       "  <thead>\n",
       "    <tr style=\"text-align: right;\">\n",
       "      <th></th>\n",
       "      <th>df</th>\n",
       "      <th>sum_sq</th>\n",
       "      <th>mean_sq</th>\n",
       "      <th>F</th>\n",
       "      <th>PR(&gt;F)</th>\n",
       "    </tr>\n",
       "  </thead>\n",
       "  <tbody>\n",
       "    <tr>\n",
       "      <th>Q(\"ethnicity\")</th>\n",
       "      <td>4.0</td>\n",
       "      <td>1699.671655</td>\n",
       "      <td>424.917914</td>\n",
       "      <td>0.78911</td>\n",
       "      <td>0.532294</td>\n",
       "    </tr>\n",
       "    <tr>\n",
       "      <th>Residual</th>\n",
       "      <td>995.0</td>\n",
       "      <td>535785.303345</td>\n",
       "      <td>538.477692</td>\n",
       "      <td>NaN</td>\n",
       "      <td>NaN</td>\n",
       "    </tr>\n",
       "  </tbody>\n",
       "</table>\n",
       "</div>"
      ],
      "text/plain": [
       "                   df         sum_sq     mean_sq        F    PR(>F)\n",
       "Q(\"ethnicity\")    4.0    1699.671655  424.917914  0.78911  0.532294\n",
       "Residual        995.0  535785.303345  538.477692      NaN       NaN"
      ]
     },
     "execution_count": 44,
     "metadata": {},
     "output_type": "execute_result"
    }
   ],
   "source": [
    "# perform one-way ANOVA\n",
    "\n",
    "# fit an ols model on the datafreme 'df_student' \n",
    "# use 'Q()' to quote the variable name \n",
    "# use 'fit()' to fit the linear model\n",
    "test = ols('total_score ~ Q(\"ethnicity\")', df_student).fit()\n",
    "\n",
    "# create table for one-way ANOVA test\n",
    "# pass the linear model 'test'\n",
    "# 'typ = 1' performs two-way ANOVA\n",
    "anova_1 = anova_lm(test, typ = 1)\n",
    "\n",
    "# print the table\n",
    "anova_1"
   ]
  },
  {
   "cell_type": "markdown",
   "metadata": {},
   "source": [
    "The above output shows that the test statistic is less than 2.3809 and the p-value is greater than 0.05. Thus we fail to reject (i.e. accept) the null hypothesis and conclude that the average score of all races/ethnicities is the same."
   ]
  },
  {
   "cell_type": "markdown",
   "metadata": {},
   "source": [
    "Let us plot the acceptance and rejection region for a test with 95% confidence."
   ]
  },
  {
   "cell_type": "code",
   "execution_count": 45,
   "metadata": {
    "scrolled": false
   },
   "outputs": [
    {
     "data": {
      "image/png": "[encoded data removed]",
      "text/plain": [
       "<Figure size 1080x576 with 1 Axes>"
      ]
     },
     "metadata": {
      "needs_background": "light"
     },
     "output_type": "display_data"
    }
   ],
   "source": [
    "# consider a random variable 'X' that follows a F distribution \n",
    "# pass the degrees of freedom (= 4) to the parameter 'dfn' \n",
    "# pass the degrees of freedom (= 995) to the parameter 'dfd' \n",
    "# pass the required number of observations to the parameter, 'size'\n",
    "# set 'random_state' to obtain the same observations every time you run the code \n",
    "X = stats.f.rvs(dfn = 4, dfd = 995, size = 1000000, random_state = 15)\n",
    "\n",
    "# pass the data to the parameter, 'a'\n",
    "# 'hist=False' does not return the histogram \n",
    "# 'cumulative=False' in 'kde_kws' does not return the cumulative kernel density estimator\n",
    "ax = sns.distplot(a = X, hist = False, kde_kws = dict(cumulative=False))\n",
    "\n",
    "# set the limit for y-axis\n",
    "plt.ylim(0, 0.8)\n",
    "\n",
    "# set the limit for x-axis\n",
    "plt.xlim(0, 10)\n",
    "\n",
    "# use 'stats.f.isf()' to calculate the critical value for alpha = 0.05\n",
    "# pass the value of 'alpha' to the parameter 'q'\n",
    "# pass the degrees of freedom (= 4) to the parameter 'dfn' \n",
    "# pass the degrees of freedom (= 995) to the parameter 'dfd' \n",
    "f = stats.f.isf(q = 0.05, dfn = 4, dfd = 995)\n",
    "\n",
    "# plot a vertical line at f-value\n",
    "x, y = [f, f], [0, 0.4]\n",
    "plt.plot(x, y, color = 'black')\n",
    "\n",
    "# plot a vertical line at f test value\n",
    "x, y = [f_test, f_test], [0, 0.04]\n",
    "plt.plot(x, y, color = 'black')\n",
    "\n",
    "# add the color to the right of the f-value\n",
    "# get the data for x and y axes\n",
    "l1 = ax.lines[0]\n",
    "x1 = l1.get_xydata()[:,0]\n",
    "y1 = l1.get_xydata()[:,1]\n",
    "\n",
    "# fill the color for the region where x-values are greater than the critical f-value\n",
    "# pass the condition to shade the required region\n",
    "# pass the required color to the parameter, 'color'\n",
    "ax.fill_between(x1[x1 >= f], y1[x1 >= f], color = 'lightblue')\n",
    "\n",
    "# use 'annonate' function to draw an arrow between points xy and xytext\n",
    "# 's' is a argument to write text\n",
    "# we can change the facecolor and arrowstyle; this is only for representation purpose\n",
    "plt.annotate(s = 'α = 0.05\\n(Rejection Region for H0)', xy = (2.8, 0.02), xytext = (2.7, 0.1), \n",
    "             arrowprops = dict(facecolor = 'black', arrowstyle = 'simple'))\n",
    "\n",
    "plt.annotate(s = 'f_crit = '+ str(round(f,2)), xy = (f, 0.2), xytext = (f+0.2, 0.3), \n",
    "             arrowprops = dict(facecolor = 'black', arrowstyle = 'simple'))\n",
    "\n",
    "# use below code to print the values in the graph\n",
    "# 'x' and 'y' gives position of the text\n",
    "# 's' is the text \n",
    "plt.text(x = 0.4, y = 0.2, s = 'Acceptance Region \\n for H0 (1 - α)')\n",
    "\n",
    "# assign the x-axis labels\n",
    "# pass the position of labels to the parameter, 'ticks'\n",
    "# pass the required labels to the parameter, 'labels'\n",
    "plt.xticks(ticks = [0, 2, 4, 6, 8, round(f_test,2)], \n",
    "           labels = [0, 2, 4, 6, 8, 'f_test = '+str(round(f_test,2))])\n",
    "\n",
    "# set plot and axes labels\n",
    "# set text size using 'fontsize'\n",
    "plt.xlabel('F', fontsize = 15)\n",
    "plt.ylabel('Probability', fontsize = 15)\n",
    "plt.title('Test Region', fontsize = 15)\n",
    "\n",
    "# display the plot\n",
    "plt.show()"
   ]
  },
  {
   "cell_type": "markdown",
   "metadata": {},
   "source": [
    "The above plot shows that the test statistic value is in the acceptance region, which implies that we fail to reject (i.e. accept) $H_{0}$."
   ]
  },
  {
   "cell_type": "markdown",
   "metadata": {},
   "source": [
    "#### 2. Ryan is a production manager at an industry manufacturing alloy seals. They have 4 machines - A, B, C and D. Ryan wants to study whether all the machines have equal efficiency. Ryan collects data of tensile strength from all the 4 machines as given. Test at 5% level of significance.\n",
    "\n",
    "<img src='1_ANOVA.png'>"
   ]
  },
  {
   "cell_type": "markdown",
   "metadata": {},
   "source": [
    "The null and alternative hypothesis is:\n",
    "\n",
    "H<sub>0</sub>: The average tensile strength due to all the machines is the same<br>\n",
    "H<sub>1</sub>: The average tensile strength due to at least one machines is different"
   ]
  },
  {
   "cell_type": "code",
   "execution_count": 46,
   "metadata": {},
   "outputs": [],
   "source": [
    "# given data\n",
    "# tensile strength due to machine A\n",
    "A = [68.7, 75.4, 70.9, 79.1, 78.2]\n",
    "\n",
    "# tensile strength due to machine B\n",
    "B = [62.7, 68.5, 63.1, 62.2, 60.3]\n",
    "\n",
    "# tensile strength due to machine C\n",
    "C = [55.9, 56.1, 57.3, 59.2, 50.1]\n",
    "\n",
    "# tensile strength due to machine D\n",
    "D = [80.7, 70.3, 80.9, 85.4, 82.3]"
   ]
  },
  {
   "cell_type": "markdown",
   "metadata": {},
   "source": [
    "Plot the distribution for each group to compare the means."
   ]
  },
  {
   "cell_type": "code",
   "execution_count": 47,
   "metadata": {
    "scrolled": false
   },
   "outputs": [
    {
     "data": {
      "image/png": "[encoded data removed]",
      "text/plain": [
       "<Figure size 1080x576 with 1 Axes>"
      ]
     },
     "metadata": {
      "needs_background": "light"
     },
     "output_type": "display_data"
    }
   ],
   "source": [
    "# consider a random variable 'X_A' that follows a normal distribution with mean efficiency of machine A \n",
    "# pass the required number of observations to the parameter, 'size'\n",
    "# set 'random_state' to obtain the same observations every time you run the code \n",
    "X_A = stats.norm.rvs(loc = np.mean(A), size = 1000000, random_state = 15)\n",
    "\n",
    "# pass the data to the parameter, 'a'\n",
    "# 'hist=False' does not return the histogram \n",
    "# 'cumulative=False' in 'kde_kws' does not return the cumulative kernel density estimator\n",
    "sns.distplot(a = X_A, hist = False, kde_kws = dict(cumulative=False))\n",
    "\n",
    "# plot a vertical line at mean value\n",
    "x, y = [np.mean(A), np.mean(A)], [0, 0.42]\n",
    "plt.plot(x, y, color = 'blue', linestyle = '--', label = 'mean_A = ' + str(round(np.mean(A),2)))\n",
    "\n",
    "# set the legend\n",
    "plt.legend()\n",
    "\n",
    "# consider a random variable 'X_B' that follows a normal distribution with mean efficiency of machine B\n",
    "# pass the required number of observations to the parameter, 'size'\n",
    "# set 'random_state' to obtain the same observations every time you run the code \n",
    "X_B = stats.norm.rvs(loc = np.mean(B), size = 1000000, random_state = 15)\n",
    "\n",
    "# pass the data to the parameter, 'a'\n",
    "# 'hist=False' does not return the histogram \n",
    "# 'cumulative=False' in 'kde_kws' does not return the cumulative kernel density estimator\n",
    "sns.distplot(a = X_B, hist = False, kde_kws = dict(cumulative=False))\n",
    "\n",
    "# plot a vertical line at mean value\n",
    "x, y = [np.mean(B), np.mean(B)], [0, 0.42]\n",
    "plt.plot(x, y, color = 'orange', linestyle = '--', label = 'mean_B = ' + str(round(np.mean(B),2)))\n",
    "\n",
    "# set the legend\n",
    "plt.legend()\n",
    "\n",
    "# consider a random variable 'X_C' that follows a normal distribution with mean efficiency of machine C\n",
    "# pass the required number of observations to the parameter, 'size'\n",
    "# set 'random_state' to obtain the same observations every time you run the code \n",
    "X_C = stats.norm.rvs(loc = np.mean(C), size = 1000000, random_state = 15)\n",
    "\n",
    "# pass the data to the parameter, 'a'\n",
    "# 'hist=False' does not return the histogram \n",
    "# 'cumulative=False' in 'kde_kws' does not return the cumulative kernel density estimator\n",
    "sns.distplot(a = X_C, hist = False, kde_kws = dict(cumulative=False))\n",
    "\n",
    "# plot a vertical line at mean value\n",
    "x, y = [np.mean(C), np.mean(C)], [0, 0.42]\n",
    "plt.plot(x, y, color = 'green', linestyle = '--', label = 'mean_C = ' + str(round(np.mean(C),2)))\n",
    "\n",
    "# set the legend\n",
    "plt.legend()\n",
    "\n",
    "# consider a random variable 'X_D' that follows a normal distribution with mean efficiency of machine D\n",
    "# pass the required number of observations to the parameter, 'size'\n",
    "# set 'random_state' to obtain the same observations every time you run the code \n",
    "X_D = stats.norm.rvs(loc = np.mean(D), size = 1000000, random_state = 15)\n",
    "\n",
    "# pass the data to the parameter, 'a'\n",
    "# 'hist=False' does not return the histogram \n",
    "# 'cumulative=False' in 'kde_kws' does not return the cumulative kernel density estimator\n",
    "sns.distplot(a = X_D, hist = False, kde_kws = dict(cumulative=False))\n",
    "\n",
    "# plot a vertical line at mean value\n",
    "x, y = [np.mean(D), np.mean(D)], [0, 0.42]\n",
    "plt.plot(x, y, color = 'red', linestyle = '--', label = 'mean_D = ' + str(round(np.mean(D),2)))\n",
    "\n",
    "# set the legend\n",
    "plt.legend()\n",
    "\n",
    "# set the limit for y-axis\n",
    "plt.ylim(0, 0.45)\n",
    "\n",
    "# set plot and axes labels\n",
    "# set text size using 'fontsize'\n",
    "plt.xlabel('Machine Efficiency', fontsize = 15)\n",
    "plt.ylabel('Probability', fontsize = 15)\n",
    "plt.title('Distribution of Efficiency for each Machine', fontsize = 15)\n",
    "\n",
    "# display the plot\n",
    "plt.show()"
   ]
  },
  {
   "cell_type": "markdown",
   "metadata": {},
   "source": [
    "We can see that the sample means for each machine are not significantly close to each other, which suggests that the null hypothesis is not true (i.e. the average efficiency of at least one machine is different)."
   ]
  },
  {
   "cell_type": "markdown",
   "metadata": {},
   "source": [
    "#### Perform ANOVA to test the equality of means.\n",
    "\n",
    "Let us check the normality of the tensile strength of all the machines."
   ]
  },
  {
   "cell_type": "code",
   "execution_count": 48,
   "metadata": {},
   "outputs": [],
   "source": [
    "# create a dataframe using a dictionary from given data\n",
    "df_machine = pd.DataFrame(data = {'machine': ['machine_A','machine_B','machine_C','machine_D']*5, \n",
    "                                  'strength': [68.7, 62.7, 55.9, 80.7, 75.4, 68.5, 56.1, 70.3, 70.9, 63.1, 57.3, 80.9, 79.1, \n",
    "                                               62.2, 59.2, 85.4, 78.2, 60.3, 50.1, 82.3]})"
   ]
  },
  {
   "cell_type": "code",
   "execution_count": 49,
   "metadata": {},
   "outputs": [
    {
     "name": "stdout",
     "output_type": "stream",
     "text": [
      "p-value: 0.3721875548362732\n"
     ]
    }
   ],
   "source": [
    "# perform Shapiro-Wilk test to test the normality\n",
    "# shapiro() returns a tuple having the values of test statistics and the corresponding p-value\n",
    "# pass the tensile strengths due to each machine\n",
    "stat, p_value = stats.shapiro(df_machine['strength'])\n",
    "\n",
    "# print the p-values for each group\n",
    "print('p-value:', p_value)"
   ]
  },
  {
   "cell_type": "markdown",
   "metadata": {},
   "source": [
    "From the above result, we can see that the p-value is greater than 0.05, thus we can say that the tensile strengths due to all the machines are normally distributed. Thus the assumption of normality is satisfied."
   ]
  },
  {
   "cell_type": "markdown",
   "metadata": {},
   "source": [
    "Let us check the equality of variances."
   ]
  },
  {
   "cell_type": "code",
   "execution_count": 50,
   "metadata": {},
   "outputs": [
    {
     "name": "stdout",
     "output_type": "stream",
     "text": [
      "P-Value: 0.7570021212992085\n"
     ]
    }
   ],
   "source": [
    "# perform Levene's test for the equality of variances \n",
    "# levene() returns a tuple having the values of test statistics and the corresponding p-value\n",
    "# pass the tensile strengths of each machine\n",
    "stat, p_value = stats.levene(df_machine[df_machine['machine'] == 'machine_A']['strength'],\n",
    "                             df_machine[df_machine['machine'] == 'machine_B']['strength'],\n",
    "                             df_machine[df_machine['machine'] == 'machine_C']['strength'],\n",
    "                             df_machine[df_machine['machine'] == 'machine_D']['strength'])\n",
    "\n",
    "# print the p-value \n",
    "print('P-Value:', p_value)"
   ]
  },
  {
   "cell_type": "markdown",
   "metadata": {},
   "source": [
    "From the above result, we can see that the p-value is greater than 0.05, thus we can say that the population variances are equal for all the samples."
   ]
  },
  {
   "cell_type": "markdown",
   "metadata": {},
   "source": [
    "Here t (=number of machines) = 4, N (=total observations) = 20 \n",
    "\n",
    "For ⍺ = 0.05 and degrees of freedom = (t-1, N-t) = (3, 16), calculate the critical value."
   ]
  },
  {
   "cell_type": "code",
   "execution_count": 51,
   "metadata": {},
   "outputs": [
    {
     "name": "stdout",
     "output_type": "stream",
     "text": [
      "Critical value for F-test: 3.2389\n"
     ]
    }
   ],
   "source": [
    "# calculate the F-value for 95% of confidence level\n",
    "# use 'stats.f.isf()' to find the F-value corresponding to the upper tail probability 'q'\n",
    "# pass the value of 'alpha' to the parameter 'q', here alpha = 0.05\n",
    "# pass the degrees of freedom (= 3) to the parameter 'dfn' \n",
    "# pass the degrees of freedom (= 16) to the parameter 'dfd' \n",
    "# use 'round()' to round-off the value to 4 digits\n",
    "f = np.abs(round(stats.f.isf(q = 0.05, dfn = 3, dfd = 16), 4))\n",
    "\n",
    "print('Critical value for F-test:', f)"
   ]
  },
  {
   "cell_type": "markdown",
   "metadata": {},
   "source": [
    "i.e. if the test statistic value is greater than 3.2389 then we reject the null hypothesis."
   ]
  },
  {
   "cell_type": "code",
   "execution_count": 52,
   "metadata": {},
   "outputs": [
    {
     "name": "stdout",
     "output_type": "stream",
     "text": [
      "Test statistic: 32.03072350199285\n",
      "p_value: 5.375613532781072e-07\n"
     ]
    }
   ],
   "source": [
    "# perform one-way ANOVA\n",
    "# pass the given data\n",
    "test_stat, p_val = stats.f_oneway(df_machine[df_machine['machine'] == 'machine_A']['strength'],\n",
    "                                  df_machine[df_machine['machine'] == 'machine_B']['strength'],\n",
    "                                  df_machine[df_machine['machine'] == 'machine_C']['strength'],\n",
    "                                  df_machine[df_machine['machine'] == 'machine_D']['strength'])\n",
    "\n",
    "# print the test statistic and p-value\n",
    "print('Test statistic:', test_stat)\n",
    "print('p_value:', p_val)"
   ]
  },
  {
   "cell_type": "markdown",
   "metadata": {},
   "source": [
    "The above output shows that the test statistic is greater than 3.2389 and the p-value is less than 0.05. Thus we reject the null hypothesis and conclude that the average tensile strength due to at least one machine is different."
   ]
  },
  {
   "cell_type": "markdown",
   "metadata": {},
   "source": [
    "<a id=\"post-hoc\"></a>\n",
    "## 3.1 Post-hoc Analysis"
   ]
  },
  {
   "cell_type": "markdown",
   "metadata": {},
   "source": [
    "If one-way ANOVA rejects the null hypothesis; we conclude that at least one treatment has a different mean. The test does not distinguish a treatment with the different average value. The post-hoc test or `multi comparison test` is used to identify such treatment(s).\n",
    "\n",
    "In this section, we study the `Tukey's HSD` test. The test calculates the mean difference for each pair of treatments and returns the pair(s) with different average. \n",
    "\n",
    "The test statistic of Tukey's HSD test is given as:\n",
    "<p style='text-indent:28em'> <strong> $T_{\\alpha} = q_{{\\alpha},(t , f)} \\sqrt{\\frac{MSE}{n}} $</strong></p>\n",
    "\n",
    "The value of $q_{{\\alpha},(t , f)}$ is obtained from the tukey table.<br>\n",
    "Where,<br>\n",
    "t: Number of treatments<br>\n",
    "f: degrees of freedom for error ($df_{e}$)<br>\n",
    "MSE: Mean error sum of squares (= $\\frac{ESS}{df_{e}}$ = $\\sum_{i}^{t}\\sum_{j}^{n_{i}}{(x_{ij} - \\bar{x_{i}}.)}^{2}$)<br>\n",
    "n: Number of observations in a treatment\n",
    "\n",
    "This test is efficient when the sample size for each treatment is equal. If the sample size is not equal fo each treatment then we can use the `Scheffe test`. The `scikit_posthocs.posthoc_scheffe()` can be used to perform the test."
   ]
  },
  {
   "cell_type": "markdown",
   "metadata": {},
   "source": [
    "### Example:\n",
    "\n",
    "#### 1. Ryan is a production manager at an industry manufacturing alloy seals. They have 4 machines - A, B, C and D. Ryan wants to study whether all the machines have equal efficiency. Ryan collects data of tensile strength from all the 4 machines as given. Perform the post-hoc test to find out which machine has a different average. Test at 5% level of significance.\n",
    "\n",
    "<img src='1_ANOVA.png'>"
   ]
  },
  {
   "cell_type": "code",
   "execution_count": 53,
   "metadata": {},
   "outputs": [],
   "source": [
    "# create a dataframe using a dictionary from given data\n",
    "df_machine = pd.DataFrame(data = {'machine': ['machine_A','machine_B','machine_C','machine_D']*5, \n",
    "                                  'strength': [68.7, 62.7, 55.9, 80.7, 75.4, 68.5, 56.1, 70.3, 70.9, 63.1, 57.3, 80.9, 79.1, \n",
    "                                               62.2, 59.2, 85.4, 78.2, 60.3, 50.1, 82.3]})"
   ]
  },
  {
   "cell_type": "code",
   "execution_count": 54,
   "metadata": {
    "scrolled": true
   },
   "outputs": [
    {
     "data": {
      "text/html": [
       "<table class=\"simpletable\">\n",
       "<caption>Multiple Comparison of Means - Tukey HSD, FWER=0.05</caption>\n",
       "<tr>\n",
       "   <th>group1</th>    <th>group2</th>   <th>meandiff</th>  <th>p-adj</th>   <th>lower</th>    <th>upper</th>  <th>reject</th>\n",
       "</tr>\n",
       "<tr>\n",
       "  <td>machine_A</td> <td>machine_B</td>   <td>-11.1</td>  <td>0.0044</td> <td>-18.8842</td>  <td>-3.3158</td>  <td>True</td> \n",
       "</tr>\n",
       "<tr>\n",
       "  <td>machine_A</td> <td>machine_C</td>  <td>-18.74</td>   <td>0.001</td> <td>-26.5242</td> <td>-10.9558</td>  <td>True</td> \n",
       "</tr>\n",
       "<tr>\n",
       "  <td>machine_A</td> <td>machine_D</td>   <td>5.46</td>   <td>0.2265</td>  <td>-2.3242</td>  <td>13.2442</td>  <td>False</td>\n",
       "</tr>\n",
       "<tr>\n",
       "  <td>machine_B</td> <td>machine_C</td>   <td>-7.64</td>  <td>0.0553</td> <td>-15.4242</td>  <td>0.1442</td>   <td>False</td>\n",
       "</tr>\n",
       "<tr>\n",
       "  <td>machine_B</td> <td>machine_D</td>   <td>16.56</td>   <td>0.001</td>  <td>8.7758</td>   <td>24.3442</td>  <td>True</td> \n",
       "</tr>\n",
       "<tr>\n",
       "  <td>machine_C</td> <td>machine_D</td>   <td>24.2</td>    <td>0.001</td>  <td>16.4158</td>  <td>31.9842</td>  <td>True</td> \n",
       "</tr>\n",
       "</table>"
      ],
      "text/plain": [
       "<class 'statsmodels.iolib.table.SimpleTable'>"
      ]
     },
     "execution_count": 54,
     "metadata": {},
     "output_type": "execute_result"
    }
   ],
   "source": [
    "# perform tukey's range test to compare the mean efficiency for pair of machines\n",
    "# pass the tensile strength to the parameter, 'data'\n",
    "# pass the name of the machine to the parameter, 'groups'\n",
    "comp = mc.MultiComparison(data = df_machine['strength'], groups = df_machine['machine'])\n",
    "\n",
    "# tukey's range test\n",
    "post_hoc = comp.tukeyhsd()\n",
    "\n",
    "# print the summary table\n",
    "post_hoc.summary()"
   ]
  },
  {
   "cell_type": "markdown",
   "metadata": {},
   "source": [
    "The `reject=False` for pairs (machine_A, machine_D) and (machine_B, machine_C) denotes that we fail to reject the null hypothesis; and conclude that the average tensile strength due to machine_A and machine_D, machine_B and machine_C is same.\n",
    "\n",
    "For the pairs (machine_A, machine_B), (machine_A, machine_C), (machine_B, machine_D), and (machine_C, machine_D) the average tensile strength is not the same.\n",
    "\n",
    "The values in the columns `lower` and `upper` represent the lower and upper bound of the 95% confidence interval for the mean difference. "
   ]
  },
  {
   "cell_type": "markdown",
   "metadata": {},
   "source": [
    "<a id=\"non-para\"></a>\n",
    "# 4. Equivalent Non-parametric Test"
   ]
  },
  {
   "cell_type": "markdown",
   "metadata": {},
   "source": [
    "If one of the assumptions of one-way ANOVA is not satisfied, then we can perform the `Kruskal-Wallis H test` which is a non-parametric equivalent test for one-way ANOVA.\n",
    "\n",
    "The null and alternative hypothesis is given as:\n",
    "<p style='text-indent:20em'> <strong> $H_{0}$: The averages of all treatments are the same. </strong></p>\n",
    "<p style='text-indent:20em'> <strong> $H_{1}$: At least one treatment has a different average. </strong></p>\n",
    "\n",
    "Consider there are `t` treatments each with $n_{i}$ (i = 1,2,...,t) observations  and `n` be the number of total observations. The test statistic is given as:\n",
    "<p style='text-indent:28em'> <strong> $H = \\frac{12}{n(n+1)} \\sum_{i}{\\frac{R_{i}^{2}}{n_{i}} - 3(n+1)} $</strong></p>\n",
    "\n",
    "Where $R_{i}$ sum of the ranks of observations in the $i^{th}$ treatment.\n",
    "\n",
    "Under $H_{0}$, the test statistic follows Chi-square distribution with ($t-1$) degrees of freedom."
   ]
  },
  {
   "cell_type": "markdown",
   "metadata": {},
   "source": [
    "### Example:\n",
    "\n",
    "#### 1. A gym trainer wants to provide an energy bar to all his customers to increase muscle strength. Three different companies approached the gym trainer with their high-quality energy bars. The trainer collects an amount of calcium (in g) in the energy bar from three companies and he wants to study whether all the bars have an equal amount of calcium on average. Test at 5% level of significance.\n",
    "\n",
    "given data:\n",
    "           \n",
    "           alpha_bar = [24.4, 20.7, 56.9, 19.5]\n",
    "           beta_bar = [53.2, 54.7, 20.5, 15.8, 56.6]\n",
    "           gamma_bar = [54, 31, 22.8, 24.7]"
   ]
  },
  {
   "cell_type": "markdown",
   "metadata": {},
   "source": [
    "The null and alternative hypothesis is:\n",
    "\n",
    "H<sub>0</sub>: The average amount of calcium in all the energy bars is same<br>\n",
    "H<sub>1</sub>: At least one energy bar has a different average amount of calcium "
   ]
  },
  {
   "cell_type": "code",
   "execution_count": 55,
   "metadata": {},
   "outputs": [
    {
     "data": {
      "text/plain": [
       "[24.4, 20.7, 56.9, 19.5, 53.2, 54.7, 20.5, 15.8, 56.6, 54, 31, 22.8, 24.7]"
      ]
     },
     "execution_count": 55,
     "metadata": {},
     "output_type": "execute_result"
    }
   ],
   "source": [
    "# given data\n",
    "# amount of calcium in alpha_bar\n",
    "alpha_bar = [24.4, 20.7, 56.9, 19.5]\n",
    "\n",
    "# amount of calcium in beta_bar\n",
    "beta_bar = [53.2, 54.7, 20.5, 15.8, 56.6]\n",
    "\n",
    "# amount of calcium in gamma_bar\n",
    "gamma_bar = [54, 31, 22.8, 24.7]\n",
    "\n",
    "# create an empty list to include the amount of calcium for all energy bars\n",
    "cal_amt = []\n",
    "\n",
    "# use 'extend()' to add the data in the list\n",
    "cal_amt.extend(alpha_bar)\n",
    "cal_amt.extend(beta_bar)\n",
    "cal_amt.extend(gamma_bar)\n",
    "\n",
    "# print the data\n",
    "cal_amt"
   ]
  },
  {
   "cell_type": "markdown",
   "metadata": {},
   "source": [
    "Let us check the normality of the amount of calcium in the energy bars."
   ]
  },
  {
   "cell_type": "code",
   "execution_count": 56,
   "metadata": {},
   "outputs": [
    {
     "name": "stdout",
     "output_type": "stream",
     "text": [
      "p-value: 0.0048474338836967945\n"
     ]
    }
   ],
   "source": [
    "# perform Shapiro-Wilk test to test the normality\n",
    "# shapiro() returns a tuple having the values of test statistics and the corresponding p-value\n",
    "# pass the calcium in each of the energy bar\n",
    "stat, p_value = stats.shapiro(cal_amt)\n",
    "\n",
    "# print the p-value\n",
    "print('p-value:', p_value)"
   ]
  },
  {
   "cell_type": "markdown",
   "metadata": {},
   "source": [
    "From the above result, we can see that the p-value is less than 0.05, thus we can say that the calcium amount in the energy bars is not normally distributed. This does not satisfy the assumption of normality for ANOVA.\n",
    "\n",
    "Thus we can not apply one-way ANOVA to test the equality of the amount of calcium. Let us use the non-parametric equivalent `Kruskal-Wallis H test`."
   ]
  },
  {
   "cell_type": "markdown",
   "metadata": {},
   "source": [
    "For ⍺ = 0.05 and degrees of freedom (=3 - 1) = 2, calculate the critical value."
   ]
  },
  {
   "cell_type": "code",
   "execution_count": 57,
   "metadata": {},
   "outputs": [
    {
     "name": "stdout",
     "output_type": "stream",
     "text": [
      "Critical value for chi-square test: 5.9915\n"
     ]
    }
   ],
   "source": [
    "# calculate the χ2-value for 95% of confidence level\n",
    "# use 'stats.chi2.isf()' to find the χ2-value corresponding to the upper tail probability 'q'\n",
    "# pass the value of 'alpha' to the parameter 'q', here alpha = 0.05\n",
    "# pass the degrees of freedom to the parameter 'df' \n",
    "# use 'round()' to round-off the value to 4 digits\n",
    "chi2_val = np.abs(round(stats.chi2.isf(q = 0.05, df = 2), 4))\n",
    "\n",
    "print('Critical value for chi-square test:', chi2_val)"
   ]
  },
  {
   "cell_type": "markdown",
   "metadata": {},
   "source": [
    "i.e. if the chi-square value is greater than 5.9915 then we reject the null hypothesis."
   ]
  },
  {
   "cell_type": "code",
   "execution_count": 58,
   "metadata": {},
   "outputs": [
    {
     "name": "stdout",
     "output_type": "stream",
     "text": [
      "Test statistic: 0.22747252747252844\n",
      "p-value: 0.8924933076960211\n"
     ]
    }
   ],
   "source": [
    "# perform kruskal-wallis H test\n",
    "test_stat, p_val = stats.kruskal(alpha_bar, beta_bar, gamma_bar)\n",
    "\n",
    "# print the test statistic and corresponding p-value\n",
    "print('Test statistic:', test_stat)\n",
    "print('p-value:', p_val)"
   ]
  },
  {
   "cell_type": "markdown",
   "metadata": {},
   "source": [
    "The above output shows that the test statistic value is less than 5.9915, the p-value is greater than 0.05. Thus we fail to reject (i.e. accept) the null hypothesis and conclude that the average amount of calcium in all the energy bars is the same."
   ]
  },
  {
   "cell_type": "markdown",
   "metadata": {},
   "source": [
    "Let us plot the acceptance and rejection region for a test with 95% confidence."
   ]
  },
  {
   "cell_type": "code",
   "execution_count": 59,
   "metadata": {
    "scrolled": false
   },
   "outputs": [
    {
     "data": {
      "image/png": "[encoded data removed]",
      "text/plain": [
       "<Figure size 1080x576 with 1 Axes>"
      ]
     },
     "metadata": {
      "needs_background": "light"
     },
     "output_type": "display_data"
    }
   ],
   "source": [
    "# consider a random variable 'X' that follows a chi-square distribution \n",
    "# pass the degrees of freedom to the parameter 'df' \n",
    "# pass the required number of observations to the parameter, 'size'\n",
    "# set 'random_state' to obtain the same observations every time you run the code \n",
    "X = stats.chi2.rvs(df = 2, size = 1000000, random_state = 10)\n",
    "\n",
    "# pass the data to the parameter, 'a'\n",
    "# 'hist=False' does not return the histogram \n",
    "# 'cumulative=False' in 'kde_kws' does not return the cumulative kernel density estimator\n",
    "ax = sns.distplot(a = X, hist = False, kde_kws = dict(cumulative=False))\n",
    "\n",
    "# set the limit for y-axis\n",
    "plt.ylim(0, 0.45)\n",
    "\n",
    "# set the left side limit for x-axis\n",
    "plt.xlim(0)\n",
    "\n",
    "# use 'stats.chi2.isf()' to calculate the critical value for alpha = 0.05\n",
    "# pass the value of 'alpha' to the parameter 'q'\n",
    "# pass the degrees of freedom to the parameter 'df' \n",
    "chi2 = stats.chi2.isf(q = 0.05, df = 2)\n",
    "\n",
    "# plot a vertical line at χ2-value\n",
    "x, y = [chi2, chi2], [0, 0.12]\n",
    "plt.plot(x, y, color = 'black')\n",
    "\n",
    "# plot a vertical line at χ2 test value\n",
    "x, y = [test_stat, test_stat], [0, 0.015]\n",
    "plt.plot(x, y, color = 'black')\n",
    "\n",
    "# add the color to the right of the χ2-value\n",
    "# get the data for x and y axes\n",
    "l1 = ax.lines[0]\n",
    "x1 = l1.get_xydata()[:,0]\n",
    "y1 = l1.get_xydata()[:,1]\n",
    "\n",
    "# fill the color for the region where x-values are greater than the critical χ2-value\n",
    "# pass the condition to shade the required region\n",
    "# pass the required color to the parameter, 'color'\n",
    "ax.fill_between(x1[x1 >= chi2], y1[x1 >= chi2], color = 'lightblue')\n",
    "\n",
    "# use 'annonate' function to draw an arrow between points xy and xytext\n",
    "# 's' is a argument to write text\n",
    "# we can change the facecolor and arrowstyle; this is only for representation purpose\n",
    "plt.annotate(s = 'α = 0.05\\n(Rejection Region for H0)', xy = (7, 0.008), xytext = (7.5, 0.036), \n",
    "             arrowprops = dict(facecolor = 'black', arrowstyle = 'simple'))\n",
    "\n",
    "plt.annotate(s = 'χ2_crit = '+ str(round(chi2,2)), xy = (chi2, 0.06), xytext = (chi2+1, 0.08), \n",
    "             arrowprops = dict(facecolor = 'black', arrowstyle = 'simple'))\n",
    "\n",
    "# use below code to print the values in the graph\n",
    "# 'x' and 'y' gives position of the text\n",
    "# 's' is the text \n",
    "plt.text(x = 0.2, y = 0.06, s = 'Acceptance Region \\n for H0 (1 - α)')\n",
    "\n",
    "# assign the x-axis labels\n",
    "# pass the position of labels to the parameter, 'ticks'\n",
    "# pass the required labels to the parameter, 'labels'\n",
    "plt.xticks(ticks = [4, 8, 12, 16, 20, 24, 28, round(test_stat,2)], \n",
    "           labels = [4, 8, 12, 16, 20, 24, 28, 'χ2_test = '+str(round(test_stat,2))])\n",
    "\n",
    "# set plot and axes labels\n",
    "# set text size using 'fontsize'\n",
    "plt.xlabel('χ2', fontsize = 15)\n",
    "plt.ylabel('Probability', fontsize = 15)\n",
    "plt.title('Test Region', fontsize = 15)\n",
    "\n",
    "# display the plot\n",
    "plt.show()"
   ]
  },
  {
   "cell_type": "markdown",
   "metadata": {},
   "source": [
    "The above plot shows that the test statistic value is in the acceptance region, which implies that we fail to reject $H_{0}$."
   ]
  },
  {
   "cell_type": "markdown",
   "metadata": {},
   "source": [
    "#### 2. Ryan is a production manager at an industry manufacturing alloy seals. They have 3 machines - A, B and C. Ryan want to study whether all the machines have equal efficiency. There no information about the tensile strength of the population. Can it be said that the machines produce the sample tensile strength? Test at 5% level of significance.\n",
    "\n",
    "<img src='KW_test.png'>"
   ]
  },
  {
   "cell_type": "markdown",
   "metadata": {},
   "source": [
    "The null and alternative hypothesis is:\n",
    "\n",
    "H<sub>0</sub>: The average tensile strength due to all the machines is the same<br>\n",
    "H<sub>1</sub>: The average tensile strength due to at least one machine is different"
   ]
  },
  {
   "cell_type": "code",
   "execution_count": 60,
   "metadata": {},
   "outputs": [
    {
     "name": "stdout",
     "output_type": "stream",
     "text": [
      "[72.5, 84.8, 76.6, 34.7, 33.2, 23.4, 35.7, 33.7, 34.5, 24.5, 34.6]\n"
     ]
    }
   ],
   "source": [
    "# given data\n",
    "# tensile strength due to machine A\n",
    "machine_A = [72.5, 84.8, 76.6, 34.7]\n",
    "\n",
    "# tensile strength due to machine B\n",
    "machine_B = [33.2, 23.4, 35.7, 33.7, 34.5]\n",
    "\n",
    "# tensile strength due to machine C\n",
    "machine_C = [24.5, 34.6]\n",
    "\n",
    "# create an empty list to include tensile strength due to all the machines\n",
    "strength_machine = []\n",
    "\n",
    "# use 'extend()' to add the data in the list\n",
    "strength_machine.extend(machine_A)\n",
    "strength_machine.extend(machine_B)\n",
    "strength_machine.extend(machine_C)\n",
    "\n",
    "# print the data\n",
    "print(strength_machine)"
   ]
  },
  {
   "cell_type": "markdown",
   "metadata": {},
   "source": [
    "Let us check the normality of the tensile strength due to all the machines."
   ]
  },
  {
   "cell_type": "code",
   "execution_count": 61,
   "metadata": {},
   "outputs": [
    {
     "name": "stdout",
     "output_type": "stream",
     "text": [
      "p-value: 0.0024516438134014606\n"
     ]
    }
   ],
   "source": [
    "# perform Shapiro-Wilk test to test the normality\n",
    "# shapiro() returns a tuple having the values of test statistics and the corresponding p-value\n",
    "# pass the tensile strength due to all machines \n",
    "stat, p_value = stats.shapiro(strength_machine)\n",
    "\n",
    "# print the p-value\n",
    "print('p-value:', p_value)"
   ]
  },
  {
   "cell_type": "markdown",
   "metadata": {},
   "source": [
    "From the above result, we can see that the p-value is less than 0.05, thus we can say that the tensile strength is not normally distributed. This does not satisfy the assumption of normality for ANOVA.\n",
    "\n",
    "Thus we can not apply one-way ANOVA to test the equality of tensile strength. Let us use the non-parametric equivalent `Kruskal-Wallis H test`."
   ]
  },
  {
   "cell_type": "markdown",
   "metadata": {},
   "source": [
    "For ⍺ = 0.05 and degrees of freedom (= 3 - 1) = 2, calculate the critical value."
   ]
  },
  {
   "cell_type": "code",
   "execution_count": 62,
   "metadata": {},
   "outputs": [
    {
     "name": "stdout",
     "output_type": "stream",
     "text": [
      "Critical value for chi-square test: 5.9915\n"
     ]
    }
   ],
   "source": [
    "# calculate the χ2-value for 95% of confidence level\n",
    "# use 'stats.chi2.isf()' to find the χ2-value corresponding to the upper tail probability 'q'\n",
    "# pass the value of 'alpha' to the parameter 'q', here alpha = 0.05\n",
    "# pass the degrees of freedom to the parameter 'df' \n",
    "# use 'round()' to round-off the value to 4 digits\n",
    "chi2_val = np.abs(round(stats.chi2.isf(q = 0.05, df = 2), 4))\n",
    "\n",
    "print('Critical value for chi-square test:', chi2_val)"
   ]
  },
  {
   "cell_type": "markdown",
   "metadata": {},
   "source": [
    "i.e. if the chi-square value is greater than 5.9915 then we reject the null hypothesis."
   ]
  },
  {
   "cell_type": "code",
   "execution_count": 63,
   "metadata": {},
   "outputs": [
    {
     "name": "stdout",
     "output_type": "stream",
     "text": [
      "Test statistic: 6.040909090909089\n",
      "p-value: 0.04877904103071468\n"
     ]
    }
   ],
   "source": [
    "# perform kruskal-wallis H test\n",
    "test_stat, p_val = stats.kruskal(machine_A, machine_B, machine_C)\n",
    "\n",
    "# print the test statistic and corresponding p-value\n",
    "print('Test statistic:', test_stat)\n",
    "print('p-value:', p_val)"
   ]
  },
  {
   "cell_type": "markdown",
   "metadata": {},
   "source": [
    "The above output shows that the test statistic is greater than 5.9915, the p-value is less than 0.05. Thus we reject the null hypothesis and conclude that the average tensile strength due to at least one machine is different."
   ]
  },
  {
   "cell_type": "markdown",
   "metadata": {},
   "source": [
    "If Kruskal-Wallis H test rejects the null hypothesis; we conclude that at least one treatment has a different mean. The test does not distinguish a treatment with the different average value. The post-hoc test is used to identify such treatment(s). Thus we use the `conover test` as a post-hoc test."
   ]
  },
  {
   "cell_type": "code",
   "execution_count": 64,
   "metadata": {},
   "outputs": [],
   "source": [
    "# given data\n",
    "# tensile strength due to machine A\n",
    "machine_A = [72.5, 84.8, 76.6, 34.7]\n",
    "\n",
    "# tensile strength due to machine B\n",
    "machine_B = [33.2, 23.4, 35.7, 33.7, 34.5]\n",
    "\n",
    "# tensile strength due to machine C\n",
    "machine_C = [24.5, 34.6]"
   ]
  },
  {
   "cell_type": "code",
   "execution_count": 65,
   "metadata": {},
   "outputs": [],
   "source": [
    "# create a dataframe using a dictionary from given data\n",
    "df_machine = pd.DataFrame(data = {'machine': ['machine_A', 'machine_A', 'machine_A', 'machine_A', 'machine_B', 'machine_B', \n",
    "                                              'machine_B', 'machine_B', 'machine_B', 'machine_C', 'machine_C'], \n",
    "                                  'strength': [72.5, 84.8, 76.6, 34.7, 33.2, 23.4, 35.7, 33.7, 34.5, 24.5, 34.6]})"
   ]
  },
  {
   "cell_type": "code",
   "execution_count": 66,
   "metadata": {
    "scrolled": true
   },
   "outputs": [
    {
     "data": {
      "text/html": [
       "<div>\n",
       "<style scoped>\n",
       "    .dataframe tbody tr th:only-of-type {\n",
       "        vertical-align: middle;\n",
       "    }\n",
       "\n",
       "    .dataframe tbody tr th {\n",
       "        vertical-align: top;\n",
       "    }\n",
       "\n",
       "    .dataframe thead th {\n",
       "        text-align: right;\n",
       "    }\n",
       "</style>\n",
       "<table border=\"1\" class=\"dataframe\">\n",
       "  <thead>\n",
       "    <tr style=\"text-align: right;\">\n",
       "      <th></th>\n",
       "      <th>machine_A</th>\n",
       "      <th>machine_B</th>\n",
       "      <th>machine_C</th>\n",
       "    </tr>\n",
       "  </thead>\n",
       "  <tbody>\n",
       "    <tr>\n",
       "      <th>machine_A</th>\n",
       "      <td>1.000000</td>\n",
       "      <td>0.012120</td>\n",
       "      <td>0.031704</td>\n",
       "    </tr>\n",
       "    <tr>\n",
       "      <th>machine_B</th>\n",
       "      <td>0.012120</td>\n",
       "      <td>1.000000</td>\n",
       "      <td>0.920917</td>\n",
       "    </tr>\n",
       "    <tr>\n",
       "      <th>machine_C</th>\n",
       "      <td>0.031704</td>\n",
       "      <td>0.920917</td>\n",
       "      <td>1.000000</td>\n",
       "    </tr>\n",
       "  </tbody>\n",
       "</table>\n",
       "</div>"
      ],
      "text/plain": [
       "           machine_A  machine_B  machine_C\n",
       "machine_A   1.000000   0.012120   0.031704\n",
       "machine_B   0.012120   1.000000   0.920917\n",
       "machine_C   0.031704   0.920917   1.000000"
      ]
     },
     "execution_count": 66,
     "metadata": {},
     "output_type": "execute_result"
    }
   ],
   "source": [
    "# perform the conover test\n",
    "# pass the dataframe to the parameter, 'a'\n",
    "# pass the column with numeric data to the parameter, 'val_col'\n",
    "# pass the column with categoric data to the parameter, 'group_col'\n",
    "scikit_posthocs.posthoc_conover(a = df_machine, val_col = 'strength', group_col = 'machine')"
   ]
  },
  {
   "cell_type": "markdown",
   "metadata": {},
   "source": [
    "For α = 0.05, the p-value for pairs (A, B) and (A, C) is less than 0.05. Thus we can conclude that there is a difference in the in the strengths between pairs of machines (A,B) and (A,C)."
   ]
  },
  {
   "cell_type": "markdown",
   "metadata": {},
   "source": [
    "<a id=\"2way\"></a>\n",
    "# 5. Two-way ANOVA"
   ]
  },
  {
   "cell_type": "markdown",
   "metadata": {},
   "source": [
    "The two-way ANOVA can be used to test the effect due to the two nominal variables on a numeric variable. The levels of one nominal variable is considered as `treatments` and levels of another variable is considered as `blocks`. The hypothesis can be given in terms of both the treatments and blocks. \n",
    "\n",
    "One of the null and alternative hypothesis is given as:\n",
    "<p style='text-indent:20em'> <strong> $H_{01}$: The averages of all treatments are the same. </strong></p>\n",
    "<p style='text-indent:20em'> <strong> $H_{11}$: At least one treatment has a different average. </strong></p>\n",
    "\n",
    "Another null and alternative hypothesis is given as:\n",
    "<p style='text-indent:20em'> <strong> $H_{02}$: The averages of all blocks are the same. </strong></p>\n",
    "<p style='text-indent:20em'> <strong> $H_{12}$: At least one block has a different average. </strong></p>\n",
    "\n",
    "Consider there are `t` treatments, `b` blocks and `N` is the number of total observations. \n",
    "\n",
    "The test statistic for `treatments` is given as:\n",
    "<p style='text-indent:28em'> <strong> $F_{Tr} = \\frac{MTrSS}{MESS} $</strong></p>\n",
    "\n",
    "Where,<br>\n",
    "MTrSS = $\\frac{TrSS}{df_{Tr}}$<br>\n",
    "\n",
    "TrSS = $\\sum_{i}^{t}b{(\\bar{x}_{i.} - \\bar{x}_{..})}^{2}$<br> $b$ is the number of observations in $i_{th}$ treatment. <br>$\\bar{x}_{i.}$ is the mean over $i^{th}$ treatment <br> $\\bar{x}_{..}$ is the grand mean (i.e. mean of all the observations). <br>\n",
    "\n",
    "$df_{Tr}$ is the degrees of freedom for treatments (= $t-1$)\n",
    "\n",
    "MESS = $\\frac{ESS}{df_{e}}$<br>\n",
    "\n",
    "ESS = $\\sum_{i}^{t}\\sum_{j}^{b}{(x_{ij} - \\bar{x}_{i.} - \\bar{x}_{.j} + \\bar{x}_{..})}^{2}$\n",
    "\n",
    "$df_{e}$ is the degrees of freedom for error (= $(t-1)(b-1)$)\n",
    "\n",
    "Under $H_{0}$, the test statistic ($F_{Tr}$) follows F-distribution with ($t-1, (t-1)(b-1)$) degrees of freedom.\n",
    "\n",
    "\n",
    "The test statistic for `blocks` is given as:\n",
    "<p style='text-indent:28em'> <strong> $F_{B} = \\frac{MBSS}{MESS} $</strong></p>\n",
    "\n",
    "Where,<br>\n",
    "MBSS = $\\frac{BSS}{df_{B}}$<br>\n",
    "\n",
    "BSS = $\\sum_{j}^{b}t(\\bar{x}_{.j} - \\bar{x}..)$<br>  $t$ is the number of observations in $j_{th}$ block.  $\\bar{x}_{.j}$ is the mean over $j^{th}$ block <br> $\\bar{x}_{..}$ is the grand mean (i.e. mean of all the observations). <br>\n",
    "\n",
    "$df_{B}$ is the degrees of freedom for blocks (= $b-1$)\n",
    "\n",
    "MESS = $\\frac{ESS}{df_{e}}$<br>\n",
    "\n",
    "ESS = $\\sum_{i}^{t}\\sum_{j}^{b}{(x_{ij} - \\bar{x}_{i.} - \\bar{x_{.j}} + \\bar{x}_{..})}^{2}$\n",
    "\n",
    "$df_{e}$ is the degrees of freedom for error (= $(t-1)(b-1)$)\n",
    "\n",
    "Under $H_{0}$, the test statistic ($F_{B}$) follows F-distribution with ($b-1, (t-1)(b-1)$) degrees of freedom."
   ]
  },
  {
   "cell_type": "markdown",
   "metadata": {},
   "source": [
    "### Example:\n",
    "\n",
    "#### 1. Check if there is any effect of level of education and completion of test preparation course on the total marks. Perform two-way ANOVA with 5% level of significance."
   ]
  },
  {
   "cell_type": "markdown",
   "metadata": {},
   "source": [
    "Use the performance dataset of students available in the CSV file `students_data.csv`."
   ]
  },
  {
   "cell_type": "code",
   "execution_count": 67,
   "metadata": {
    "scrolled": false
   },
   "outputs": [
    {
     "data": {
      "text/html": [
       "<div>\n",
       "<style scoped>\n",
       "    .dataframe tbody tr th:only-of-type {\n",
       "        vertical-align: middle;\n",
       "    }\n",
       "\n",
       "    .dataframe tbody tr th {\n",
       "        vertical-align: top;\n",
       "    }\n",
       "\n",
       "    .dataframe thead th {\n",
       "        text-align: right;\n",
       "    }\n",
       "</style>\n",
       "<table border=\"1\" class=\"dataframe\">\n",
       "  <thead>\n",
       "    <tr style=\"text-align: right;\">\n",
       "      <th></th>\n",
       "      <th>gender</th>\n",
       "      <th>ethnicity</th>\n",
       "      <th>education</th>\n",
       "      <th>lunch</th>\n",
       "      <th>test_prep_course</th>\n",
       "      <th>math_score</th>\n",
       "      <th>reading_score</th>\n",
       "      <th>writing_score</th>\n",
       "      <th>total_score</th>\n",
       "      <th>training_institute</th>\n",
       "    </tr>\n",
       "  </thead>\n",
       "  <tbody>\n",
       "    <tr>\n",
       "      <th>0</th>\n",
       "      <td>female</td>\n",
       "      <td>group B</td>\n",
       "      <td>bachelor's degree</td>\n",
       "      <td>standard</td>\n",
       "      <td>none</td>\n",
       "      <td>89</td>\n",
       "      <td>55</td>\n",
       "      <td>56</td>\n",
       "      <td>200</td>\n",
       "      <td>Nature Learning</td>\n",
       "    </tr>\n",
       "    <tr>\n",
       "      <th>1</th>\n",
       "      <td>female</td>\n",
       "      <td>group C</td>\n",
       "      <td>college</td>\n",
       "      <td>standard</td>\n",
       "      <td>completed</td>\n",
       "      <td>55</td>\n",
       "      <td>63</td>\n",
       "      <td>72</td>\n",
       "      <td>190</td>\n",
       "      <td>Nature Learning</td>\n",
       "    </tr>\n",
       "  </tbody>\n",
       "</table>\n",
       "</div>"
      ],
      "text/plain": [
       "   gender ethnicity          education     lunch test_prep_course  math_score  \\\n",
       "0  female   group B  bachelor's degree  standard             none          89   \n",
       "1  female   group C            college  standard        completed          55   \n",
       "\n",
       "   reading_score  writing_score  total_score training_institute  \n",
       "0             55             56          200    Nature Learning  \n",
       "1             63             72          190    Nature Learning  "
      ]
     },
     "execution_count": 67,
     "metadata": {},
     "output_type": "execute_result"
    }
   ],
   "source": [
    "# read the students performance data \n",
    "df_student = pd.read_csv('students_data.csv')\n",
    "\n",
    "# display the first two observations\n",
    "df_student.head(2)"
   ]
  },
  {
   "cell_type": "markdown",
   "metadata": {},
   "source": [
    "The null and alternative hypothesis for the level of education is:\n",
    "\n",
    "H<sub>0</sub>: The average score for all the education levels is the same<br>\n",
    "H<sub>1</sub>: At least one education level has a different average score\n",
    "\n",
    "The null and alternative hypothesis for completion of test preparation course is:\n",
    "\n",
    "H<sub>0</sub>: The average score for all the course preparation levels is the same<br>\n",
    "H<sub>1</sub>: At least one course preparation level has a different average score"
   ]
  },
  {
   "cell_type": "markdown",
   "metadata": {},
   "source": [
    "Let us check the normality of the total marks of students from all the treatments and blocks."
   ]
  },
  {
   "cell_type": "code",
   "execution_count": 68,
   "metadata": {},
   "outputs": [
    {
     "name": "stdout",
     "output_type": "stream",
     "text": [
      "p-value: 0.7420849204063416\n"
     ]
    }
   ],
   "source": [
    "# perform Shapiro-Wilk test to test the normality\n",
    "# shapiro() returns a tuple having the values of test statistics and the corresponding p-value\n",
    "# pass the total marks of students \n",
    "stat, p_value = stats.shapiro(df_student['total_score'])\n",
    "\n",
    "# print the p-value\n",
    "print('p-value:', p_value)"
   ]
  },
  {
   "cell_type": "markdown",
   "metadata": {},
   "source": [
    "From the above result, we can see that the p-value is greater than 0.05, thus we can say that the total marks of students from all the treatments and blocks are normally distributed. Thus the assumption of normality is satisfied."
   ]
  },
  {
   "cell_type": "code",
   "execution_count": 69,
   "metadata": {},
   "outputs": [
    {
     "name": "stdout",
     "output_type": "stream",
     "text": [
      "t: 6\n",
      "b: 2\n",
      "N: 1000\n"
     ]
    }
   ],
   "source": [
    "# obtain number of unique education levels (treatments)\n",
    "t = df_student['education'].nunique()\n",
    "print('t:', t)\n",
    "\n",
    "# obtain number of unique test preparation course levels (blocks)\n",
    "b = df_student['test_prep_course'].nunique()\n",
    "print('b:', b)\n",
    "\n",
    "# calculate the number of students in each education level\n",
    "# consider the total number of students in all education levels\n",
    "N = df_student['education'].value_counts().sum()\n",
    "print('N:', N)"
   ]
  },
  {
   "cell_type": "markdown",
   "metadata": {},
   "source": [
    "For ⍺ = 0.05 and degrees of freedom for treatment $df_{Tr}$ (= t-1, (t-1)(b-1)) = (5, 5), calculate the critical value."
   ]
  },
  {
   "cell_type": "code",
   "execution_count": 70,
   "metadata": {},
   "outputs": [
    {
     "name": "stdout",
     "output_type": "stream",
     "text": [
      "Critical value for F-test: 5.0503\n"
     ]
    }
   ],
   "source": [
    "# calculate the F-value for 95% of confidence level\n",
    "# use 'stats.f.isf()' to find the F-value corresponding to the upper tail probability 'q'\n",
    "# pass the value of 'alpha' to the parameter 'q', here alpha = 0.05\n",
    "# pass the degrees of freedom (= 5) to the parameter 'dfn' \n",
    "# pass the degrees of freedom (= 5) to the parameter 'dfd' \n",
    "# use 'round()' to round-off the value to 4 digits\n",
    "f = np.abs(round(stats.f.isf(q = 0.05, dfn = 5, dfd = 5), 4))\n",
    "\n",
    "print('Critical value for F-test:', f)"
   ]
  },
  {
   "cell_type": "markdown",
   "metadata": {},
   "source": [
    "i.e. if the test statistic value for treatment (i.e. education) is greater than 5.0503 then we reject the null hypothesis for treatments."
   ]
  },
  {
   "cell_type": "markdown",
   "metadata": {},
   "source": [
    "For ⍺ = 0.05 and degrees of freedom for block $df_{B}$ (= b-1, (t-1)(b-1)) = (1, 5), calculate the critical value."
   ]
  },
  {
   "cell_type": "code",
   "execution_count": 71,
   "metadata": {},
   "outputs": [
    {
     "name": "stdout",
     "output_type": "stream",
     "text": [
      "Critical value for F-test: 6.6079\n"
     ]
    }
   ],
   "source": [
    "# calculate the F-value for 95% of confidence level\n",
    "# use 'stats.f.isf()' to find the F-value corresponding to the upper tail probability 'q'\n",
    "# pass the value of 'alpha' to the parameter 'q', here alpha = 0.05\n",
    "# pass the degrees of freedom (= 1) to the parameter 'dfn' \n",
    "# pass the degrees of freedom (= 5) to the parameter 'dfd' \n",
    "# use 'round()' to round-off the value to 4 digits\n",
    "f = np.abs(round(stats.f.isf(q = 0.05, dfn = 1, dfd = 5), 4))\n",
    "\n",
    "print('Critical value for F-test:', f)"
   ]
  },
  {
   "cell_type": "markdown",
   "metadata": {},
   "source": [
    "i.e. if the test statistic value for block (i.e. test_prep_course) is greater than 6.6079 then we reject the null hypothesis for blocks."
   ]
  },
  {
   "cell_type": "code",
   "execution_count": 72,
   "metadata": {
    "scrolled": false
   },
   "outputs": [
    {
     "data": {
      "text/html": [
       "<div>\n",
       "<style scoped>\n",
       "    .dataframe tbody tr th:only-of-type {\n",
       "        vertical-align: middle;\n",
       "    }\n",
       "\n",
       "    .dataframe tbody tr th {\n",
       "        vertical-align: top;\n",
       "    }\n",
       "\n",
       "    .dataframe thead th {\n",
       "        text-align: right;\n",
       "    }\n",
       "</style>\n",
       "<table border=\"1\" class=\"dataframe\">\n",
       "  <thead>\n",
       "    <tr style=\"text-align: right;\">\n",
       "      <th></th>\n",
       "      <th>sum_sq</th>\n",
       "      <th>df</th>\n",
       "      <th>F</th>\n",
       "      <th>PR(&gt;F)</th>\n",
       "    </tr>\n",
       "  </thead>\n",
       "  <tbody>\n",
       "    <tr>\n",
       "      <th>Q(\"education\")</th>\n",
       "      <td>2409.132920</td>\n",
       "      <td>5.0</td>\n",
       "      <td>0.895306</td>\n",
       "      <td>0.483476</td>\n",
       "    </tr>\n",
       "    <tr>\n",
       "      <th>Q(\"test_prep_course\")</th>\n",
       "      <td>862.925299</td>\n",
       "      <td>1.0</td>\n",
       "      <td>1.603444</td>\n",
       "      <td>0.205713</td>\n",
       "    </tr>\n",
       "    <tr>\n",
       "      <th>Residual</th>\n",
       "      <td>534402.603903</td>\n",
       "      <td>993.0</td>\n",
       "      <td>NaN</td>\n",
       "      <td>NaN</td>\n",
       "    </tr>\n",
       "  </tbody>\n",
       "</table>\n",
       "</div>"
      ],
      "text/plain": [
       "                              sum_sq     df         F    PR(>F)\n",
       "Q(\"education\")           2409.132920    5.0  0.895306  0.483476\n",
       "Q(\"test_prep_course\")     862.925299    1.0  1.603444  0.205713\n",
       "Residual               534402.603903  993.0       NaN       NaN"
      ]
     },
     "execution_count": 72,
     "metadata": {},
     "output_type": "execute_result"
    }
   ],
   "source": [
    "# perform two-way ANOVA\n",
    "\n",
    "# fit an ols model on the dataframe 'df_student' \n",
    "# use 'Q()' to quote the variable name \n",
    "# use 'fit()' to fit the linear model\n",
    "test = ols('total_score ~ Q(\"education\") + Q(\"test_prep_course\")', df_student).fit()\n",
    "\n",
    "# create table for 2-way ANOVA test\n",
    "# pass the linear model 'test'\n",
    "# 'typ = 2' performs two-way ANOVA\n",
    "anova_2 = anova_lm(test, typ = 2)\n",
    "\n",
    "# print the table\n",
    "anova_2"
   ]
  },
  {
   "cell_type": "markdown",
   "metadata": {},
   "source": [
    "The above output shows that the test statistic for treatments (i.e. education) is less than 5.0503 and the p-value is greater than 0.05. Thus we fail to reject (i.e. accept) the null hypothesis for treatments and conclude that the average score for all the education levels (i.e. treatments) is the same.\n",
    "\n",
    "The test statistic for blocks (i.e. test_prep_course) is less than 6.6079 and the p-value is greater than 0.05. Thus we fail to reject (i.e. accept) the null hypothesis for blocks and conclude that the average score for all the preparation course levels (i.e. blocks) is the same."
   ]
  },
  {
   "cell_type": "markdown",
   "metadata": {},
   "source": [
    "Let us plot the acceptance and rejection region for a test with 95% confidence."
   ]
  },
  {
   "cell_type": "code",
   "execution_count": 73,
   "metadata": {
    "scrolled": false
   },
   "outputs": [
    {
     "data": {
      "image/png": "[encoded data removed]",
      "text/plain": [
       "<Figure size 1080x576 with 1 Axes>"
      ]
     },
     "metadata": {
      "needs_background": "light"
     },
     "output_type": "display_data"
    },
    {
     "data": {
      "image/png": "[encoded data removed]",
      "text/plain": [
       "<Figure size 1080x576 with 1 Axes>"
      ]
     },
     "metadata": {
      "needs_background": "light"
     },
     "output_type": "display_data"
    }
   ],
   "source": [
    "# plot the F-distribution for treatments\n",
    "\n",
    "plt.subplot(2,1,1)\n",
    "\n",
    "# consider a random variable 'X' that follows a F distribution \n",
    "# pass the degrees of freedom (= 5) to the parameter 'dfn' \n",
    "# pass the degrees of freedom (= 5) to the parameter 'dfd' \n",
    "# pass the required number of observations to the parameter, 'size'\n",
    "# set 'random_state' to obtain the same observations every time you run the code \n",
    "X = stats.f.rvs(dfn = 5, dfd = 5, size = 1000, random_state = 12)\n",
    "\n",
    "# pass the data to the parameter, 'a'\n",
    "# 'hist=False' does not return the histogram \n",
    "# 'cumulative=False' in 'kde_kws' does not return the cumulative kernel density estimator\n",
    "ax = sns.distplot(a = X, hist = False, kde_kws = dict(cumulative=False))\n",
    "\n",
    "# set the limit for y-axis\n",
    "plt.ylim(0)\n",
    "plt.xlim(right = 16)\n",
    "\n",
    "# use 'stats.f.isf()' to calculate the critical value for alpha = 0.05\n",
    "# pass the value of 'alpha' to the parameter 'q'\n",
    "# pass the degrees of freedom (= 5) to the parameter 'dfn' \n",
    "# pass the degrees of freedom (= 5) to the parameter 'dfd' \n",
    "f = stats.f.isf(q = 0.05, dfn = 5, dfd = 5)\n",
    "\n",
    "# plot a vertical line at f-value\n",
    "x, y = [f, f], [0, 0.2]\n",
    "plt.plot(x, y, color = 'black')\n",
    "\n",
    "# plot a vertical line at f test value for 'education'\n",
    "x, y = [0.8953, 0.8953], [0, 0.05]\n",
    "plt.plot(x, y, color = 'black')\n",
    "\n",
    "# add the color to the right of the f-value\n",
    "# get the data for x and y axes\n",
    "l1 = ax.lines[0]\n",
    "x1 = l1.get_xydata()[:,0]\n",
    "y1 = l1.get_xydata()[:,1]\n",
    "\n",
    "# fill the color for the region where x-values are greater than the critical f-value\n",
    "# pass the condition to shade the required region\n",
    "# pass the required color to the parameter, 'color'\n",
    "ax.fill_between(x1[x1 >= f], y1[x1 >= f], color = 'lightblue')\n",
    "\n",
    "# use 'annonate' function to draw an arrow between points xy and xytext\n",
    "# 's' is a argument to write text\n",
    "# we can change the facecolor and arrowstyle; this is only for representation purpose\n",
    "plt.annotate(s = 'α = 0.05\\n(Rejection Region for H0)', xy = (6, 0.006), xytext = (6.7, 0.05), \n",
    "             arrowprops = dict(facecolor = 'black', arrowstyle = 'simple'))\n",
    "\n",
    "plt.annotate(s = 'f_crit = '+ str(round(f,2)), xy = (f, 0.16), xytext = (f+1.5, 0.2), \n",
    "             arrowprops = dict(facecolor = 'black', arrowstyle = 'simple'))\n",
    "\n",
    "plt.annotate(s = 'Acceptance \\n Region \\n for H0 (1 - α)', xy = (0.5, 0.3), xytext = (3.5, 0.3), \n",
    "             arrowprops = dict(facecolor = 'black', arrowstyle = 'simple'))\n",
    "\n",
    "# assign the x-axis labels\n",
    "# pass the position of labels to the parameter, 'ticks'\n",
    "# pass the required labels to the parameter, 'labels'\n",
    "plt.xticks(ticks = [4, 8, 12, 16, round(0.8953,2)], \n",
    "           labels = [4, 8, 12, 16, 'f_test = '+str(round(0.8953,2))])\n",
    "\n",
    "# set plot and axes labels\n",
    "# set text size using 'fontsize'\n",
    "plt.xlabel('F', fontsize = 15)\n",
    "plt.ylabel('Probability', fontsize = 15)\n",
    "plt.title('Test Region for Treatments (Education)', fontsize = 15)\n",
    "\n",
    "# display the plot\n",
    "plt.show()\n",
    "\n",
    "\n",
    "# plot the F-distribution for blocks\n",
    "plt.subplot(2,1,2)\n",
    "\n",
    "# consider a random variable 'X' that follows a F distribution \n",
    "# pass the degrees of freedom (= 1) to the parameter 'dfn' \n",
    "# pass the degrees of freedom (= 5) to the parameter 'dfd' \n",
    "# pass the required number of observations to the parameter, 'size'\n",
    "# set 'random_state' to obtain the same observations every time you run the code \n",
    "X = stats.f.rvs(dfn = 1, dfd = 5, size = 2000, random_state = 5)\n",
    "\n",
    "# pass the data to the parameter, 'a'\n",
    "# 'hist=False' does not return the histogram \n",
    "# 'cumulative=False' in 'kde_kws' does not return the cumulative kernel density estimator\n",
    "ax = sns.distplot(a = X, hist = False, kde_kws = dict(cumulative=False))\n",
    "\n",
    "# set the limit for y-axis\n",
    "plt.ylim(0)\n",
    "\n",
    "plt.xlim(right = 16)\n",
    "\n",
    "# use 'stats.f.isf()' to calculate the critical value for alpha = 0.05\n",
    "# pass the value of 'alpha' to the parameter 'q'\n",
    "# pass the degrees of freedom (= 1) to the parameter 'dfn' \n",
    "# pass the degrees of freedom (= 5) to the parameter 'dfd' \n",
    "f = stats.f.isf(q = 0.05, dfn = 1, dfd = 5)\n",
    "\n",
    "# plot a vertical line at f-value\n",
    "x, y = [f, f], [0, 0.25]\n",
    "plt.plot(x, y, color = 'black')\n",
    "\n",
    "# plot a vertical line at f test value for 'test_prep_course'\n",
    "x, y = [1.6034, 1.6034], [0, 0.1]\n",
    "plt.plot(x, y, color = 'black')\n",
    "\n",
    "# add the color to the right of the f-value\n",
    "# get the data for x and y axes\n",
    "l1 = ax.lines[0]\n",
    "x1 = l1.get_xydata()[:,0]\n",
    "y1 = l1.get_xydata()[:,1]\n",
    "\n",
    "# fill the color for the region where x-values are greater than the critical f-value\n",
    "# pass the condition to shade the required region\n",
    "# pass the required color to the parameter, 'color'\n",
    "ax.fill_between(x1[x1 >= f], y1[x1 >= f], color = 'lightblue')\n",
    "\n",
    "# use 'annonate' function to draw an arrow between points xy and xytext\n",
    "# 's' is a argument to write text\n",
    "# we can change the facecolor and arrowstyle; this is only for representation purpose\n",
    "plt.annotate(s = 'α = 0.05\\n(Rejection Region for H0)', xy = (7, 0.006), xytext = (7.7, 0.05), \n",
    "             arrowprops = dict(facecolor = 'black', arrowstyle = 'simple'))\n",
    "\n",
    "plt.annotate(s = 'f_crit = '+ str(round(f,2)), xy = (f, 0.16), xytext = (f+1.5, 0.2), \n",
    "             arrowprops = dict(facecolor = 'black', arrowstyle = 'simple'))\n",
    "\n",
    "plt.annotate(s = 'Acceptance \\n Region \\n for H0 (1 - α)', xy = (0.4, 0.3), xytext = (3, 0.3), \n",
    "            arrowprops = dict(facecolor = 'black', arrowstyle = 'simple'))\n",
    "\n",
    "# assign the x-axis labels\n",
    "# pass the position of labels to the parameter, 'ticks'\n",
    "# pass the required labels to the parameter, 'labels'\n",
    "plt.xticks(ticks = [4, 8, 12, 16, round(1.6034,2)], \n",
    "          labels = [4, 8, 12, 16, 'f_test = '+str(round(1.6034,2))])\n",
    "\n",
    "# set plot and axes labels\n",
    "# set text size using 'fontsize'\n",
    "plt.xlabel('F', fontsize = 15)\n",
    "plt.ylabel('Probability', fontsize = 15)\n",
    "plt.title('Test Region for Blocks (Test Preparation Course)', fontsize = 15)\n",
    "\n",
    "# display the plot\n",
    "plt.show()"
   ]
  },
  {
   "cell_type": "markdown",
   "metadata": {},
   "source": [
    "The above plot shows that for both the distributions the test statistic values are in the acceptance region, which implies that we fail to reject (i.e. accept) $H_{0}$."
   ]
  },
  {
   "cell_type": "markdown",
   "metadata": {},
   "source": [
    "#### 2. The business is thriving, and Ryan finds it crucial that the production should progress without any breaks. He decides to have three shifts - Morning, Afternoon and Night shift. Ryan collects data of tensile strength from all the 4 machines and the 3 shifts as given. Test at 5% level of significance.\n",
    "\n",
    "<img src='2_ANOVA.png'>"
   ]
  },
  {
   "cell_type": "markdown",
   "metadata": {},
   "source": [
    "The null and alternative hypothesis for machines is:\n",
    "\n",
    "H<sub>0</sub>: The average tensile strength due to all the machines is the same<br>\n",
    "H<sub>1</sub>: The average tensile strength is different for at least one machine \n",
    "\n",
    "The null and alternative hypothesis for shifts is:\n",
    "\n",
    "H<sub>0</sub>: The average tensile strength due to all the shifts is the same<br>\n",
    "H<sub>1</sub>: The average tensile strength is different for at least one shift "
   ]
  },
  {
   "cell_type": "code",
   "execution_count": 74,
   "metadata": {},
   "outputs": [
    {
     "data": {
      "text/html": [
       "<div>\n",
       "<style scoped>\n",
       "    .dataframe tbody tr th:only-of-type {\n",
       "        vertical-align: middle;\n",
       "    }\n",
       "\n",
       "    .dataframe tbody tr th {\n",
       "        vertical-align: top;\n",
       "    }\n",
       "\n",
       "    .dataframe thead th {\n",
       "        text-align: right;\n",
       "    }\n",
       "</style>\n",
       "<table border=\"1\" class=\"dataframe\">\n",
       "  <thead>\n",
       "    <tr style=\"text-align: right;\">\n",
       "      <th></th>\n",
       "      <th>Machine</th>\n",
       "      <th>Shift</th>\n",
       "      <th>Tensile_Strength</th>\n",
       "    </tr>\n",
       "  </thead>\n",
       "  <tbody>\n",
       "    <tr>\n",
       "      <th>0</th>\n",
       "      <td>A</td>\n",
       "      <td>MS</td>\n",
       "      <td>68.7</td>\n",
       "    </tr>\n",
       "    <tr>\n",
       "      <th>1</th>\n",
       "      <td>A</td>\n",
       "      <td>AS</td>\n",
       "      <td>75.4</td>\n",
       "    </tr>\n",
       "    <tr>\n",
       "      <th>2</th>\n",
       "      <td>A</td>\n",
       "      <td>NS</td>\n",
       "      <td>80.9</td>\n",
       "    </tr>\n",
       "    <tr>\n",
       "      <th>3</th>\n",
       "      <td>B</td>\n",
       "      <td>MS</td>\n",
       "      <td>78.7</td>\n",
       "    </tr>\n",
       "    <tr>\n",
       "      <th>4</th>\n",
       "      <td>B</td>\n",
       "      <td>AS</td>\n",
       "      <td>75.4</td>\n",
       "    </tr>\n",
       "  </tbody>\n",
       "</table>\n",
       "</div>"
      ],
      "text/plain": [
       "  Machine Shift  Tensile_Strength\n",
       "0       A    MS              68.7\n",
       "1       A    AS              75.4\n",
       "2       A    NS              80.9\n",
       "3       B    MS              78.7\n",
       "4       B    AS              75.4"
      ]
     },
     "execution_count": 74,
     "metadata": {},
     "output_type": "execute_result"
    }
   ],
   "source": [
    "# read the excel file containing data\n",
    "df_machine_shift = pd.read_excel('2_way_ANOVA.xlsx')\n",
    "\n",
    "# print the first five observations\n",
    "df_machine_shift.head()"
   ]
  },
  {
   "cell_type": "markdown",
   "metadata": {},
   "source": [
    "Let us check the normality of the tensile strength due to all machines and shifts."
   ]
  },
  {
   "cell_type": "code",
   "execution_count": 75,
   "metadata": {},
   "outputs": [
    {
     "name": "stdout",
     "output_type": "stream",
     "text": [
      "p-value: 0.059956591576337814\n"
     ]
    }
   ],
   "source": [
    "# perform Shapiro-Wilk test to test the normality\n",
    "# shapiro() returns a tuple having the values of test statistics and the corresponding p-value\n",
    "# pass the total marks of students \n",
    "stat, p_value = stats.shapiro(df_machine_shift['Tensile_Strength'])\n",
    "\n",
    "# print the p-value\n",
    "print('p-value:', p_value)"
   ]
  },
  {
   "cell_type": "markdown",
   "metadata": {},
   "source": [
    "From the above result, we can see that the p-value is greater than 0.05, thus we can say that the tensile strength due to all the machines and shifts is normally distributed. Thus the assumption of normality is satisfied."
   ]
  },
  {
   "cell_type": "code",
   "execution_count": 76,
   "metadata": {},
   "outputs": [
    {
     "name": "stdout",
     "output_type": "stream",
     "text": [
      "t: 4\n",
      "b: 3\n",
      "N: 12\n"
     ]
    }
   ],
   "source": [
    "# number of machines (treatments)\n",
    "t = df_machine_shift['Machine'].nunique()\n",
    "print('t:', t)\n",
    "\n",
    "# number of shifts (blocks)\n",
    "b = df_machine_shift['Shift'].nunique()\n",
    "print('b:', b)\n",
    "\n",
    "# total number of observations\n",
    "N = len(df_machine_shift)\n",
    "print('N:', N)"
   ]
  },
  {
   "cell_type": "markdown",
   "metadata": {},
   "source": [
    "For ⍺ = 0.05 and degrees of freedom for treatment $df_{Tr}$ (= t-1, (t-1)(b-1)) = (3, 6), calculate the critical value."
   ]
  },
  {
   "cell_type": "code",
   "execution_count": 77,
   "metadata": {
    "scrolled": true
   },
   "outputs": [
    {
     "name": "stdout",
     "output_type": "stream",
     "text": [
      "Critical value for F-test: 4.7571\n"
     ]
    }
   ],
   "source": [
    "# calculate the F-value for 95% of confidence level\n",
    "# use 'stats.f.isf()' to find the F-value corresponding to the upper tail probability 'q'\n",
    "# pass the value of 'alpha' to the parameter 'q', here alpha = 0.05\n",
    "# pass the degrees of freedom (= 3) to the parameter 'dfn' \n",
    "# pass the degrees of freedom (= 6) to the parameter 'dfd' \n",
    "# use 'round()' to round-off the value to 4 digits\n",
    "f = np.abs(round(stats.f.isf(q = 0.05, dfn = 3, dfd = 6), 4))\n",
    "\n",
    "print('Critical value for F-test:', f)"
   ]
  },
  {
   "cell_type": "markdown",
   "metadata": {},
   "source": [
    "i.e. if the test statistic value for treatment (i.e. machine) is greater than 4.7571 then we reject the null hypothesis for treatments."
   ]
  },
  {
   "cell_type": "markdown",
   "metadata": {},
   "source": [
    "For ⍺ = 0.05 and degrees of freedom for block $df_{B}$ (= b-1, (t-1)(b-1)) = (2, 6), calculate the critical value."
   ]
  },
  {
   "cell_type": "code",
   "execution_count": 78,
   "metadata": {},
   "outputs": [
    {
     "name": "stdout",
     "output_type": "stream",
     "text": [
      "Critical value for F-test: 5.1433\n"
     ]
    }
   ],
   "source": [
    "# calculate the F-value for 95% of confidence level\n",
    "# use 'stats.f.isf()' to find the F-value corresponding to the upper tail probability 'q'\n",
    "# pass the value of 'alpha' to the parameter 'q', here alpha = 0.05\n",
    "# pass the degrees of freedom (= 2) to the parameter 'dfn' \n",
    "# pass the degrees of freedom (= 6) to the parameter 'dfd' \n",
    "# use 'round()' to round-off the value to 4 digits\n",
    "f = np.abs(round(stats.f.isf(q = 0.05, dfn = 2, dfd = 6), 4))\n",
    "\n",
    "print('Critical value for F-test:', f)"
   ]
  },
  {
   "cell_type": "markdown",
   "metadata": {},
   "source": [
    "i.e. if the test statistic value for the block (i.e. shift) is greater than 5.1433 then we reject the null hypothesis for blocks."
   ]
  },
  {
   "cell_type": "code",
   "execution_count": 79,
   "metadata": {
    "scrolled": true
   },
   "outputs": [
    {
     "data": {
      "text/html": [
       "<div>\n",
       "<style scoped>\n",
       "    .dataframe tbody tr th:only-of-type {\n",
       "        vertical-align: middle;\n",
       "    }\n",
       "\n",
       "    .dataframe tbody tr th {\n",
       "        vertical-align: top;\n",
       "    }\n",
       "\n",
       "    .dataframe thead th {\n",
       "        text-align: right;\n",
       "    }\n",
       "</style>\n",
       "<table border=\"1\" class=\"dataframe\">\n",
       "  <thead>\n",
       "    <tr style=\"text-align: right;\">\n",
       "      <th></th>\n",
       "      <th>sum_sq</th>\n",
       "      <th>df</th>\n",
       "      <th>F</th>\n",
       "      <th>PR(&gt;F)</th>\n",
       "    </tr>\n",
       "  </thead>\n",
       "  <tbody>\n",
       "    <tr>\n",
       "      <th>Q(\"Machine\")</th>\n",
       "      <td>1414.646667</td>\n",
       "      <td>3.0</td>\n",
       "      <td>60.052922</td>\n",
       "      <td>0.000072</td>\n",
       "    </tr>\n",
       "    <tr>\n",
       "      <th>Q(\"Shift\")</th>\n",
       "      <td>49.806667</td>\n",
       "      <td>2.0</td>\n",
       "      <td>3.171501</td>\n",
       "      <td>0.114866</td>\n",
       "    </tr>\n",
       "    <tr>\n",
       "      <th>Residual</th>\n",
       "      <td>47.113333</td>\n",
       "      <td>6.0</td>\n",
       "      <td>NaN</td>\n",
       "      <td>NaN</td>\n",
       "    </tr>\n",
       "  </tbody>\n",
       "</table>\n",
       "</div>"
      ],
      "text/plain": [
       "                   sum_sq   df          F    PR(>F)\n",
       "Q(\"Machine\")  1414.646667  3.0  60.052922  0.000072\n",
       "Q(\"Shift\")      49.806667  2.0   3.171501  0.114866\n",
       "Residual        47.113333  6.0        NaN       NaN"
      ]
     },
     "execution_count": 79,
     "metadata": {},
     "output_type": "execute_result"
    }
   ],
   "source": [
    "# perform two-way ANOVA\n",
    "\n",
    "# fit an ols model on the dataframe \n",
    "# use 'Q()' to quote the variable name \n",
    "# use 'fit()' to fit the linear model\n",
    "test = ols('Tensile_Strength ~ Q(\"Machine\") + Q(\"Shift\")', df_machine_shift).fit()\n",
    "\n",
    "# create table for 2-way ANOVA test\n",
    "# pass the linear model 'test'\n",
    "# 'typ = 2' performs two-way ANOVA\n",
    "anova_2 = anova_lm(test, typ = 2)\n",
    "\n",
    "# print the table\n",
    "anova_2"
   ]
  },
  {
   "cell_type": "markdown",
   "metadata": {},
   "source": [
    "The above output shows that the test statistic for treatments (i.e. machines) is greater than 4.7571 and the p-value is less than 0.05. Thus we reject the null hypothesis for treatments and conclude that the average tensile strength due to at least one machine is different.\n",
    "\n",
    "The test statistic for blocks (i.e. shift) is less than 5.1433 and the p-value is greater than 0.05. Thus we fail to reject (i.e. accept) the null hypothesis for blocks and conclude that the average tensile strength due to all the shifts is the same."
   ]
  }
 ],
 "metadata": {
  "kernelspec": {
   "display_name": "Python 3",
   "language": "python",
   "name": "python3"
  },
  "language_info": {
   "codemirror_mode": {
    "name": "ipython",
    "version": 3
   },
   "file_extension": ".py",
   "mimetype": "text/x-python",
   "name": "python",
   "nbconvert_exporter": "python",
   "pygments_lexer": "ipython3",
   "version": "3.8.3"
  }
 },
 "nbformat": 4,
 "nbformat_minor": 2
}

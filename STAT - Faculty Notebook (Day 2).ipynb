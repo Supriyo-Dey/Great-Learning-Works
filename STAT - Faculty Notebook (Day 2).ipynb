{
 "cells": [
  {
   "cell_type": "markdown",
   "metadata": {},
   "source": [
    "<table align=\"left\" width=100%>\n",
    "    <tr>\n",
    "        <td width=\"20%\">\n",
    "            <img src=\"faculty.png\">\n",
    "        </td>\n",
    "        <td>\n",
    "            <div align=\"center\">\n",
    "                <font color=\"#21618C\" size=8px>\n",
    "                  <b> Faculty Notebook <br> (Day 2) </b>\n",
    "                </font>\n",
    "            </div>\n",
    "        </td>\n",
    "    </tr>\n",
    "</table>"
   ]
  },
  {
   "cell_type": "markdown",
   "metadata": {},
   "source": [
    "## Table of Content\n",
    "\n",
    "1. **[Import Libraries](#lib)**\n",
    "2. **[Parameter Estimation](#est)**\n",
    "    - 2.1 - **[Point Estimation](#pt)**\n",
    "        - 2.1.1 - **[Sampling Error](#err)**\n",
    "    - 2.2 - **[Interval Estimation for Mean](#int)**\n",
    "        - 2.2.1 - **[Large Sample Size](#large)**   \n",
    "        - 2.2.2 - **[Small Sample Size](#small)**\n",
    "    - 2.3 - **[Interval Estimation for Proportion](#prop)**\n",
    "3. **[Test of Hypothesis](#defn)**\n",
    "    - 3.1 - **[Types of Hypothesis](#types)**\n",
    "4. **[Types of Test](#test_type)**\n",
    "    - 4.1 - **[Two Tailed Test](#2tailed)**\n",
    "    - 4.2 - **[One Tailed Test](#1tailed)**\n",
    "5. **[Hypothesis Tests with Z Statistic](#eg)**\n",
    "6. **[Error](#error)**\n",
    "    - 6.1 - **[Power of Hypothesis Test](#power)**"
   ]
  },
  {
   "cell_type": "markdown",
   "metadata": {},
   "source": [
    "<a id=\"lib\"></a>\n",
    "# 1. Import Libraries"
   ]
  },
  {
   "cell_type": "markdown",
   "metadata": {},
   "source": [
    "**Let us import the required libraries.**"
   ]
  },
  {
   "cell_type": "code",
   "execution_count": 1,
   "metadata": {},
   "outputs": [],
   "source": [
    "# import 'pandas' \n",
    "import pandas as pd \n",
    "\n",
    "# import 'numpy' \n",
    "import numpy as np\n",
    "\n",
    "# import subpackage of matplotlib\n",
    "import matplotlib.pyplot as plt\n",
    "\n",
    "# import 'seaborn'\n",
    "import seaborn as sns\n",
    "\n",
    "# to suppress warnings \n",
    "from warnings import filterwarnings\n",
    "filterwarnings('ignore')\n",
    "\n",
    "# import 'random' to generate random sample\n",
    "import random\n",
    "\n",
    "# import statistics to perform statistical computation  \n",
    "import statistics\n",
    "\n",
    "# import 'stats' package from scipy library\n",
    "from scipy import stats\n",
    "\n",
    "# import a library to perform Z-test\n",
    "from statsmodels.stats import weightstats as stests\n",
    "\n",
    "# to test the normality \n",
    "from scipy.stats import shapiro\n",
    "\n",
    "# import the function to calculate the power of test\n",
    "from statsmodels.stats import power"
   ]
  },
  {
   "cell_type": "code",
   "execution_count": 2,
   "metadata": {},
   "outputs": [],
   "source": [
    "# set the plot size using 'rcParams'\n",
    "# once the plot size is set using 'rcParams', it sets the size of all the forthcoming plots in the file\n",
    "# pass width and height in inches to 'figure.figsize' \n",
    "plt.rcParams['figure.figsize'] = [15,8]"
   ]
  },
  {
   "cell_type": "markdown",
   "metadata": {},
   "source": [
    "<a id=\"est\"></a>\n",
    "# 2. Parameter Estimation"
   ]
  },
  {
   "cell_type": "markdown",
   "metadata": {},
   "source": [
    "The value associated with the characteristic of the population is known as a `parameter` and the characteristic of the sample is described by a `statistic`.\n",
    "Usually, the population parameters are not known in most of the real-life problems. Thus, we consider a subset of the population (sample) to estimate the population parameter using a sample statistic.\n",
    "\n",
    "`Point estimation` and `Interval estimation` are two of the methods to estimate the population parameter."
   ]
  },
  {
   "cell_type": "markdown",
   "metadata": {},
   "source": [
    "<a id=\"pt\"></a>\n",
    "## 2.1 Point Estimation"
   ]
  },
  {
   "cell_type": "markdown",
   "metadata": {},
   "source": [
    "This method considers a single value (sample statistic) as the population parameter. \n",
    "\n",
    "Let $X_{1}, X_{2}, X_{3},..., X_{n}$ be the random sample drawn from a population with mean $\\mu$ and standard deviation $\\sigma$. <br>\n",
    "The point estimation method estimates the population mean, $\\mu = \\overline{X}$, where $\\overline{X}$ is the sample mean and population standard deviation, $\\sigma = s$, where $s$ is the standard deviation of the sample (`Standard Error`)."
   ]
  },
  {
   "cell_type": "markdown",
   "metadata": {},
   "source": [
    "### Example:\n",
    "\n",
    "#### 1. Consider the data of grade points for 35 students in a data science course. Select grades of 20 students randomly from the data and find the point estimate for the population mean.\n",
    "\n",
    "     Grades: [59.1, 65.0, 75.8, 79.2, 95.0, 99.8, 89.1, 65.2, 41.9, 55.2, 94.8, 84.1, 83.2, 74.0, 75.5, 76.2, 79.1, 80.1, \n",
    "              92.1, 74.2, 59.2, 64.0, 75, 78.2, 95.6, 97.8, 89.5, 64.2, 41.8, 57.2, 85, 91.4, 81.8, 74.6, 90]"
   ]
  },
  {
   "cell_type": "code",
   "execution_count": 3,
   "metadata": {},
   "outputs": [
    {
     "name": "stdout",
     "output_type": "stream",
     "text": [
      "The point estimate for the population mean is 75.32500000000002\n"
     ]
    }
   ],
   "source": [
    "# given population\n",
    "grades = [59.1, 65.0, 75.8, 79.2, 95.0, 99.8, 89.1, 65.2, 41.9, 55.2, 94.8, 84.1, 83.2, 74.0, 75.5, 76.2, 79.1, 80.1, \n",
    "          92.1, 74.2, 59.2, 64.0, 75, 78.2, 95.6, 97.8, 89.5, 64.2, 41.8, 57.2, 85, 91.4, 81.8, 74.6, 90]\n",
    "\n",
    "# draw a sample for grades of 18 students without replacement\n",
    "# set a random seed to get the same sample each time you run the code\n",
    "random.seed(1)\n",
    "\n",
    "# pass the data to the parameter, 'population'\n",
    "# pass the required sample size to the parameter, 'k' \n",
    "samp_grades = random.sample(population = grades, k = 20)\n",
    "\n",
    "# the point estimate for the population mean is equal to 'sample mean'\n",
    "# calculate the sample mean\n",
    "samp_mean = np.mean(samp_grades)\n",
    "\n",
    "print('The point estimate for the population mean is', samp_mean)"
   ]
  },
  {
   "cell_type": "markdown",
   "metadata": {},
   "source": [
    "Let us visualize the point estimate of the population mean."
   ]
  },
  {
   "cell_type": "code",
   "execution_count": 4,
   "metadata": {},
   "outputs": [
    {
     "data": {
      "image/png": "[encoded data removed]",
      "text/plain": [
       "<Figure size 1080x576 with 1 Axes>"
      ]
     },
     "metadata": {
      "needs_background": "light"
     },
     "output_type": "display_data"
    }
   ],
   "source": [
    "# create dataframes using dictionaries to store population\n",
    "df_pop = pd.DataFrame(dict(Observation = grades, Category = 'Population'))\n",
    "\n",
    "# use for loop and if condition to assign the category 'Sample' to all the points in the sample\n",
    "for i in df_pop['Observation']:\n",
    "    if i in samp_grades:\n",
    "        df_pop['Category'][df_pop.Observation == i] = 'Sample'\n",
    "\n",
    "# plot the scatter plot of population\n",
    "# pass the indices of population to the parameter, 'x'\n",
    "# pass the observations to the parameter, 'y'\n",
    "# pass the label for the representation of population points to the parameter, 'label'\n",
    "# pass the variable 'Category' in the dataframe to the parameter, 'hue'\n",
    "# pass hte required order of the levels in the 'hue' variable to the parameter, 'hue_order'\n",
    "sns.scatterplot(x = np.arange(0, len(grades)), y = grades, hue = df_pop['Category'], hue_order = ['Population', 'Sample'])\n",
    "\n",
    "# plot a horizontal line at sample mean \n",
    "x, y = [0, 34], [samp_mean, samp_mean]\n",
    "plt.plot(x, y, color = 'orange', label = 'Sample Mean')\n",
    "\n",
    "# set the limit for x-axis\n",
    "plt.xlim(-1, 35)\n",
    "\n",
    "# add legend to the plot\n",
    "# pass the required position of legend to the parameter, 'loc'\n",
    "plt.legend(loc = 'upper left')\n",
    "\n",
    "# set plot and axes labels\n",
    "# set text size using 'fontsize'\n",
    "plt.xlabel('Observations', fontsize = 15)\n",
    "plt.ylabel('Grades', fontsize = 15)\n",
    "plt.title('Population and Sample', fontsize = 15)\n",
    "\n",
    "# display the plot\n",
    "plt.show()"
   ]
  },
  {
   "cell_type": "markdown",
   "metadata": {},
   "source": [
    "#### 2. A financial firm has created 50 portfolios. From them, a sample of 13 portfolios was selected, out of which 8 were found to be underperforming. Can you estimate the number of underperforming portfolios?"
   ]
  },
  {
   "cell_type": "code",
   "execution_count": 5,
   "metadata": {},
   "outputs": [
    {
     "name": "stdout",
     "output_type": "stream",
     "text": [
      "The number of underperforming portfolios: 31\n"
     ]
    }
   ],
   "source": [
    "# total count of portfolios\n",
    "N = 50\n",
    "\n",
    "# number of portfolios in a sample\n",
    "n = 13\n",
    "\n",
    "# number of underperforming portfolios in a sample\n",
    "x = 8\n",
    "\n",
    "# sample proportion\n",
    "p_samp = x/n\n",
    "\n",
    "# estimate the number of underperforming portfolios\n",
    "num_port = p_samp*N\n",
    "\n",
    "# round the number to get an integer value\n",
    "print('The number of underperforming portfolios:', round(num_port))"
   ]
  },
  {
   "cell_type": "markdown",
   "metadata": {},
   "source": [
    "<a id=\"err\"></a>\n",
    "### 2.1.1 Sampling Error"
   ]
  },
  {
   "cell_type": "markdown",
   "metadata": {},
   "source": [
    "Sampling error is considered as the absolute difference between the sample statistic used to estimate the parameter and the corresponding population parameter. Since the entire population is not considered as the sample, the values of mean, median, quantiles, and so on calculated on sample differ from the actual population values. \n",
    "\n",
    "One can reduce the sampling error either by increasing the sample size or determining the optimal sample size using various methods."
   ]
  },
  {
   "cell_type": "markdown",
   "metadata": {},
   "source": [
    "### Example:\n",
    "\n",
    "#### 1. Consider the data for the number of ice-creams sold per day. An ice-cream vendor collected this data for 90 days and then a sample is drawn (without replacement) containing ice-creams sold for 25 days. \n",
    "\n",
    "data = [21, 93, 62, 76, 73, 20, 56, 95, 41, 36, 38, 13, 80, 88, 34, 18, 40, 11, \n",
    "        25, 29, 61, 23, 82, 10, 92, 69, 60, 87, 14, 91, 94, 49, 57, 83, 96, 55, \n",
    "        79, 52, 59, 39, 58, 17, 19, 98, 15, 54, 48, 46, 72, 45, 65, 28, 37, 30, \n",
    "        68, 75, 16, 33, 31, 99, 22, 51, 27, 67, 85, 47, 44, 77, 64, 97, 84, 42, \n",
    "        90, 70, 74, 89, 32, 26, 24, 12, 81, 53, 50, 35, 71, 63, 43, 86, 78, 66]\n",
    "        \n",
    "sample = [10, 22, 47, 66, 11, 57, 77, 98, 31, 63, 74, 84, 50, 96, 88, 92, 70, 54, 65, 44, 16, 72, 20, 90, 43]\n",
    "\n",
    "Comupte the sampling error for mean."
   ]
  },
  {
   "cell_type": "code",
   "execution_count": 6,
   "metadata": {},
   "outputs": [
    {
     "name": "stdout",
     "output_type": "stream",
     "text": [
      "Sampling error for mean: 3.1000000000000014\n"
     ]
    }
   ],
   "source": [
    "# given population\n",
    "data = [21, 93, 62, 76, 73, 20, 56, 95, 41, 36, 38, 13, 80, 88, 34, 18, 40, 11, 25, 29, 61, 23, 82, 10, 92, 69, 60, 87, 14, 91,\n",
    "        94, 49, 57, 83, 96, 55, 79, 52, 59, 39, 58, 17, 19, 98, 15, 54, 48, 46, 72, 45, 65, 28, 37, 30, 68, 75, 16, 33, 31, 99, \n",
    "        22, 51, 27, 67, 85, 47, 44, 77, 64, 97, 84, 42, 90, 70, 74, 89, 32, 26, 24, 12, 81, 53, 50, 35, 71, 63, 43, 86, 78, 66]\n",
    "\n",
    "# given sample\n",
    "sample = [10, 22, 47, 66, 11, 57, 77, 98, 31, 63, 74, 84, 50, 96, 88, 92, 70, 54, 65, 44, 16, 72, 20, 90, 43]\n",
    "\n",
    "# calculate the point estimate for the population mean\n",
    "samp_mean = np.mean(sample)\n",
    "\n",
    "# population mean\n",
    "pop_mean = np.mean(data)\n",
    "\n",
    "# calculate the sampling error for mean\n",
    "print(\"Sampling error for mean:\", np.abs(samp_mean - pop_mean))"
   ]
  },
  {
   "cell_type": "markdown",
   "metadata": {},
   "source": [
    "Let us visualize the sampling error for mean."
   ]
  },
  {
   "cell_type": "code",
   "execution_count": 7,
   "metadata": {},
   "outputs": [
    {
     "data": {
      "image/png": "[encoded data removed]",
      "text/plain": [
       "<Figure size 1080x576 with 1 Axes>"
      ]
     },
     "metadata": {
      "needs_background": "light"
     },
     "output_type": "display_data"
    }
   ],
   "source": [
    "# create dataframes using dictionaries to store population\n",
    "df_pop = pd.DataFrame(dict(Observation = data, Category = 'Population'))\n",
    "\n",
    "# use for loop and if condition to assign the category 'Sample' to all the points in the sample\n",
    "for i in df_pop['Observation']:\n",
    "    if i in sample:\n",
    "        df_pop['Category'][df_pop.Observation == i] = 'Sample'\n",
    "\n",
    "# plot the scatter plot of population\n",
    "# pass the indices of population to the parameter, 'x'\n",
    "# pass the observations to the parameter, 'y'\n",
    "# pass the label for the representation of population points to the parameter, 'label'\n",
    "# pass the variable 'Category' in the dataframe to the parameter, 'hue'\n",
    "# pass hte required order of the levels in the 'hue' variable to the parameter, 'hue_order'\n",
    "ax = sns.scatterplot(x = np.arange(0, len(data)), y = data, hue = df_pop['Category'], hue_order = ['Population', 'Sample'])\n",
    "\n",
    "# plot a horizontal line at population mean \n",
    "x, y = [0, 89], [pop_mean, pop_mean]\n",
    "plt.plot(x, y, color = 'blue', label = 'Population Mean')\n",
    "\n",
    "# plot a horizontal line at sample mean \n",
    "x, y = [0, 89], [samp_mean, samp_mean]\n",
    "plt.plot(x, y, color = 'orange', label = 'Sample Mean')\n",
    "\n",
    "# use 'annonate' function to draw an arrow between points xy and xytext\n",
    "# 's' is a argument to write text\n",
    "# we can change the facecolor and arrowstyle; this is only for representation purpose\n",
    "plt.annotate(s = 'Sampling Error for Mean', xy = (18, 55), xytext = (10, 65), \n",
    "             arrowprops = dict(facecolor = 'black', arrowstyle = 'simple'))\n",
    "\n",
    "# set the limit for x-axis\n",
    "plt.xlim(-1, 90)\n",
    "\n",
    "# add legend to the plot\n",
    "plt.legend()\n",
    "\n",
    "# set plot and axes labels\n",
    "# set text size using 'fontsize'\n",
    "plt.xlabel('Observations', fontsize = 15)\n",
    "plt.ylabel('Number of Ice-creams Sold', fontsize = 15)\n",
    "plt.title('Sampling Error for Mean', fontsize = 15)\n",
    "\n",
    "# display the plot\n",
    "plt.show()"
   ]
  },
  {
   "cell_type": "markdown",
   "metadata": {},
   "source": [
    "<a id=\"int\"></a>\n",
    "## 2.2 Interval Estimation for Mean"
   ]
  },
  {
   "cell_type": "markdown",
   "metadata": {},
   "source": [
    "This method considers the range of values in which the population parameter is likely to lie. The confidence interval is an interval that describes the range of values in which the parameter lies with a specific probability. It is given by the formula,<br> <p style='text-indent:20em'> `conf_interval = sample statistic ± margin of error`</p>\n",
    "\n",
    "The uncertainty of an estimate is described by the `confidence level` which is used to calculate the margin of error. "
   ]
  },
  {
   "cell_type": "markdown",
   "metadata": {},
   "source": [
    "<a id=\"large\"></a>\n",
    "### 2.2.1 Large Sample Size"
   ]
  },
  {
   "cell_type": "markdown",
   "metadata": {},
   "source": [
    "Consider a population with mean $\\mu$ and standard deviation $\\sigma$. Let us take a sample of `n` observations from the population such that, $n \\geq 30$. The central limit theorem states that the sampling distribution of mean follows a normal distribution with mean $\\mu$ and standard deviation $\\frac{\\sigma}{\\sqrt(n)}$."
   ]
  },
  {
   "cell_type": "markdown",
   "metadata": {},
   "source": [
    "The confidence interval for the population mean with $100(1-\\alpha)$% confidence level is given as: $\\overline{X} \\pm Z_{\\frac{\\alpha}{2}}\\frac{\\sigma}{\\sqrt{n}}$\n",
    "\n",
    "Where, <br>\n",
    "$\\overline{X}$: Sample mean<br>\n",
    "$\\alpha$: Level of significance<br>\n",
    "$\\sigma$: Population standard deviation<br>\n",
    "$n$: Sample size\n",
    "\n",
    "The quantity $\\frac{\\sigma}{\\sqrt{n}}$ is the standard error of the mean. And the margin of error is given by $Z_{\\frac{\\alpha}{2}}\\frac{\\sigma}{\\sqrt{n}}$.\n",
    "\n",
    "If we know the expected margin of error (ME), then we can calculate the required sample size (n) using the formula: $n = (Z_{\\frac{\\alpha}{2}})^{2}\\frac{\\sigma^{2}}{ME^{2}}$.\n",
    " \n",
    "The above equation is valid for any population provided the sample size is sufficiently large (usually $n \\geq 30$). Relace $\\sigma$ by the standard deviation of the sample ($s$) if the population standard deviation is not known.\n",
    "\n",
    "The value of $Z_{\\frac{\\alpha}{2}}$ for different $\\alpha$ values can be obtained using the `stats.norm.isf()` from the scipy library. "
   ]
  },
  {
   "cell_type": "code",
   "execution_count": 8,
   "metadata": {
    "scrolled": true
   },
   "outputs": [
    {
     "data": {
      "text/html": [
       "<div>\n",
       "<style scoped>\n",
       "    .dataframe tbody tr th:only-of-type {\n",
       "        vertical-align: middle;\n",
       "    }\n",
       "\n",
       "    .dataframe tbody tr th {\n",
       "        vertical-align: top;\n",
       "    }\n",
       "\n",
       "    .dataframe thead th {\n",
       "        text-align: right;\n",
       "    }\n",
       "</style>\n",
       "<table border=\"1\" class=\"dataframe\">\n",
       "  <thead>\n",
       "    <tr style=\"text-align: right;\">\n",
       "      <th></th>\n",
       "      <th>alpha</th>\n",
       "      <th>Z_alpha_by_2</th>\n",
       "    </tr>\n",
       "  </thead>\n",
       "  <tbody>\n",
       "    <tr>\n",
       "      <th>0</th>\n",
       "      <td>0.10</td>\n",
       "      <td>1.6449</td>\n",
       "    </tr>\n",
       "    <tr>\n",
       "      <th>1</th>\n",
       "      <td>0.05</td>\n",
       "      <td>1.9600</td>\n",
       "    </tr>\n",
       "    <tr>\n",
       "      <th>2</th>\n",
       "      <td>0.02</td>\n",
       "      <td>2.3263</td>\n",
       "    </tr>\n",
       "    <tr>\n",
       "      <th>3</th>\n",
       "      <td>0.01</td>\n",
       "      <td>2.5758</td>\n",
       "    </tr>\n",
       "  </tbody>\n",
       "</table>\n",
       "</div>"
      ],
      "text/plain": [
       "   alpha  Z_alpha_by_2\n",
       "0   0.10        1.6449\n",
       "1   0.05        1.9600\n",
       "2   0.02        2.3263\n",
       "3   0.01        2.5758"
      ]
     },
     "execution_count": 8,
     "metadata": {},
     "output_type": "execute_result"
    }
   ],
   "source": [
    "# let us find the Z-values for different alpha values\n",
    "\n",
    "# create an empty dataframe to store the alpha and corresponding Z-value\n",
    "df_Z = pd.DataFrame()\n",
    "\n",
    "# create a dictionary of different alpha values\n",
    "alpha =  [0.1, 0.05, 0.02, 0.01] \n",
    "\n",
    "# use for loop to calculate the value for each alpha\n",
    "for i in range(len(alpha)):\n",
    "    alpha_by_2 = alpha[i] / 2\n",
    "    \n",
    "    # use 'stats.norm.isf()' to find the Z-value corresponding to the upper tail probability 'q'\n",
    "    # pass the value of 'alpha_by_2' to the parameter 'q'\n",
    "    # use 'round()' to round-off the value to 4 digits\n",
    "    Z = np.abs(round(stats.norm.isf(q = alpha_by_2), 4))\n",
    "    \n",
    "    # create a dataframe using dictionary to store the alpha and corresponding Z-value\n",
    "    # set the loop iterator 'i' as the index of the dataframe\n",
    "    row =  pd.DataFrame({\"alpha\": alpha[i], \"Z_alpha_by_2\" : Z}, index = [i])\n",
    "    \n",
    "    # append the row to the dataframe 'df_Z'\n",
    "    df_Z = df_Z.append(row)\n",
    "\n",
    "# print the final dataframe\n",
    "df_Z"
   ]
  },
  {
   "cell_type": "markdown",
   "metadata": {},
   "source": [
    "To calculate the confidence interval with 95% confidence, use the Z-value corresponding to `alpha = 0.05`. "
   ]
  },
  {
   "cell_type": "markdown",
   "metadata": {},
   "source": [
    "### Example:\n",
    "\n",
    "#### 1. A random sample of weight (in kg.) for 35 diabetic patients is drawn from the population with a standard deviation of 8 kg. Find the 90% confidence interval for the population mean.\n",
    "\n",
    "    Weight: [59.1, 65.0, 75.8, 79.2, 95.0, 99.8, 89.1, 65.3, 41.9, 55.2, 94.8, 84.1, 83.2, 74.0, 75.5, 76.2, 79.1, 80.1, \n",
    "             92.1, 74.2, 59.2, 64.0, 75, 78.2, 95.6, 97.8, 89.5, 64.2, 41.8, 57.2, 85, 91.4, 81.8, 74.6, 90]"
   ]
  },
  {
   "cell_type": "code",
   "execution_count": 9,
   "metadata": {},
   "outputs": [
    {
     "name": "stdout",
     "output_type": "stream",
     "text": [
      "The 90% confidence interval of population mean is [74.46 78.91]\n"
     ]
    }
   ],
   "source": [
    "# given sample\n",
    "weight = [59.1, 65.0, 75.8, 79.2, 95.0, 99.8, 89.1, 65.3, 41.9, 55.2, 94.8, 84.1, 83.2, 74.0, 75.5, 76.2, 79.1, 80.1, \n",
    "          92.1, 74.2, 59.2, 64.0, 75, 78.2, 95.6, 97.8, 89.5, 64.2, 41.8, 57.2, 85, 91.4, 81.8, 74.6, 90]\n",
    "\n",
    "# number of observations in sample\n",
    "n = len(weight)\n",
    "\n",
    "# given population standard deviation\n",
    "std_pop = 8\n",
    "\n",
    "# calculate the 90% confidence interval\n",
    "# pass the sample mean to the parameter, 'loc'\n",
    "# pass the scaling factor (std_pop / n^(1/2)) to the parameter, 'scale'\n",
    "interval = stats.norm.interval(0.90, loc = np.mean(weight), scale = std_pop / np.sqrt(n))\n",
    "\n",
    "# print the 90% confidence interval\n",
    "# use 'round()' to round-off the value to 2 digits\n",
    "print('The 90% confidence interval of population mean is', np.round(interval,2))"
   ]
  },
  {
   "cell_type": "markdown",
   "metadata": {},
   "source": [
    "#### Let us calculate the confidence interval without using the built-in function."
   ]
  },
  {
   "cell_type": "code",
   "execution_count": 10,
   "metadata": {},
   "outputs": [
    {
     "name": "stdout",
     "output_type": "stream",
     "text": [
      "90% confidence interval for population mean is (74.46, 78.91)\n"
     ]
    }
   ],
   "source": [
    "# given sample\n",
    "weight = [59.1, 65.0, 75.8, 79.2, 95.0, 99.8, 89.1, 65.2, 41.9, 55.2, 94.8, 84.1, 83.2, 74.0, 75.5, 76.2, 79.1, 80.1, \n",
    "          92.1, 74.2, 59.2, 64.0, 75, 78.2, 95.6, 97.8, 89.5, 64.2, 41.8, 57.2, 85, 91.4, 81.8, 74.6, 90]\n",
    "\n",
    "# calculate sample mean\n",
    "avg  = np.mean(weight) \n",
    "\n",
    "# given population standard deviation \n",
    "std_pop = 8\n",
    "\n",
    "# number of observations in sample\n",
    "n = len(weight)\n",
    "\n",
    "# Z-value for 90% confidence level                \n",
    "z_alpha_by_2 = 1.6449\n",
    "\n",
    "# calculate the lower and upper bound of interval using the formula\n",
    "lower_int = avg - (z_alpha_by_2 * (std_pop / np.sqrt(n)))\n",
    "upper_int = avg + (z_alpha_by_2 * (std_pop / np.sqrt(n)))\n",
    "\n",
    "# print the 90% confidence interval\n",
    "# use 'round()' to round-off the value to 2 digits\n",
    "print('90% confidence interval for population mean is', (round(lower_int,2), round(upper_int,2)))"
   ]
  },
  {
   "cell_type": "markdown",
   "metadata": {},
   "source": [
    "Let us visualize the confidence interval for the population mean."
   ]
  },
  {
   "cell_type": "code",
   "execution_count": 11,
   "metadata": {},
   "outputs": [
    {
     "data": {
      "image/png": "[encoded data removed]",
      "text/plain": [
       "<Figure size 1080x576 with 1 Axes>"
      ]
     },
     "metadata": {
      "needs_background": "light"
     },
     "output_type": "display_data"
    },
    {
     "data": {
      "image/png": "[encoded data removed]",
      "text/plain": [
       "<Figure size 1080x576 with 1 Axes>"
      ]
     },
     "metadata": {
      "needs_background": "light"
     },
     "output_type": "display_data"
    }
   ],
   "source": [
    "# given sample\n",
    "weight = [59.1, 65.0, 75.8, 79.2, 95.0, 99.8, 89.1, 65.2, 41.9, 55.2, 94.8, 84.1, 83.2, 74.0, 75.5, 76.2, 79.1, 80.1, \n",
    "          92.1, 74.2, 59.2, 64.0, 75, 78.2, 95.6, 97.8, 89.5, 64.2, 41.8, 57.2, 85, 91.4, 81.8, 74.6, 90]\n",
    "\n",
    "# number of observations in sample\n",
    "n = len(weight)\n",
    "\n",
    "# calculate sample mean\n",
    "samp_mean = np.mean(weight)\n",
    "\n",
    "# calculate sample standard deviaiton\n",
    "samp_sd = np.std(weight)\n",
    "\n",
    "# given population standard deviation \n",
    "std_pop = 8\n",
    "\n",
    "# plot a first subplot\n",
    "plt.subplot(2, 1, 1)\n",
    "\n",
    "# consider a random variable 'X' that follows a normal distribution with sample mean and sample standard deviation  \n",
    "# pass the sample mean to the parameter, 'loc'\n",
    "# pass the 'std_pop/np.sqrt(n)' to the parameter, 'scale' \n",
    "# pass the required number of observations to the parameter, 'size'\n",
    "# set 'random_state' to obtain the same observations every time you run the code \n",
    "X = stats.norm.rvs(loc = samp_mean, scale = std_pop/np.sqrt(n), size = 5000000, random_state = 28)\n",
    "\n",
    "# plot the distribution of X\n",
    "# pass the data to the parameter, 'a'\n",
    "# 'hist=False' does not return the histogram \n",
    "# 'cumulative=False' in 'kde_kws' does not return the cumulative kernel density estimator\n",
    "ax = sns.distplot(a = X, hist = False, kde_kws = dict(cumulative=False))\n",
    "\n",
    "# set the limit for y-axis\n",
    "plt.ylim(0, 0.3)\n",
    "\n",
    "# calculate the 90% confidence interval\n",
    "# pass the sample mean to the parameter, 'loc'\n",
    "# pass the scaling factor (std_pop / n^(1/2)) to the parameter, 'scale'\n",
    "lower_val, upper_val = stats.norm.interval(0.9, loc = samp_mean, scale = std_pop / np.sqrt(n))\n",
    "\n",
    "# plot a vertical line at lower value of confidence interval\n",
    "x, y = [lower_val, lower_val], [0, 0.09]\n",
    "plt.plot(x, y, color = 'black')\n",
    "\n",
    "# plot a vertical line at upper value of confidence interval\n",
    "x, y = [upper_val, upper_val], [0, 0.09]\n",
    "plt.plot(x, y, color = 'black')\n",
    "\n",
    "# use below code to print the values in the graph\n",
    "# 'x' and 'y' gives position of the text\n",
    "# 's' is the text \n",
    "plt.text(x = 75.8, y = 0.05, s = 'Confidence Interval')\n",
    "\n",
    "# use 'annonate' function to draw an arrow between points xy and xytext\n",
    "# 's' is a argument to write text\n",
    "# we can change the facecolor and arrowstyle; this is only for representation purpose\n",
    "plt.annotate(s = '', xy = (lower_val, 0.05), xytext = (75.7, 0.05), \n",
    "             arrowprops = dict(facecolor = 'black', arrowstyle = 'simple'))\n",
    "\n",
    "plt.annotate(s = '', xy = (upper_val, 0.05), xytext = (77.7, 0.05), \n",
    "             arrowprops = dict(facecolor = 'black', arrowstyle = 'simple'))\n",
    "\n",
    "# assign the x-axis labels\n",
    "# pass the position of labels to the parameter, 'ticks'\n",
    "# pass the required labels to the parameter, 'labels'\n",
    "plt.xticks(ticks = [samp_mean], labels = ['Mean =' + str(round(samp_mean,2))])\n",
    "\n",
    "# set plot and axes labels\n",
    "# set text size using 'fontsize'\n",
    "plt.xlabel('Weight', fontsize = 15)\n",
    "plt.ylabel('Probability', fontsize = 15)\n",
    "plt.title('90% Confidence Interval', fontsize = 15)\n",
    "\n",
    "# display the plot\n",
    "plt.show()\n",
    "\n",
    "\n",
    "# plot the second subplot\n",
    "plt.subplot(2, 1, 2)\n",
    "\n",
    "# plot the boxplot of X\n",
    "# pass the data to the parameter, 'x'\n",
    "# to plot a notched boxplot use 'notch=True'\n",
    "# to plot a horizontal boxplot use 'vert = False'\n",
    "# overwrite the median value by sample mean using the parameter 'usermedians'\n",
    "# pass a list of tuple of end points of 90% confidence interval to the parameter 'conf_intervals'\n",
    "# the notches of the boxplot will be produced at values given to the parameter 'conf_intervals'\n",
    "plt.boxplot(x = X, notch=True, vert = False, usermedians= [samp_mean], conf_intervals=[(lower_val, upper_val)])\n",
    "\n",
    "# set the limit for y-axis\n",
    "plt.ylim(0.5, 1.5)\n",
    "\n",
    "# plot a vertical line at lower value of confidence interval\n",
    "x, y = [lower_val, lower_val], [0.5, 1.5]\n",
    "plt.plot(x, y, color = 'grey')\n",
    "\n",
    "# plot a vertical line at upper value of confidence interval\n",
    "x, y = [upper_val, upper_val], [0.5, 1.5]\n",
    "plt.plot(x, y, color = 'grey')\n",
    "\n",
    "# use 'annonate' function to draw an arrow between points xy and xytext\n",
    "# 's' is a argument to write text\n",
    "# we can change the facecolor and arrowstyle; this is only for representation purpose\n",
    "plt.annotate(s = round(upper_val, 2), xy = (upper_val, 0.8), xytext = (upper_val+0.5, 0.78), \n",
    "             arrowprops = dict(facecolor = 'black', arrowstyle = 'simple'))\n",
    "\n",
    "plt.annotate(s = round(lower_val, 2), xy = (lower_val, 0.8), xytext = (lower_val-1, 0.78), \n",
    "             arrowprops = dict(facecolor = 'black', arrowstyle = 'simple'))\n",
    "\n",
    "plt.annotate(s = 'Mean = ' + str(round(samp_mean, 2)), xy = (samp_mean, 0.95), xytext = (samp_mean-0.65, 0.7), \n",
    "             arrowprops = dict(facecolor = 'black', arrowstyle = 'simple'))\n",
    "\n",
    "# set plot and axes labels\n",
    "# set text size using 'fontsize'\n",
    "plt.xlabel('Weight', fontsize = 15)\n",
    "plt.title('90% Confidence Interval', fontsize = 15)\n",
    "\n",
    "# display the plot\n",
    "plt.show()"
   ]
  },
  {
   "cell_type": "markdown",
   "metadata": {},
   "source": [
    "The shaded area represents the 90% confidence interval of the population mean."
   ]
  },
  {
   "cell_type": "markdown",
   "metadata": {},
   "source": [
    "#### 2. There are 150 apples on a tree. You randomly choose 40 apples and found that the average weight of apples is 182 grams with a standard deviation of 30 grams. Find the 95% confidence interval for the population mean."
   ]
  },
  {
   "cell_type": "code",
   "execution_count": 12,
   "metadata": {},
   "outputs": [
    {
     "name": "stdout",
     "output_type": "stream",
     "text": [
      "95% confidence interval for population mean is (172.70307451543158, 191.29692548456842)\n"
     ]
    }
   ],
   "source": [
    "# number of observations in the sample\n",
    "n = 40\n",
    "\n",
    "# sample mean \n",
    "sample_avg = 182\n",
    "\n",
    "# sample standard deviation\n",
    "sample_std = 30\n",
    "\n",
    "# calculate the 95% confidence interval\n",
    "# pass the sample mean to the parameter, 'loc'\n",
    "# pass the scaling factor (sample_std / n^(1/2)) to the parameter, 'scale'\n",
    "# as the population standard deviation is unknown, use the sample standard deviation \n",
    "interval = stats.norm.interval(0.95, loc = sample_avg, scale = sample_std/np.sqrt(n))\n",
    "\n",
    "print('95% confidence interval for population mean is', interval)"
   ]
  },
  {
   "cell_type": "markdown",
   "metadata": {},
   "source": [
    "#### 3. A movie production house needs to estimate the average monthly wage of the technical crew members. The previous data shows that the standard deviation of the wages is 190 dollars. The production team thinks that the estimation of the average wage should not exceed 54 dollars. The team has decided to take a small subset of wages for the estimation. Find a suitable number of wages to be considered to get the estimate with 90% confidence."
   ]
  },
  {
   "cell_type": "code",
   "execution_count": 13,
   "metadata": {},
   "outputs": [
    {
     "name": "stdout",
     "output_type": "stream",
     "text": [
      "Required Sample Size: 33.0\n"
     ]
    }
   ],
   "source": [
    "# calculate sample size using the margin of error\n",
    "\n",
    "# given population standard deviation\n",
    "sigma = 190\n",
    "\n",
    "# required margin of error\n",
    "ME = 54\n",
    "\n",
    "# calculate z_alpha_by_2 with alpha = 0.1\n",
    "# use 'stats.norm.isf()' to find the Z-value corresponding to the upper tail probability 'q'\n",
    "# pass the value of 'alpha/2' to the parameter 'q'\n",
    "# use 'round()' to round-off the value to 4 digits\n",
    "z_alpha_by_2 = np.abs(round(stats.norm.isf(q = 0.1/2), 4))\n",
    "\n",
    "# calculate sample size (n) \n",
    "n = ((z_alpha_by_2)**2)*(sigma**2)/(ME**2)\n",
    "\n",
    "# round-off the value of 'n' to get the integer value\n",
    "print('Required Sample Size:', round(n))"
   ]
  },
  {
   "cell_type": "markdown",
   "metadata": {},
   "source": [
    "#### 4. 100 bags of coal were tested and had an average of 35% of ash with a standard deviation of 15%. Calculate the margin of error for a 90% confidence level."
   ]
  },
  {
   "cell_type": "code",
   "execution_count": 14,
   "metadata": {},
   "outputs": [
    {
     "name": "stdout",
     "output_type": "stream",
     "text": [
      "Margin of error: 0.024673499999999998\n"
     ]
    }
   ],
   "source": [
    "# number of bags\n",
    "n = 100\n",
    "\n",
    "# standard deviaion \n",
    "std = 0.15\n",
    "\n",
    "# given confidence level\n",
    "conf_level = 0.90\n",
    "\n",
    "# calculate z_alpha_by_2 with alpha = (1-conf_level) = 0.1\n",
    "# use 'stats.norm.isf()' to find the Z-value corresponding to the upper tail probability 'q'\n",
    "# pass the value of 'alpha/2' to the parameter 'q'\n",
    "# use 'round()' to round-off the value to 4 digits\n",
    "z_alpha_by_2 = np.abs(round(stats.norm.isf(q = 0.1/2), 4))\n",
    "\n",
    "# calculate margin of error\n",
    "error = (z_alpha_by_2*std)/ np.sqrt(n)\n",
    "\n",
    "print('Margin of error:', error)"
   ]
  },
  {
   "cell_type": "markdown",
   "metadata": {},
   "source": [
    "#### 5. From a sample of 250 observations, it is found that the average income of a 27 year old Londoner is £45,000 with a sample standard deviation of £4000. Obtain the 95% confidence interval to estimate the average income."
   ]
  },
  {
   "cell_type": "code",
   "execution_count": 15,
   "metadata": {},
   "outputs": [
    {
     "name": "stdout",
     "output_type": "stream",
     "text": [
      "95% confidence interval for average income: (44504.16397415635, 45495.83602584365)\n"
     ]
    }
   ],
   "source": [
    "# number of observations in the sample\n",
    "n = 250\n",
    "\n",
    "# sample mean \n",
    "sample_avg = 45000\n",
    "\n",
    "# sample standard deviation\n",
    "sample_std = 4000\n",
    "\n",
    "# calculate the 95% confidence interval\n",
    "# pass the sample mean to the parameter, 'loc'\n",
    "# pass the scaling factor (sample_std / n^(1/2)) to the parameter, 'scale'\n",
    "# as the population standard deviation is unknown, use the sample standard deviation \n",
    "interval = stats.norm.interval(0.95, loc = sample_avg, scale = sample_std/np.sqrt(n))\n",
    "\n",
    "print('95% confidence interval for average income:', interval)"
   ]
  },
  {
   "cell_type": "markdown",
   "metadata": {},
   "source": [
    "<a id=\"small\"></a>\n",
    "### 2.2.2 Small Sample Size"
   ]
  },
  {
   "cell_type": "markdown",
   "metadata": {},
   "source": [
    "Let us take a sample of `n` observations from the population such that, $n < 30$. Here the standard deviation of the population is unknown. The confidence interval for the population mean with $100(1-\\alpha)$% confidence level is given as: $\\overline{X} \\pm t_{\\frac{\\alpha}{2}, n-1}\\frac{s}{\\sqrt{n}}$\n",
    "\n",
    "Where, <br>\n",
    "$\\overline{X}$: Sample mean<br>\n",
    "$\\alpha$: Level of significance<br>\n",
    "$s$: Sample standard deviation<br>\n",
    "$n-1$: degrees of freedom\n",
    "\n",
    "The ratio $\\frac{s}{\\sqrt{n}}$ is the estimate of the standard error of the mean. And $t_{\\frac{\\alpha}{2}, n-1}\\frac{s}{\\sqrt{n}}$ is the margin of error for the estimate.\n",
    "\n",
    "The value of $t_{\\frac{\\alpha}{2}, n-1}$ for different $\\alpha$ values can be obtained using the `stats.t.isf()` from the scipy library.  "
   ]
  },
  {
   "cell_type": "code",
   "execution_count": 16,
   "metadata": {
    "scrolled": false
   },
   "outputs": [
    {
     "data": {
      "text/html": [
       "<div>\n",
       "<style scoped>\n",
       "    .dataframe tbody tr th:only-of-type {\n",
       "        vertical-align: middle;\n",
       "    }\n",
       "\n",
       "    .dataframe tbody tr th {\n",
       "        vertical-align: top;\n",
       "    }\n",
       "\n",
       "    .dataframe thead th {\n",
       "        text-align: right;\n",
       "    }\n",
       "</style>\n",
       "<table border=\"1\" class=\"dataframe\">\n",
       "  <thead>\n",
       "    <tr style=\"text-align: right;\">\n",
       "      <th></th>\n",
       "      <th>alpha</th>\n",
       "      <th>t_alpha_by_2</th>\n",
       "    </tr>\n",
       "  </thead>\n",
       "  <tbody>\n",
       "    <tr>\n",
       "      <th>0</th>\n",
       "      <td>0.10</td>\n",
       "      <td>1.81</td>\n",
       "    </tr>\n",
       "    <tr>\n",
       "      <th>1</th>\n",
       "      <td>0.05</td>\n",
       "      <td>2.23</td>\n",
       "    </tr>\n",
       "    <tr>\n",
       "      <th>2</th>\n",
       "      <td>0.02</td>\n",
       "      <td>2.76</td>\n",
       "    </tr>\n",
       "    <tr>\n",
       "      <th>3</th>\n",
       "      <td>0.01</td>\n",
       "      <td>3.17</td>\n",
       "    </tr>\n",
       "  </tbody>\n",
       "</table>\n",
       "</div>"
      ],
      "text/plain": [
       "   alpha  t_alpha_by_2\n",
       "0   0.10          1.81\n",
       "1   0.05          2.23\n",
       "2   0.02          2.76\n",
       "3   0.01          3.17"
      ]
     },
     "execution_count": 16,
     "metadata": {},
     "output_type": "execute_result"
    }
   ],
   "source": [
    "# let us find the t-values for different alpha values with 10 degrees of freedom\n",
    "\n",
    "# create an empty dataframe to store the alpha and corresponding t-value\n",
    "df_t = pd.DataFrame()\n",
    "\n",
    "# create a dictionary of different alpha values\n",
    "alpha =  [0.1, 0.05, 0.02, 0.01] \n",
    "\n",
    "# use for loop to calculate the t-value for each alpha value\n",
    "for i in range(len(alpha)):\n",
    "    alpha_by_2 = alpha[i] / 2\n",
    "    \n",
    "    # use 'stats.t.isf()' to find the t-value corresponding to the upper tail probability 'q'\n",
    "    # pass the value of 'alpha_by_2' to the parameter 'q'\n",
    "    # pass the 10 degrees of freedom to the parametr 'df' \n",
    "    # use 'round()' to round-off the value to 2 digits\n",
    "    t = np.abs(round(stats.t.isf(q = alpha_by_2, df = 10), 2))\n",
    "\n",
    "    # create a dataframe using dictionary to store the alpha and corresponding t-value \n",
    "    # set the loop iterator 'i' as the index of the dataframe\n",
    "    row =  pd.DataFrame({\"alpha\": alpha[i], \"t_alpha_by_2\": t}, index = [i])\n",
    "\n",
    "    # append the row to the dataframe 'df_t'\n",
    "    df_t = df_t.append(row)\n",
    "\n",
    "# print the final dataframe\n",
    "df_t"
   ]
  },
  {
   "cell_type": "markdown",
   "metadata": {},
   "source": [
    "### Example:\n",
    "\n",
    "#### 1. There are 150 apples on a tree. You randomly choose 17 apples and found that the average weight of apples is 78 grams with a standard deviation of 23 grams. Find the 90% confidence interval for the population mean."
   ]
  },
  {
   "cell_type": "code",
   "execution_count": 17,
   "metadata": {},
   "outputs": [
    {
     "name": "stdout",
     "output_type": "stream",
     "text": [
      "90% confidence interval for population mean is (68.26090326067306, 87.73909673932694)\n"
     ]
    }
   ],
   "source": [
    "# number of observations in the sample\n",
    "n = 17\n",
    "\n",
    "# sample mean \n",
    "sample_avg = 78\n",
    "\n",
    "# sample standard deviation\n",
    "sample_std = 23\n",
    "\n",
    "# calculate the 90% confidence interval for the population mean\n",
    "# pass the 'n-1' degrees of freedom to the parameter, 'df' \n",
    "# pass the sample mean to the parameter, 'loc'\n",
    "# pass the scaling factor (sample_std / n^(1/2)) to the parameter, 'scale'\n",
    "# as the population standard deviation is unknown, use the sample standard deviation \n",
    "interval = stats.t.interval(0.90, df = n-1, loc = sample_avg, scale = sample_std/np.sqrt(n))\n",
    "\n",
    "print('90% confidence interval for population mean is', interval)"
   ]
  },
  {
   "cell_type": "markdown",
   "metadata": {},
   "source": [
    "<a id=\"prop\"></a>\n",
    "## 2.3 Interval Estimation for Proportion"
   ]
  },
  {
   "cell_type": "markdown",
   "metadata": {},
   "source": [
    "Consider a population in which each observation is either a success or a failure. The population proportion is denoted by `P` which the ratio of the number of successes to the size of the population.\n",
    "\n",
    "The confidence interval for the population proportion with $100(1-\\alpha)$% confidence level is given as: $p \\pm Z_{\\frac{\\alpha}{2}}\\sqrt{\\frac{p(1 - p)}{n}}$\n",
    "\n",
    "Where, <br>\n",
    "$p$: Sample proportion<br>\n",
    "$\\alpha$: Level of significance<br>\n",
    "$n$: Sample size\n",
    "\n",
    "The quantity $Z_{\\frac{\\alpha}{2}}\\sqrt{\\frac{p(1 - p)}{n}}$ is the margin of error."
   ]
  },
  {
   "cell_type": "markdown",
   "metadata": {},
   "source": [
    "### Example:\n",
    "\n",
    "#### 1. A financial firm has created 50 portfolios. From them, a sample of 13 portfolios was selected, out of which 8 were found to be underperforming. Construct a 99% confidence interval to estimate the population proportion."
   ]
  },
  {
   "cell_type": "code",
   "execution_count": 18,
   "metadata": {},
   "outputs": [
    {
     "name": "stdout",
     "output_type": "stream",
     "text": [
      "99% confidence interval for population proportion is (0.26782280814713805, 0.9629464226220927)\n"
     ]
    }
   ],
   "source": [
    "# total count of portfolios\n",
    "N = 50\n",
    "\n",
    "# number of portfolios in a sample\n",
    "n = 13\n",
    "\n",
    "# number of underperforming portfolios in a sample\n",
    "x = 8\n",
    "\n",
    "# sample proportion\n",
    "p_samp = x/n\n",
    "\n",
    "# calculate the 99% confidence interval\n",
    "# pass the sample proportion to the parameter, 'loc'\n",
    "# pass the scaling factor ((p_samp*(1-p_samp))/n))^0.5) to the parameter, 'scale'\n",
    "interval = stats.norm.interval(0.99, loc = p_samp, scale = np.sqrt((p_samp*(1-p_samp))/n))\n",
    "\n",
    "print('99% confidence interval for population proportion is', interval)"
   ]
  },
  {
   "cell_type": "markdown",
   "metadata": {},
   "source": [
    "<a id=\"defn\"></a>\n",
    "# 3. Test of Hypothesis"
   ]
  },
  {
   "cell_type": "markdown",
   "metadata": {},
   "source": [
    "It is the process of evaluating the validity of the claim made using the sample data obtained from the population. A statistical test is a rule used to decide the acceptance or rejection of the claim.\n",
    "\n",
    "**Examples of hypothesis:**\n",
    "\n",
    "        1. One can get 'A' grade if the attendance in the class is more than 75%.\n",
    "        2. A probiotic drink can improve the immunity of a person. "
   ]
  },
  {
   "cell_type": "markdown",
   "metadata": {},
   "source": [
    "<a id=\"types\"></a>\n",
    "## 3.1 Types of Hypothesis"
   ]
  },
  {
   "cell_type": "markdown",
   "metadata": {},
   "source": [
    "`Null Hypothesis`: The null hypothesis is the claim suggesting 'no difference'. It is denoted as H<sub>0</sub>.\n",
    "\n",
    "`Alternative Hypothesis`: It is the hypothesis that is tested against the null hypothesis. The acceptance or rejection of the hypothesis is based on the likelihood of H<sub>0</sub> being true. It is denoted by H<sub>a</sub> or H<sub>1</sub>.\n",
    "\n",
    "#### Example:\n",
    "\n",
    "A company that produces tennis balls claimed that the diameter of a tennis ball is at least 2.625 inches on average. On the other hand, a professional tennis coach claimed that the diameter of a ball is less than what the company has claimed. To test the claim of the coach, a statistical test can be performed considering the hypothesis:\n",
    "\n",
    "                    Null Hypothesis: Average diameter ≥ 2.625\n",
    "                    Alternative Hypothesis: Average diameter < 2.625"
   ]
  },
  {
   "cell_type": "markdown",
   "metadata": {},
   "source": [
    "<a id=\"test_type\"></a>\n",
    "# 4. Types of Test"
   ]
  },
  {
   "cell_type": "markdown",
   "metadata": {},
   "source": [
    "The hypothesis test is used to validate the claim given by the null hypothesis. The types of tests are based on the nature of the alternative hypothesis. "
   ]
  },
  {
   "cell_type": "markdown",
   "metadata": {},
   "source": [
    "<a id=\"2tailed\"></a>\n",
    "## 4.1 Two Tailed Test"
   ]
  },
  {
   "cell_type": "markdown",
   "metadata": {},
   "source": [
    "Two tailed test considers the value of the population parameter is less than or greater than (i.e. not equal) a specific value. <br>\n",
    "If we test the population mean ($\\mu$) with a specific value ($\\mu_{0}$) the null hypothesis is: $H_{0}: \\mu = \\mu_{0}$. \n",
    "\n",
    "The alternative hypothesis for the two tailed test is given as: $H_{1}: \\mu \\neq \\mu_{0}$"
   ]
  },
  {
   "cell_type": "markdown",
   "metadata": {},
   "source": [
    "#### Example:\n",
    "\n",
    "A company that produces tennis balls claimed that the diameter of a tennis ball is 2.625 inches on average. To test the company's claim, a statistical test can be performed considering the hypothesis:\n",
    "\n",
    "                    Null Hypothesis: Average diameter = 2.625\n",
    "                    Alternative Hypothesis: Average diameter ≠ 2.625"
   ]
  },
  {
   "cell_type": "markdown",
   "metadata": {},
   "source": [
    "<a id=\"1tailed\"></a>\n",
    "## 4.2 One Tailed Test"
   ]
  },
  {
   "cell_type": "markdown",
   "metadata": {},
   "source": [
    "One tailed test considers the value of the population parameter is less than or greater than (but not both) a specific value. <br>\n",
    "If we test the population mean ($\\mu$) with a specific value ($\\mu_{0}$) the null hypothesis is: $H_{0}: \\mu \\leq \\mu_{0}$ and the alternative hypothesis is $H_{1}: \\mu > \\mu_{0}$, the one tailed test is also known as a `right-tailed test`.\n",
    "\n",
    "If we test the population mean ($\\mu$) with a specific value ($\\mu_{0}$) the null hypothesis is: $H_{0}: \\mu \\geq \\mu_{0}$ and the alternative hypothesis is $H_{1}: \\mu < \\mu_{0}$, the one tailed test is also known as a `left-tailed test`.\n"
   ]
  },
  {
   "cell_type": "markdown",
   "metadata": {},
   "source": [
    "### Example:\n",
    "\n",
    "**1.** The company's annual quality report of machines states that a lathe machine works efficiently at most for 8 months on average after the servicing. The production manager claims that after the special tuxan servicing, the machine works efficiently for more than 8 months. To test the claim of production manager consider the hypothesis:\n",
    "\n",
    "                    Null Hypothesis: Machine efficiency ≤ 8 months\n",
    "                    Alternative Hypothesis: Machine efficiency > 8 months\n",
    "\n",
    "This is the example of a **right-tailed test**. "
   ]
  },
  {
   "cell_type": "markdown",
   "metadata": {},
   "source": [
    "**2.** A railway authority claims that all the trains on the Chicago-Seattle route run with a speed of at least 54 mph on average. A customer forum declares that there are various records from passengers claiming that the speed of the train is less than what railway has claimed. In this scenario, a statistical test can be performed to test the claim of customer forum considering the hypothesis:\n",
    "\n",
    "                    Null Hypothesis: Speed ≥ 56 mph\n",
    "                    Alternative Hypothesis: Speed < 56 mph\n",
    "\n",
    "This is the example of a **left-tailed test**. "
   ]
  },
  {
   "cell_type": "markdown",
   "metadata": {},
   "source": [
    "<a id=\"eg\"></a>\n",
    "# 5. Hypothesis Tests with Z Statistic"
   ]
  },
  {
   "cell_type": "markdown",
   "metadata": {},
   "source": [
    "Let us perform one sample Z test for the population mean. We compare the population mean with a specific value. The sample is assumed to be taken from a population following a normal distribution.\n",
    "\n",
    "To check the normality of the data, a test for normality is used. The `Shapiro-Wilk Test` is one of the methods used to check the normality. The hypothesis of the test is given as:\n",
    "<p style='text-indent:25em'> <strong> H<sub>0</sub>:  The data is normally distributed </strong> </p>\n",
    "<p style='text-indent:25em'> <strong> H<sub>1</sub>:  The data is not normally distributed </strong> </p>\n",
    "\n",
    "The `shapiro()` from scipy library performs a Shapiro-Wilk normality test. "
   ]
  },
  {
   "cell_type": "markdown",
   "metadata": {},
   "source": [
    "The null and alternative hypothesis of Z-test is given as:\n",
    "<p style='text-indent:25em'> <strong> $H_{0}: \\mu = \\mu_{0}$ or $\\mu \\geq \\mu_{0}$ or $\\mu \\leq \\mu_{0}$</strong></p>\n",
    "<p style='text-indent:25em'> <strong> $H_{1}: \\mu \\neq \\mu_{0}$ or $\\mu < \\mu_{0}$ or $\\mu > \\mu_{0}$</strong></p>"
   ]
  },
  {
   "cell_type": "markdown",
   "metadata": {},
   "source": [
    "Consider a normal population with standard deviation $\\sigma$. Let us take a sample of size n, such that (n > 30). \n",
    "The test statistic for one sample Z-test is given as:\n",
    "<p style='text-indent:25em'> <strong> $Z = \\frac{\\overline{X} -  \\mu}{\\frac{\\sigma}{\\sqrt(n)}}$</strong></p>\n",
    "\n",
    "Where, <br>\n",
    "$\\overline{X}$: Sample mean<br>\n",
    "$\\mu$: Specified mean<br>\n",
    "$\\sigma$: Population standard deviation<br>\n",
    "$n$: Sample size\n",
    "\n",
    "Under $H_{0}$ the test statistic follows a standard normal distribution.\n",
    "\n",
    "If $\\sigma$ is unknown, use the sample standard deviation (s) instead of $\\sigma$ to calculate the test statistic."
   ]
  },
  {
   "cell_type": "markdown",
   "metadata": {},
   "source": [
    "### Example:\n",
    "\n",
    "#### 1. A car manufacturing company claims that the mileage of their new car is 25 kmph with a standard deviation of 2.5 kmph. A random sample of 45 cars was drawn and recorded their mileage as per the standard procedure. From the sample, the mean mileage was seen to be 24 kmph. Is this evidence to claim that the mean mileage is different from 25kmph? (assume the normality of the data) Use α = 0.01."
   ]
  },
  {
   "cell_type": "markdown",
   "metadata": {},
   "source": [
    "The null and alternative hypothesis is:\n",
    "\n",
    "H<sub>0</sub>: $\\mu = 25 $<br>\n",
    "H<sub>1</sub>: $\\mu ≠ 25 $\n",
    "\n",
    "Here ⍺ = 0.01, for a two-tailed test calculate the critical z-value."
   ]
  },
  {
   "cell_type": "code",
   "execution_count": 19,
   "metadata": {},
   "outputs": [
    {
     "name": "stdout",
     "output_type": "stream",
     "text": [
      "Critical value for two-tailed Z-test: 2.58\n"
     ]
    }
   ],
   "source": [
    "# calculate the z-value for 99% of confidence level\n",
    "# use 'stats.norm.isf()' to find the z-value corresponding to the upper tail probability 'q'\n",
    "# pass the value of 'alpha/2' to the parameter 'q', here alpha = 0.01\n",
    "# use 'round()' to round-off the value to 2 digits\n",
    "z_val = np.abs(round(stats.norm.isf(q = 0.01/2), 2))\n",
    "\n",
    "print('Critical value for two-tailed Z-test:', z_val)"
   ]
  },
  {
   "cell_type": "markdown",
   "metadata": {},
   "source": [
    "i.e. if z is less than -2.58 or greater than 2.58 then we reject the null hypothesis."
   ]
  },
  {
   "cell_type": "code",
   "execution_count": 20,
   "metadata": {},
   "outputs": [
    {
     "name": "stdout",
     "output_type": "stream",
     "text": [
      "Z-score: -2.6832815729997477\n"
     ]
    }
   ],
   "source": [
    "# define a function to calculate the Z-test statistic \n",
    "# pass the population mean, population standard deviation, sample size and sample mean as the function input\n",
    "def z_test(pop_mean, pop_std, n, samp_mean):\n",
    "   \n",
    "    # calculate the test statistic\n",
    "    z_score = (samp_mean - pop_mean) / (pop_std / np.sqrt(n))\n",
    "\n",
    "    # return the z-test value\n",
    "    return z_score\n",
    "\n",
    "# given data\n",
    "n = 45\n",
    "pop_mean = 25\n",
    "pop_std = 2.5\n",
    "samp_mean = 24\n",
    "\n",
    "# calculate the test statistic using the function 'z_test'\n",
    "z_score = z_test(pop_mean, pop_std, n, samp_mean)\n",
    "print(\"Z-score:\", z_score)"
   ]
  },
  {
   "cell_type": "code",
   "execution_count": 21,
   "metadata": {},
   "outputs": [
    {
     "name": "stdout",
     "output_type": "stream",
     "text": [
      "p-value: 0.007290358091535638\n"
     ]
    }
   ],
   "source": [
    "# calculate the corresponding p-value for the test statistic\n",
    "# use 'cdf()' to calculate P(Z <= z_score)\n",
    "p_value = stats.norm.cdf(z_score)\n",
    "\n",
    "# for a two-tailed test multiply the p-value by 2\n",
    "req_p = p_value*2\n",
    "print('p-value:', req_p)"
   ]
  },
  {
   "cell_type": "code",
   "execution_count": 22,
   "metadata": {
    "scrolled": false
   },
   "outputs": [
    {
     "name": "stdout",
     "output_type": "stream",
     "text": [
      "Confidence interval: (23.040045096471452, 24.959954903528548)\n"
     ]
    }
   ],
   "source": [
    "# calculate the 99% confidence interval for the population mean\n",
    "# pass the sample mean to the parameter, 'loc'\n",
    "# pass the scaling factor (pop_std / n^(1/2)) to the parameter, 'scale'\n",
    "print('Confidence interval:', stats.norm.interval(0.99, loc = samp_mean, scale = pop_std / np.sqrt(n)))"
   ]
  },
  {
   "cell_type": "markdown",
   "metadata": {},
   "source": [
    "Here the z score is less than -2.58, p-value is less than 0.01, also the confidence interval do not contain the value in the null hypothesis (i.e. 25), thus we reject the null hypothesis and conclude that there is enough evidence to claim that the mean mileage is different from 25kmph."
   ]
  },
  {
   "cell_type": "markdown",
   "metadata": {},
   "source": [
    "Let us plot the acceptance and rejection region for a two-tailed test  with 99% confidence."
   ]
  },
  {
   "cell_type": "code",
   "execution_count": 23,
   "metadata": {
    "scrolled": false
   },
   "outputs": [
    {
     "data": {
      "image/png": "[encoded data removed]",
      "text/plain": [
       "<Figure size 1080x576 with 1 Axes>"
      ]
     },
     "metadata": {
      "needs_background": "light"
     },
     "output_type": "display_data"
    }
   ],
   "source": [
    "# consider a random variable 'X' that follows a standard normal distribution \n",
    "# pass the required number of observations to the parameter, 'size'\n",
    "# set 'random_state' to obtain the same observations every time you run the code \n",
    "X = stats.norm.rvs(size = 1000000, random_state = 20)\n",
    "\n",
    "# plot the distribution of X\n",
    "# pass the data to the parameter, 'a'\n",
    "# 'hist=False' does not return the histogram \n",
    "# 'cumulative=False' in 'kde_kws' does not return the cumulative kernel density estimator\n",
    "ax = sns.distplot(a = X, hist = False, kde_kws = dict(cumulative=False))\n",
    "\n",
    "# set the limit for y-axis\n",
    "plt.ylim(0, 0.42)\n",
    "\n",
    "# use 'stats.norm.isf()' to calculate the critical z-value for alpha = 0.01\n",
    "# pass the value of 'alpha/2' to the parameter 'q' for a two-tailed test\n",
    "z = stats.norm.isf(q = 0.01/2)\n",
    "\n",
    "# plot a vertical line at z-value\n",
    "x, y = [z, z], [0, 0.3]\n",
    "plt.plot(x, y, color = 'black')\n",
    "\n",
    "# plot a vertical line at -(z-value)\n",
    "x, y = [-z, -z], [0, 0.3]\n",
    "plt.plot(x, y, color = 'black')\n",
    "\n",
    "# plot a vertical line at z-score value\n",
    "x, y = [z_score, z_score], [0, 0.013]\n",
    "plt.plot(x, y, color = 'black')\n",
    "\n",
    "# add the color to the right of the z-value and left of -(z-value)\n",
    "# get the data for x and y axes\n",
    "l1 = ax.lines[0]\n",
    "x1 = l1.get_xydata()[:,0]\n",
    "y1 = l1.get_xydata()[:,1]\n",
    "\n",
    "# fill the color for the region where x-values are greater than the critical z-value\n",
    "# pass the condition to shade the required region\n",
    "# pass the required color to the parameter, 'color'\n",
    "ax.fill_between(x1[x1 >= z], y1[x1 >= z], color = 'lightblue')\n",
    "\n",
    "# fill the color for the region where x-values are less than -(z-value)\n",
    "# pass the condition to shade the required region\n",
    "# pass the required color to the parameter, 'color'\n",
    "ax.fill_between(x1[x1 <= -z], y1[x1 <= -z], color = 'lightblue')\n",
    "\n",
    "# use 'annonate' function to draw an arrow between points xy and xytext\n",
    "# 's' is a argument to write text\n",
    "# we can change the facecolor and arrowstyle; this is only for representation purpose\n",
    "plt.annotate(s = 'Mean (μ)', xy = (0, 0), xytext = (-0.3, 0.04), arrowprops = dict(facecolor = 'black', arrowstyle = 'simple'))\n",
    "\n",
    "plt.annotate(s = 'α/2 = 0.005\\n(Rejection Region for H0)', xy = (2.8, 0.004), xytext = (2.8, 0.055), \n",
    "             arrowprops = dict(facecolor = 'black', arrowstyle = 'simple'))\n",
    "\n",
    "plt.annotate(s = 'α/2 = 0.005\\n(Rejection Region for H0)', xy = (-2.8, 0.004), xytext = (-4.5, 0.055), \n",
    "             arrowprops = dict(facecolor = 'black', arrowstyle = 'simple'))\n",
    "\n",
    "plt.annotate(s = 'z_crit = '+ str(round(z,2)), xy = (z, 0), xytext = (z-1.2, 0.02), \n",
    "             arrowprops = dict(facecolor = 'black', arrowstyle = 'simple'))\n",
    "\n",
    "plt.annotate(s = 'z_crit = '+ str(round(-z,2)), xy = (-z, 0), xytext = (-z+0.3, 0.02), \n",
    "             arrowprops = dict(facecolor = 'black', arrowstyle = 'simple'))\n",
    "\n",
    "# use below code to print the values in the graph\n",
    "# 'x' and 'y' gives position of the text\n",
    "# 's' is the text \n",
    "plt.text(x = -1.15, y = 0.2, s = 'Acceptance Region for H0 (1 - α)')\n",
    "\n",
    "# assign the x-axis labels\n",
    "# pass the position of labels to the parameter, 'ticks'\n",
    "# pass the required labels to the parameter, 'labels'\n",
    "plt.xticks(ticks = [-6, -4, -2, 0, 2, 4, 6, round(z_score,2)], \n",
    "           labels = [-6, -4, -2, 0, 2, 4, 6, 'z_test = '+str(round(z_score,2))])\n",
    "\n",
    "# set plot and axes labels\n",
    "# set text size using 'fontsize'\n",
    "plt.xlabel('Z', fontsize = 15)\n",
    "plt.ylabel('Probability', fontsize = 15)\n",
    "plt.title('Two-Tailed Test', fontsize = 15)\n",
    "\n",
    "# display the plot\n",
    "plt.show()"
   ]
  },
  {
   "cell_type": "markdown",
   "metadata": {},
   "source": [
    "The above plot shows that the test statistic value is in the rejection region, that implies we reject $H_{0}$ and conclude that there is enough evidence to claim that the mean mileage is different from 25kmph."
   ]
  },
  {
   "cell_type": "markdown",
   "metadata": {},
   "source": [
    "#### 2. The average calories in a slice bread of the brand 'Alphas' are 82 with a standard deviation of 15. An experiment is conducted to test the claim of the dietitians that the calories in a slice of bread are not as per the manufacturer's specification. A sample of 40 slices of bread is taken and the mean calories recorded are 95. Test the claim of dietitians with ⍺ value (significance level) as 0.05. (assume the normality of the data)."
   ]
  },
  {
   "cell_type": "markdown",
   "metadata": {},
   "source": [
    "The null and alternative hypothesis is:\n",
    "\n",
    "H<sub>0</sub>: $\\mu = 82 $<br>\n",
    "H<sub>1</sub>: $\\mu ≠ 82 $\n",
    "\n",
    "Here ⍺ = 0.05, for a two-tailed test calculate the critical z-value."
   ]
  },
  {
   "cell_type": "code",
   "execution_count": 24,
   "metadata": {},
   "outputs": [
    {
     "name": "stdout",
     "output_type": "stream",
     "text": [
      "Critical value for two-tailed Z-test: 1.96\n"
     ]
    }
   ],
   "source": [
    "# calculate the z-value for 95% of confidence level\n",
    "# use 'stats.norm.isf()' to find the z-value corresponding to the upper tail probability 'q'\n",
    "# pass the value of 'alpha/2' to the parameter 'q', here alpha = 0.05\n",
    "# use 'round()' to round-off the value to 2 digits\n",
    "z_val = np.abs(round(stats.norm.isf(q = 0.05/2), 2))\n",
    "\n",
    "print('Critical value for two-tailed Z-test:', z_val)"
   ]
  },
  {
   "cell_type": "markdown",
   "metadata": {},
   "source": [
    "i.e. if z is less than -1.96 or greater than 1.96 then we reject the null hypothesis."
   ]
  },
  {
   "cell_type": "code",
   "execution_count": 25,
   "metadata": {},
   "outputs": [
    {
     "name": "stdout",
     "output_type": "stream",
     "text": [
      "Z-score: 5.4812812776251905\n"
     ]
    }
   ],
   "source": [
    "# define a function to calculate the Z-test statistic \n",
    "# pass the population mean, population standard deviation, sample size and sample mean as the function input\n",
    "def z_test(pop_mean, pop_std, n, samp_mean):\n",
    "   \n",
    "    # calculate the test statistic\n",
    "    z_score = (samp_mean - pop_mean) / (pop_std / np.sqrt(n))\n",
    "\n",
    "    # return the z-test value\n",
    "    return z_score\n",
    "\n",
    "# given data\n",
    "n = 40\n",
    "pop_mean = 82\n",
    "pop_std = 15\n",
    "samp_mean = 95\n",
    "\n",
    "# calculate the test statistic using the function 'z_test'\n",
    "z_score = z_test(pop_mean, pop_std, n, samp_mean)\n",
    "print(\"Z-score:\", z_score)"
   ]
  },
  {
   "cell_type": "code",
   "execution_count": 26,
   "metadata": {},
   "outputs": [
    {
     "name": "stdout",
     "output_type": "stream",
     "text": [
      "p-value: 4.222565249683579e-08\n"
     ]
    }
   ],
   "source": [
    "# calculate the corresponding p-value for the test statistic\n",
    "# use 'cdf()' to calculate P(Z <= -z_score)\n",
    "p_value = stats.norm.cdf(-z_score)\n",
    "\n",
    "# for a two-tailed test multiply the p-value by 2\n",
    "req_p = p_value*2\n",
    "print('p-value:', req_p)"
   ]
  },
  {
   "cell_type": "code",
   "execution_count": 27,
   "metadata": {
    "scrolled": false
   },
   "outputs": [
    {
     "name": "stdout",
     "output_type": "stream",
     "text": [
      "Confidence interval: (90.35153725771579, 99.64846274228421)\n"
     ]
    }
   ],
   "source": [
    "# calculate the 95% confidence interval for the population mean\n",
    "# pass the sample mean to the parameter, 'loc'\n",
    "# pass the scaling factor (pop_std / n^(1/2)) to the parameter, 'scale'\n",
    "print('Confidence interval:', stats.norm.interval(0.95, loc = samp_mean, scale = pop_std / np.sqrt(n)))"
   ]
  },
  {
   "cell_type": "markdown",
   "metadata": {},
   "source": [
    "Here the z score is greater than 1.96, the p-value is less than 0.05, also the confidence interval do not contain the value in the null hypothesis (i.e. 82), thus we reject the null hypothesis and thus, there is enough evidence to conclude that the average calories in a slice bread are not 82."
   ]
  },
  {
   "cell_type": "markdown",
   "metadata": {},
   "source": [
    "#### 3. A typhoid vaccine in the market inscribes 3 mg of ascorbic acid in the vaccine. A research team claims that the vaccines contain less than 3 mg of acid. We collected the data of 40 vaccines by using random sampling from a population and recorded the amount of ascorbic acid. Test the claim of the research team using the sample data ⍺ value (significance level) to 0.05.\n",
    "\n",
    "    acid_amt = [2.57, 3.06, 3.28 , 3.24, 2.79, 3.40, 3.36, 3.07, 2.46, 3.03, 3.05, 2.94, 3.46, 3.19, 3.09, 2.81, 3.13, 2.88, \n",
    "                2.76, 2.75, 3.17, 2.89, 2.54, 3.18, 3.08, 2.60, 3.06, 3.13, 3.11, 3.08, 2.93, 2.90, 3.06, 2.97, 3.24, 2.86, \n",
    "                2.87, 3.18, 3, 2.95]"
   ]
  },
  {
   "cell_type": "markdown",
   "metadata": {},
   "source": [
    "Let us check the normality of the data."
   ]
  },
  {
   "cell_type": "code",
   "execution_count": 28,
   "metadata": {},
   "outputs": [
    {
     "name": "stdout",
     "output_type": "stream",
     "text": [
      "Test statistic: 0.9764790534973145\n",
      "P-Value: 0.5609316825866699\n"
     ]
    }
   ],
   "source": [
    "# given data\n",
    "acid_amt = [2.57, 3.06, 3.28 , 3.24, 2.79, 3.40, 3.36, 3.07, 2.46, 3.03, 3.05, 2.94, 3.46 , 3.19, 3.09,2.81, 3.13, 2.88, 2.76, \n",
    "            2.75, 3.17, 2.89, 2.54, 3.18, 3.08, 2.60, 3.06, 3.13, 3.11, 3.08, 2.93, 2.90, 3.06, 2.97, 3.24, 2.86, 2.87, 3.18, \n",
    "            3, 2.95]\n",
    "\n",
    "# perform Shapiro-Wilk test to test the normality\n",
    "# shapiro() returns a tuple having the values of test statistics and the corresponding p-value\n",
    "# pass the sample data to perform the test\n",
    "stat, p_value = shapiro(acid_amt)\n",
    "\n",
    "# print the test statistic and corresponding p-value \n",
    "print('Test statistic:', stat)\n",
    "print('P-Value:', p_value)"
   ]
  },
  {
   "cell_type": "markdown",
   "metadata": {},
   "source": [
    "From the above result, we can see that the p-value is greater than 0.05, thus we can say that the data is normally distributed."
   ]
  },
  {
   "cell_type": "markdown",
   "metadata": {},
   "source": [
    "The null and alternative hypothesis is:\n",
    "\n",
    "H<sub>0</sub>: $\\mu \\geq 3 $<br>\n",
    "H<sub>1</sub>: $\\mu < 3 $\n",
    "\n",
    "Here ⍺ = 0.05, for a one-tailed test calculate the critical z-value."
   ]
  },
  {
   "cell_type": "code",
   "execution_count": 29,
   "metadata": {},
   "outputs": [
    {
     "name": "stdout",
     "output_type": "stream",
     "text": [
      "Critical value for one-tailed Z-test: 1.64\n"
     ]
    }
   ],
   "source": [
    "# calculate the z-value for 95% of confidence level\n",
    "# use 'stats.norm.isf()' to find the z-value corresponding to the upper tail probability 'q'\n",
    "# pass the value of 'alpha' to the parameter 'q', here alpha = 0.05\n",
    "# use 'round()' to round-off the value to 2 digits\n",
    "z_val = np.abs(round(stats.norm.isf(q = 0.05), 2))\n",
    "\n",
    "print('Critical value for one-tailed Z-test:', z_val)"
   ]
  },
  {
   "cell_type": "markdown",
   "metadata": {},
   "source": [
    "i.e. if z is less than -1.64 then we reject the null hypothesis."
   ]
  },
  {
   "cell_type": "code",
   "execution_count": 30,
   "metadata": {},
   "outputs": [
    {
     "name": "stdout",
     "output_type": "stream",
     "text": [
      "Z-score:  0.08289008952836197\n",
      "p-value:  0.5330305328333862\n"
     ]
    }
   ],
   "source": [
    "# given amount of ascorbic acid in the vaccines\n",
    "acid_amt = [2.57, 3.06, 3.28 , 3.24, 2.79, 3.40, 3.36, 3.07, 2.46, 3.03, 3.05, 2.94, 3.46 , 3.19, 3.09, 2.81, 3.13, 2.88, 2.76, \n",
    "            2.75, 3.17, 2.89, 2.54, 3.18, 3.08, 2.60, 3.06, 3.13, 3.11, 3.08, 2.93, 2.90, 3.06, 2.97, 3.24, 2.86, 2.87, 3.18, \n",
    "            3, 2.95]\n",
    "\n",
    "# 'ztest()' returns the test statistic and corresponding p-value\n",
    "# pass the sample data to the parameter, 'x1'\n",
    "# pass the value in null hypothesis to the parameter, 'value'\n",
    "# pass the one-tailed condition to the parameter, 'alternative'\n",
    "z_score, pval = stests.ztest(x1 = acid_amt, value = 3, alternative = 'smaller')\n",
    "\n",
    "# print the test statistic and corresponding p-value\n",
    "print(\"Z-score: \", z_score)\n",
    "print(\"p-value: \", pval)"
   ]
  },
  {
   "cell_type": "code",
   "execution_count": 31,
   "metadata": {
    "scrolled": false
   },
   "outputs": [
    {
     "name": "stdout",
     "output_type": "stream",
     "text": [
      "Confidence interval: (2.932063993209846, 3.0739360067901544)\n"
     ]
    }
   ],
   "source": [
    "# calculate the 95% confidence interval for the population mean\n",
    "# pass the sample mean to the parameter, 'loc'\n",
    "# pass the scaling factor (standard deviation of sample / n^(1/2)) to the parameter, 'scale'\n",
    "# use 'stdev()' to calculate sample standard deviation\n",
    "print('Confidence interval:', stats.norm.interval(0.95, loc = np.mean(acid_amt), \n",
    "                                                  scale = statistics.stdev(acid_amt) / np.sqrt(len(acid_amt))))"
   ]
  },
  {
   "cell_type": "markdown",
   "metadata": {},
   "source": [
    "Here the z-score is greater than -1.64, the p-value is greater than 0.05, also the confidence interval contains the value in the null hypothesis (i.e. 3), thus we fail to reject (i.e. accept) the null hypothesis. Thus, there is no enough evidence to conclude that on average a typhoid vaccine contains less than 3 mg of ascorbic acid."
   ]
  },
  {
   "cell_type": "markdown",
   "metadata": {},
   "source": [
    "Let us plot the acceptance and rejection region for a left-tailed test with 95% confidence."
   ]
  },
  {
   "cell_type": "code",
   "execution_count": 32,
   "metadata": {
    "scrolled": false
   },
   "outputs": [
    {
     "data": {
      "image/png": "[encoded data removed]",
      "text/plain": [
       "<Figure size 1080x576 with 1 Axes>"
      ]
     },
     "metadata": {
      "needs_background": "light"
     },
     "output_type": "display_data"
    }
   ],
   "source": [
    "# consider a random variable 'X' that follows a standard normal distribution \n",
    "# pass the required number of observations to the parameter, 'size'\n",
    "# set 'random_state' to obtain the same observations every time you run the code \n",
    "X = stats.norm.rvs(size = 2000000, random_state = 20)\n",
    "\n",
    "# plot the distribution of X\n",
    "# pass the data to the parameter, 'a'\n",
    "# 'hist=False' does not return the histogram \n",
    "# 'cumulative=False' in 'kde_kws' does not return the cumulative kernel density estimator\n",
    "ax = sns.distplot(a = X, hist = False, kde_kws = dict(cumulative=False))\n",
    "\n",
    "# set the limit for y-axis\n",
    "plt.ylim(0, 0.42)\n",
    "\n",
    "# use 'stats.norm.isf()' to calculate the critical z-value for alpha = 0.05\n",
    "# pass the value of 'alpha' to the parameter 'q'\n",
    "z = stats.norm.isf(q = 0.05)\n",
    "\n",
    "# as normal distribution is symmetric, for a left-tailed test draw a line at -(z-value)\n",
    "# plot a vertical line at -(z-value) \n",
    "x, y = [-z, -z], [0, 0.3]\n",
    "plt.plot(x, y, color = 'black')\n",
    "\n",
    "# plot a vertical line at z-score value\n",
    "x, y = [z_score, z_score], [0, 0.05]\n",
    "plt.plot(x, y, color = 'black')\n",
    "\n",
    "# add the color to the left of the -(z-value)\n",
    "# get the data for x and y axes for the distribution plot\n",
    "l1 = ax.lines[0]\n",
    "x1 = l1.get_xydata()[:,0]\n",
    "y1 = l1.get_xydata()[:,1]\n",
    "\n",
    "# fill the color for the region where x-values are less than -(z-value)\n",
    "# pass the condition to shade the required region\n",
    "# pass the required color to the parameter, 'color'\n",
    "ax.fill_between(x1[x1 <= -1.64], y1[x1 <= -1.64], color = 'lightblue')\n",
    "\n",
    "# use 'annonate' function to draw an arrow between points xy and xytext\n",
    "# 's' is a argument to write text\n",
    "# we can change the facecolor and arrowstyle; this is only for representation purpose\n",
    "plt.annotate(s = 'α = 0.05\\n(Rejection Region for H0)', xy = (-2, 0.025), xytext = (-3.8, 0.075), \n",
    "             arrowprops = dict(facecolor = 'black', arrowstyle = 'simple'))\n",
    "\n",
    "plt.annotate(s = 'z_crit = '+ str(round(-z,2)), xy = (-z, 0), xytext = (-z+0.2, 0.04), \n",
    "             arrowprops = dict(facecolor = 'black', arrowstyle = 'simple'))\n",
    "\n",
    "# use below code to print the values in the graph\n",
    "# 'x' and 'y' gives position of the text\n",
    "# 's' is the text \n",
    "plt.text(x = -1.15, y = 0.2, s = 'Acceptance Region for H0 (1 - α)')\n",
    "\n",
    "# assign the x-axis labels\n",
    "# pass the position of labels to the parameter, 'ticks'\n",
    "# pass the required labels to the parameter, 'labels'\n",
    "plt.xticks(ticks = [-6, -4, -2, 2, 4, 6, round(z_score,2)], \n",
    "           labels = [-6, -4, -2, 2, 4, 6, 'z_test = '+str(round(z_score,2))])\n",
    "\n",
    "# set plot and axes labels\n",
    "# set text size using 'fontsize'\n",
    "plt.xlabel('Z', fontsize = 15)\n",
    "plt.ylabel('Probability', fontsize = 15)\n",
    "plt.title('Left-Tailed Test', fontsize = 15)\n",
    "\n",
    "# display the plot\n",
    "plt.show()"
   ]
  },
  {
   "cell_type": "markdown",
   "metadata": {},
   "source": [
    "The above plot shows that the test statistic value is in the acceptance region, that implies we fail to reject (i.e. accept) $H_{0}$.  Thus, there is no enough evidence to conclude that on average a typhoid vaccine contains less than 3 mg of ascorbic acid."
   ]
  },
  {
   "cell_type": "markdown",
   "metadata": {},
   "source": [
    "#### 4. A sample of 900 PVC pipes is found to have an average thickness of 12.5 mm. Can we assume that the sample is coming from a normal population with mean 13 mm against that it is less than 13 mm. The population standard deviation is 1 mm. Test the hypothesis at 5% level of significance."
   ]
  },
  {
   "cell_type": "markdown",
   "metadata": {},
   "source": [
    "The null and alternative hypothesis is:\n",
    "\n",
    "H<sub>0</sub>: $\\mu \\geq 13 $<br>\n",
    "H<sub>1</sub>: $\\mu < 13 $\n",
    "\n",
    "Here ⍺ = 0.05, for a one-tailed test calculate the critical z-value."
   ]
  },
  {
   "cell_type": "code",
   "execution_count": 33,
   "metadata": {},
   "outputs": [
    {
     "name": "stdout",
     "output_type": "stream",
     "text": [
      "Critical value for one-tailed Z-test: 1.64\n"
     ]
    }
   ],
   "source": [
    "# calculate the z-value for 95% of confidence level\n",
    "# use 'stats.norm.isf()' to find the z-value corresponding to the upper tail probability 'q'\n",
    "# pass the value of 'alpha' to the parameter 'q', here alpha = 0.05\n",
    "# use 'round()' to round-off the value to 2 digits\n",
    "z_val = np.abs(round(stats.norm.isf(q = 0.05), 2))\n",
    "\n",
    "print('Critical value for one-tailed Z-test:', z_val)"
   ]
  },
  {
   "cell_type": "markdown",
   "metadata": {},
   "source": [
    "i.e. if z is less than -1.64 then we reject the null hypothesis."
   ]
  },
  {
   "cell_type": "code",
   "execution_count": 34,
   "metadata": {},
   "outputs": [
    {
     "name": "stdout",
     "output_type": "stream",
     "text": [
      "Z-score: -15.0\n"
     ]
    }
   ],
   "source": [
    "# define a function to calculate the Z-test statistic \n",
    "# pass the population mean, population standard deviation, sample size and sample mean as the function input\n",
    "def z_test(pop_mean, pop_std, n, samp_mean):\n",
    "   \n",
    "    # calculate the test statistic\n",
    "    z_score = (samp_mean - pop_mean) / (pop_std / np.sqrt(n))\n",
    "\n",
    "    # return the z-test value\n",
    "    return z_score\n",
    "\n",
    "# given data\n",
    "n = 900\n",
    "pop_mean = 13\n",
    "pop_std = 1\n",
    "samp_mean = 12.5\n",
    "\n",
    "# calculate the test statistic using the function 'z_test'\n",
    "z_score = z_test(pop_mean, pop_std, n, samp_mean)\n",
    "print(\"Z-score:\", z_score)"
   ]
  },
  {
   "cell_type": "code",
   "execution_count": 35,
   "metadata": {},
   "outputs": [
    {
     "name": "stdout",
     "output_type": "stream",
     "text": [
      "p-value: 3.6709661993126986e-51\n"
     ]
    }
   ],
   "source": [
    "# calculate the corresponding p-value for the test statistic\n",
    "# use 'cdf()' to calculate P(Z <= z_score)\n",
    "p_value = stats.norm.cdf(z_score)\n",
    "\n",
    "print('p-value:', p_value)"
   ]
  },
  {
   "cell_type": "code",
   "execution_count": 36,
   "metadata": {
    "scrolled": false
   },
   "outputs": [
    {
     "name": "stdout",
     "output_type": "stream",
     "text": [
      "Confidence interval: (12.434667867181998, 12.565332132818002)\n"
     ]
    }
   ],
   "source": [
    "# calculate the 95% confidence interval for the population mean\n",
    "# pass the sample mean to the parameter, 'loc'\n",
    "# pass the scaling factor (pop_std / n^(1/2)) to the parameter, 'scale'\n",
    "print('Confidence interval:', stats.norm.interval(0.95, loc = samp_mean, scale = pop_std / np.sqrt(n)))"
   ]
  },
  {
   "cell_type": "markdown",
   "metadata": {},
   "source": [
    "Here the z score is less than -1.64, p-value is less than 0.05, also the confidence interval do not contain the value in the null hypothesis (i.e. 13), thus we reject the null hypothesis and conclude that the sample is not coming from the population with mean 13."
   ]
  },
  {
   "cell_type": "markdown",
   "metadata": {},
   "source": [
    "#### 5. An e-commerce company claims that the mean delivery time of food items on its website in NYC is 60 minutes with a standard deviation of 30 minutes. A random sample of 45 customers ordered from the website, and the average time for delivery was found to be 75 minutes. Is this enough evidence to claim that the average time to get items delivered is more than 60 minutes. (assume the normality of the data). Test the with α = 0.05."
   ]
  },
  {
   "cell_type": "markdown",
   "metadata": {},
   "source": [
    "The null and alternative hypothesis is:\n",
    "\n",
    "H<sub>0</sub>: $\\mu \\leq  60 $<br>\n",
    "H<sub>1</sub>: $\\mu > 60 $\n",
    "\n",
    "Here ⍺ = 0.05, for a one-tailed test calculate the critical z-value."
   ]
  },
  {
   "cell_type": "code",
   "execution_count": 37,
   "metadata": {},
   "outputs": [
    {
     "name": "stdout",
     "output_type": "stream",
     "text": [
      "Critical value for one-tailed Z-test: 1.64\n"
     ]
    }
   ],
   "source": [
    "# calculate the z-value for 95% of confidence level\n",
    "# use 'stats.norm.isf()' to find the z-value corresponding to the upper tail probability 'q'\n",
    "# pass the value of 'alpha' to the parameter 'q', here alpha = 0.05\n",
    "# use 'round()' to round-off the value to 2 digits\n",
    "z_val = np.abs(round(stats.norm.isf(q = 0.05), 2))\n",
    "\n",
    "print('Critical value for one-tailed Z-test:', z_val)"
   ]
  },
  {
   "cell_type": "markdown",
   "metadata": {},
   "source": [
    "i.e. if z is greater than 1.64 then we reject the null hypothesis."
   ]
  },
  {
   "cell_type": "code",
   "execution_count": 38,
   "metadata": {},
   "outputs": [
    {
     "name": "stdout",
     "output_type": "stream",
     "text": [
      "Z-score: 3.3541019662496843\n"
     ]
    }
   ],
   "source": [
    "# define a function to calculate the Z-test statistic \n",
    "# pass the population mean, population standard deviation, sample size and sample mean as the function input\n",
    "def z_test(pop_mean, pop_std, n, samp_mean):\n",
    "   \n",
    "    # calculate the test statistic\n",
    "    z_score = (samp_mean - pop_mean) / (pop_std / np.sqrt(n))\n",
    "\n",
    "    # return the z-test value\n",
    "    return z_score\n",
    "\n",
    "# given data\n",
    "n = 45\n",
    "pop_mean = 60\n",
    "pop_std = 30\n",
    "samp_mean = 75\n",
    "\n",
    "# calculate the test statistic using the function 'z_test'\n",
    "z_score = z_test(pop_mean, pop_std, n, samp_mean)\n",
    "print(\"Z-score:\", z_score)"
   ]
  },
  {
   "cell_type": "code",
   "execution_count": 39,
   "metadata": {},
   "outputs": [
    {
     "name": "stdout",
     "output_type": "stream",
     "text": [
      "p-value: 0.0003981150787954058\n"
     ]
    }
   ],
   "source": [
    "# calculate the corresponding p-value for the test statistic\n",
    "# use 'sf()' to calculate P(Z > z_score)\n",
    "p_value = stats.norm.sf(z_score)\n",
    "\n",
    "print('p-value:', p_value)"
   ]
  },
  {
   "cell_type": "code",
   "execution_count": 40,
   "metadata": {
    "scrolled": false
   },
   "outputs": [
    {
     "name": "stdout",
     "output_type": "stream",
     "text": [
      "Confidence interval: (66.23477459423418, 83.76522540576582)\n"
     ]
    }
   ],
   "source": [
    "# calculate the 95% confidence interval for the population mean\n",
    "# pass the sample mean to the parameter, 'loc'\n",
    "# pass the scaling factor (pop_std / n^(1/2)) to the parameter, 'scale'\n",
    "print('Confidence interval:', stats.norm.interval(0.95, loc = samp_mean, scale = pop_std / np.sqrt(n)))"
   ]
  },
  {
   "cell_type": "markdown",
   "metadata": {},
   "source": [
    "Here the z score is greater than 1.64, the p-value is less than 0.05, also the confidence interval do not contain the value in the null hypothesis (i.e. 60), thus we reject the null hypothesis and conclude that the average time to get items delivered is more than 60 minutes."
   ]
  },
  {
   "cell_type": "markdown",
   "metadata": {},
   "source": [
    "Let us plot the acceptance and rejection region for a right-tailed test with 95% confidence."
   ]
  },
  {
   "cell_type": "code",
   "execution_count": 41,
   "metadata": {
    "scrolled": false
   },
   "outputs": [
    {
     "data": {
      "image/png": "[encoded data removed]",
      "text/plain": [
       "<Figure size 1080x576 with 1 Axes>"
      ]
     },
     "metadata": {
      "needs_background": "light"
     },
     "output_type": "display_data"
    }
   ],
   "source": [
    "# consider a random variable 'X' that follows a standard normal distribution \n",
    "# pass the required number of observations to the parameter, 'size'\n",
    "# set 'random_state' to obtain the same observations every time you run the code \n",
    "X = stats.norm.rvs(size = 1000000, random_state = 20)\n",
    "\n",
    "# plot the distribution of X\n",
    "# pass the data to the parameter, 'a'\n",
    "# 'hist=False' does not return the histogram \n",
    "# 'cumulative=False' in 'kde_kws' does not return the cumulative kernel density estimator\n",
    "ax = sns.distplot(a = X, hist = False, kde_kws = dict(cumulative=False))\n",
    "\n",
    "# set the limit for y-axis\n",
    "plt.ylim(0, 0.42)\n",
    "\n",
    "# use 'stats.norm.isf()' to calculate the critical z-value for alpha = 0.05\n",
    "# pass the value of 'alpha' to the parameter 'q'\n",
    "z = stats.norm.isf(q = 0.05)\n",
    "\n",
    "# plot a vertical line at z-value\n",
    "x, y = [z, z], [0, 0.3]\n",
    "plt.plot(x, y, color = 'black')\n",
    "\n",
    "# plot a vertical line at z-score value\n",
    "x, y = [z_score, z_score], [0, 0.013]\n",
    "plt.plot(x, y, color = 'black')\n",
    "\n",
    "# add the color to the right of the z-value\n",
    "# get the data for x and y axes\n",
    "l1 = ax.lines[0]\n",
    "x1 = l1.get_xydata()[:,0]\n",
    "y1 = l1.get_xydata()[:,1]\n",
    "\n",
    "# fill the color for the region where x-values are greater than the critical z-value\n",
    "# pass the condition to shade the required region\n",
    "# pass the required color to the parameter, 'color'\n",
    "ax.fill_between(x1[x1 >= z], y1[x1 >= z], color = 'lightblue')\n",
    "\n",
    "# use 'annonate' function to draw an arrow between points xy and xytext\n",
    "# 's' is a argument to write text\n",
    "# we can change the facecolor and arrowstyle; this is only for representation purpose\n",
    "plt.annotate(s = 'Mean (μ)', xy = (0, 0), xytext = (-0.3, 0.04), arrowprops = dict(facecolor = 'black', arrowstyle = 'simple'))\n",
    "\n",
    "plt.annotate(s = 'α = 0.05\\n(Rejection Region for H0)', xy = (2, 0.025), xytext = (2, 0.075), \n",
    "             arrowprops = dict(facecolor = 'black', arrowstyle = 'simple'))\n",
    "\n",
    "plt.annotate(s = 'z_crit = '+ str(round(z,2)), xy = (z, 0), xytext = (z-1, 0.04), \n",
    "             arrowprops = dict(facecolor = 'black', arrowstyle = 'simple'))\n",
    "\n",
    "# use below code to print the values in the graph\n",
    "# 'x' and 'y' gives position of the text\n",
    "# 's' is the text \n",
    "plt.text(x = -1.1, y = 0.2, s = 'Acceptance Region for H0 (1 - α)')\n",
    "\n",
    "# assign the x-axis labels\n",
    "# pass the position of labels to the parameter, 'ticks'\n",
    "# pass the required labels to the parameter, 'labels'\n",
    "plt.xticks(ticks = [-4, -2, 0, 2, 4, round(z_score,2)], \n",
    "           labels = [-4, -2, 0, 2, 4, 'z_test = '+str(round(z_score,2))])\n",
    "\n",
    "# set plot and axes labels\n",
    "# set text size using 'fontsize'\n",
    "plt.xlabel('Z', fontsize = 15)\n",
    "plt.ylabel('Probability', fontsize = 15)\n",
    "plt.title('Right-Tailed Test', fontsize = 15)\n",
    "\n",
    "# display the plot\n",
    "plt.show()"
   ]
  },
  {
   "cell_type": "markdown",
   "metadata": {},
   "source": [
    "The above plot shows that the test statistic value is in the rejection region, which implies we reject $H_{0}$ and conclude that  the average time to get items delivered is more than 60 minutes."
   ]
  },
  {
   "cell_type": "markdown",
   "metadata": {},
   "source": [
    "<a id=\"error\"></a>\n",
    "# 6. Error"
   ]
  },
  {
   "cell_type": "markdown",
   "metadata": {},
   "source": [
    "The error can occur while choosing the correct hypothesis based on the statistical tests. Two types of errors are `Type I` and `Type II` error."
   ]
  },
  {
   "cell_type": "markdown",
   "metadata": {},
   "source": [
    "### Type I Error\n",
    "\n",
    "This kind of error occurs when we reject the null hypothesis even if it is true. It is equivalent to a `false positive` conclusion. The probability of type I error is given by the value of $\\alpha$, level of significance.\n",
    "\n",
    "### Type II Error\n",
    "\n",
    "This kind of error occurs when we fail to reject the null hypothesis even if it is wrong. It is equivalent to a `false negative` conclusion. The probability of type II error is given by the value of $\\beta$."
   ]
  },
  {
   "cell_type": "markdown",
   "metadata": {},
   "source": [
    "<a id=\"power\"></a>\n",
    "## 6.1 Power of Hypothesis Test"
   ]
  },
  {
   "cell_type": "markdown",
   "metadata": {},
   "source": [
    "The probability of correctly rejecting a false null hypothesis is defined as the `Power` of a test. It is calculated as `1-β`. It is the probability of avoiding the type II error. The power of the test lies between 0 to 1. The value close to 1 indicates that the test is able to reject the false null hypothesis correctly."
   ]
  },
  {
   "cell_type": "markdown",
   "metadata": {},
   "source": [
    "### Example:\n",
    "\n",
    "#### 1. We need to determine if girls' score on average is higher than 300 in the GRE (for higher studies). The standard deviation of the population is 20. We collected the data of 40 girls by using random sampling and recorded their marks. Set ⍺ value (significance level) to 0.05 to calculate the power of the test.\n",
    "\n",
    "    GRE scores = [311, 313, 309, 307, 302, 313, 305, 336, 322, 300, 335, 312, 282, 314, 310, 316, 301, 315, 299, 298, 308, \n",
    "                  315, 306, 321, 276, 306, 324, 308, 334, 277, 319, 322, 298, 300, 293, 333,305, 302, 317, 287]"
   ]
  },
  {
   "cell_type": "markdown",
   "metadata": {},
   "source": [
    "Let us check the normality of the data."
   ]
  },
  {
   "cell_type": "code",
   "execution_count": 42,
   "metadata": {},
   "outputs": [
    {
     "name": "stdout",
     "output_type": "stream",
     "text": [
      "Test statistic: 0.9695489406585693\n",
      "P-Value: 0.3482319712638855\n"
     ]
    }
   ],
   "source": [
    "# given GRE scores\n",
    "scores = [311, 313, 309, 307, 302, 313, 305, 336, 322, 300, 335, 312, 282, 314, 310, 316, 301, 315, 299, 298, 308, 315, 306, \n",
    "          321, 276, 306, 324, 308, 334, 277, 319, 322, 298, 300, 293, 333,305, 302, 317, 287]\n",
    "\n",
    "# perform Shapiro-Wilk test to test the normality\n",
    "# shapiro() returns a tuple having the values of test statistics and the corresponding p-value\n",
    "# pass the sample data to perform the test\n",
    "stat, p_value = shapiro(scores)\n",
    "\n",
    "# print the test statistic and corresponding p-value \n",
    "print('Test statistic:', stat)\n",
    "print('P-Value:', p_value)"
   ]
  },
  {
   "cell_type": "markdown",
   "metadata": {},
   "source": [
    "From the above result, we can see that the p-value is greater than 0.05, thus we can say that the data is normally distributed."
   ]
  },
  {
   "cell_type": "markdown",
   "metadata": {},
   "source": [
    "The null and alternative hypothesis is:\n",
    "\n",
    "H<sub>0</sub>: $\\mu \\leq 300$<br>\n",
    "H<sub>1</sub>: $\\mu > 300$"
   ]
  },
  {
   "cell_type": "markdown",
   "metadata": {},
   "source": [
    "Calculate the critical z-value for one-tailed test."
   ]
  },
  {
   "cell_type": "code",
   "execution_count": 43,
   "metadata": {},
   "outputs": [
    {
     "name": "stdout",
     "output_type": "stream",
     "text": [
      "Critical value for one-tailed Z-test: 1.6449\n"
     ]
    }
   ],
   "source": [
    "# calculate the z-value for 95% of confidence level\n",
    "# use 'stats.norm.isf()' to find the z-value corresponding to the upper tail probability 'q'\n",
    "# pass the value of 'alpha' to the parameter 'q', here alpha = 0.05\n",
    "# use 'round()' to round-off the value to 4 digits\n",
    "z_val = np.abs(round(stats.norm.isf(q = 0.05), 4))\n",
    "\n",
    "print('Critical value for one-tailed Z-test:', z_val)"
   ]
  },
  {
   "cell_type": "code",
   "execution_count": 44,
   "metadata": {},
   "outputs": [
    {
     "name": "stdout",
     "output_type": "stream",
     "text": [
      "Power of the test: 0.8707713725498709\n"
     ]
    }
   ],
   "source": [
    "# import the function to calculate the power of test\n",
    "from statsmodels.stats import power\n",
    "\n",
    "# given GRE scores\n",
    "scores = [311, 313, 309, 307, 302, 313, 305, 336, 322, 300, 335, 312, 282, 314, 310, 316, 301, 315, 299, 298, 308, 315, 306, \n",
    "          321, 276, 306, 324, 308, 334, 277, 319, 322, 298, 300, 293, 333,305, 302, 317, 287]\n",
    "\n",
    "# number of observations \n",
    "num_obs = len(scores)\n",
    "\n",
    "# calculate the sample mean\n",
    "samp_mean = np.mean(scores)\n",
    "\n",
    "# null hypothesis value\n",
    "hypo_mean = 300\n",
    "\n",
    "# population standard deviation\n",
    "pop_sd = 20\n",
    "\n",
    "# find the b such that, P(X > b) = alpha = 0.05\n",
    "# b is calculated for the below plot\n",
    "b = hypo_mean + (z_val*pop_sd)/np.sqrt(num_obs)\n",
    "\n",
    "# use 'zt_ind_solve_power()' to calculate the power of the z-test\n",
    "# keep the value of exact one parameter as 'None' to calculate the value of that parameter using remaining values \n",
    "# calculate the 'effect_size' using the sample_mean, null hypothesis value and population standard deviation\n",
    "# pass the sample size to the parameter, 'nobs1'\n",
    "# pass the value of alpha to the parameter, 'alpha'\n",
    "# pass 'None' to the parameter 'power' as we want to calculate its value\n",
    "# for one sample test, consider the 'ratio' as 0\n",
    "# pass the alternative for one-tailed test to the parameter, 'alternative'\n",
    "power = power.zt_ind_solve_power(effect_size = (samp_mean - hypo_mean)/pop_sd, \n",
    "                         nobs1 = num_obs, \n",
    "                         alpha = 0.05, \n",
    "                         power = None, \n",
    "                         ratio = 0, \n",
    "                         alternative = 'larger')\n",
    "\n",
    "print('Power of the test:', power)"
   ]
  },
  {
   "cell_type": "markdown",
   "metadata": {},
   "source": [
    "Here the power of the test is 0.87. Thus we can say that there is 87% chance that the test rejects a false null hypothesis. The higher value of power indicates the more powerful test.  \n",
    "\n",
    "Let us visualize the region of the type I error, type II error and the power of the test."
   ]
  },
  {
   "cell_type": "markdown",
   "metadata": {},
   "source": [
    "<img src='power.png'>"
   ]
  }
 ],
 "metadata": {
  "kernelspec": {
   "display_name": "Python 3",
   "language": "python",
   "name": "python3"
  },
  "language_info": {
   "codemirror_mode": {
    "name": "ipython",
    "version": 3
   },
   "file_extension": ".py",
   "mimetype": "text/x-python",
   "name": "python",
   "nbconvert_exporter": "python",
   "pygments_lexer": "ipython3",
   "version": "3.8.3"
  }
 },
 "nbformat": 4,
 "nbformat_minor": 2
}

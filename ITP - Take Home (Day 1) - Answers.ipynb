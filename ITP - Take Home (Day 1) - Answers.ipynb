#!/usr/bin/env python
# coding: utf-8

# <table align="center" width=100%>
#     <tr>
#         <td width="15%">
#             <img src="homework.png">
#         </td>
#         <td>
#             <div align="center">
#                 <font color="#21618C" size=8px>
#                     <b> Take-Home <br>(Day 1)
#                     </b>
#                 </font>
#             </div>
#         </td>
#     </tr>
# </table>

# ### Let's begin with some hands-on practice exercises

# <table align="left">
#     <tr>
#         <td width="6%">
#             <img src="question_icon.png">
#         </td>
#         <td>
#             <div align="left", style="font-size:120%">
#                 <font color="#21618C">
#                     <b>1. Write a program to convert the value of 'pi' to integer</b>
#                 </font>
#             </div>
#         </td>
#     </tr>
# </table>
# 

# In[2]:


pi = 3.14
print(int(pi))


# <table align="left">
#     <tr>
#         <td width="6%">
#             <img src="question_icon.png">
#         </td>
#         <td>
#             <div align="left", style="font-size:120%">
#                 <font color="#21618C">
#                     <b>2. Find the remainder after dividing 542 by 16</b>
#                 </font>
#             </div>
#         </td>
#     </tr>
# </table>

# In[3]:


print(542 % 16)


# <table align="left">
#     <tr>
#         <td width="6%">
#             <img src="question_icon.png">
#         </td>
#         <td>
#             <div align="left", style="font-size:120%">
#                 <font color="#21618C">
#                     <b>3.  Display the following pattern using single print() </b>
#                 </font>
#             </div>
#         </td>
#     </tr>
# </table>

#                                 *
#                                 **
#                                 ***
#                                 ****

# In[4]:


print('*')
print('**')
print('***')
print('****')


# <table align="left">
#     <tr>
#         <td width="6%">
#             <img src="question_icon.png">
#         </td>
#         <td>
#             <div align="left", style="font-size:120%">
#                 <font color="#21618C">
#                     <b>4. Write a pseudo code to check whether an entered letter is a vowel or not </b>
#                 </font>
#             </div>
#         </td>
#     </tr>
# </table>

# In[1]:


create a list with vowel in it as X
ask user to enter a alphabet 
convert user input to upper or lowwer depending upon the values entered in X
use if statement to check whether if alphabet is present in X 
if it exist in X print it is a vowel 
else print it is a consonant


# <table align="left">
#     <tr>
#         <td width="6%">
#             <img src="question_icon.png">
#         </td>
#         <td>
#             <div align="left", style="font-size:120%">
#                 <font color="#21618C">
#                     <b>5. Write a program to swap the two integers passed as runtime variables</b>
#                 </font>
#             </div>
#         </td>
#     </tr>
# </table>
# 

# In[4]:


x = 5
y = 7
 
print ("Before swapping: ")
print("Value of x : ", x, " and y : ", y)
 
# code to swap 'x' and 'y'
x, y = y, x
 
print ("After swapping: ")
print("Value of x : ", x, " and y : ", y)


# <table align="left">
#     <tr>
#         <td width="6%">
#             <img src="question_icon.png">
#         </td>
#         <td>
#             <div align="left", style="font-size:120%">
#                 <font color="#21618C">
#                     <b>6. Write a program to print the product of two numbers 'x' and 'y' </b>
#                     <br><br>
#                     <b> x = 10 ; y = "15"  </b>
#                 </font>
#             </div>
#         </td>
#     </tr>
# </table>

# In[3]:


x=10
y="15"
print(x*y)


# <table align="left">
#     <tr>
#         <td width="6%">
#             <img src="question_icon.png">
#         </td>
#         <td>
#             <div align="left", style="font-size:120%">
#                 <font color="#21618C">
#                     <b> 7. Write a pseudo code to check whether input is even number or odd number (take input from user)</b>
#                 </font>
#             </div>
#         </td>
#     </tr>
# </table>

# In[7]:


ask user to enter a number 
use if else statement to check whether the number is divisible by 2
if the number is divisible by 2 
print "the number is divisible by 2"
else print 'this is an odd number.'


# <table align="left">
#     <tr>
#         <td width="6%">
#             <img src="question_icon.png">
#         </td>
#         <td>
#             <div align="left", style="font-size:120%">
#                 <font color="#21618C">
#                     <b>8. Write a pseudo code to print whether a number is divisible by 9 and a multiple of 6 (take input from the user)</b>
#                 </font>
#             </div>
#         </td>
#     </tr>
# </table>

# In[1]:


ask user to enter a number 
use if else statement to check whether the input number is divisible by 9 and multiple of 6
if the the number is divisible by 9 and multiple of 6
print 'multiple of 6 and divisible by 9'
else print 'not a multiple of 6 or divisible by 9 '


# <table align="left">
#     <tr>
#         <td width="6%">
#             <img src="question_icon.png">
#         </td>
#         <td>
#             <div align="left", style="font-size:120%">
#                 <font color="#21618C">
#                     <b>9. Write a pseudo to take 5 values from user and print their average using while loop (take input from user)</b>
#                 </font>
#             </div>
#         </td>
#     </tr>
# </table>

# In[1]:


# type your code here

